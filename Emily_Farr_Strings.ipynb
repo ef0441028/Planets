{
 "cells": [
  {
   "cell_type": "markdown",
   "metadata": {},
   "source": [
    "Emily Farr"
   ]
  },
  {
   "cell_type": "code",
   "execution_count": 1,
   "metadata": {
    "collapsed": true
   },
   "outputs": [],
   "source": [
    "import numpy as np\n",
    "import pandas as pd"
   ]
  },
  {
   "cell_type": "markdown",
   "metadata": {},
   "source": [
    "### Read in the datafile `MainBelt.csv`"
   ]
  },
  {
   "cell_type": "code",
   "execution_count": 2,
   "metadata": {
    "collapsed": true
   },
   "outputs": [],
   "source": [
    "asteroid_table = pd.read_csv('MainBelt.csv', skiprows = 9, header = None)"
   ]
  },
  {
   "cell_type": "markdown",
   "metadata": {},
   "source": [
    "### Write a function to compute the Diameters of the MBAs\n",
    " * The largest asteroid should be D ~ 1000 km"
   ]
  },
  {
   "cell_type": "code",
   "execution_count": 3,
   "metadata": {
    "collapsed": true
   },
   "outputs": [],
   "source": [
    "cols = [\"Name\", \"Abs_Mag\", \"Geo_Alb\"]\n",
    "asteroid_table = pd.read_csv('MainBelt.csv', skiprows = 9, names = cols)"
   ]
  },
  {
   "cell_type": "code",
   "execution_count": 4,
   "metadata": {
    "collapsed": true
   },
   "outputs": [],
   "source": [
    "def find_d(x,y):\n",
    "    result = 1329/np.sqrt(x) * 10 ** (-0.2*y)\n",
    "    return result\n",
    "diameter = find_d(asteroid_table['Geo_Alb'], asteroid_table['Abs_Mag'])"
   ]
  },
  {
   "cell_type": "markdown",
   "metadata": {},
   "source": [
    "### Write a function to compute the Masses of the MBAs. Assume $\\rho$ = 3,000 kg/m$^3$\n",
    "* The most massive asteroid should be M ~ 1e21 kg"
   ]
  },
  {
   "cell_type": "code",
   "execution_count": 5,
   "metadata": {
    "collapsed": true
   },
   "outputs": [],
   "source": [
    "def find_m(diameter):\n",
    "    result = 3000*(1/6)*(np.pi)*((1000*diameter)**3)\n",
    "    return result\n",
    "mass = find_m(diameter)"
   ]
  },
  {
   "cell_type": "code",
   "execution_count": 6,
   "metadata": {},
   "outputs": [
    {
     "data": {
      "text/plain": [
       "count    2.026000e+03\n",
       "mean     1.552901e+18\n",
       "std      3.077336e+19\n",
       "min      2.702791e+14\n",
       "25%      9.462352e+15\n",
       "50%      3.337564e+16\n",
       "75%      1.974414e+17\n",
       "max      1.353104e+21\n",
       "dtype: float64"
      ]
     },
     "execution_count": 6,
     "metadata": {},
     "output_type": "execute_result"
    }
   ],
   "source": [
    "mass.describe()"
   ]
  },
  {
   "cell_type": "markdown",
   "metadata": {},
   "source": [
    "### List the names of the 5 most massive MBAs"
   ]
  },
  {
   "cell_type": "code",
   "execution_count": 40,
   "metadata": {},
   "outputs": [],
   "source": [
    "asteroid_table['mass'] = mass\n",
    "asteroid_table['diameter'] = diameter\n",
    "largest_mass = asteroid_table.sort_values(['mass'], ascending = False)"
   ]
  },
  {
   "cell_type": "code",
   "execution_count": 8,
   "metadata": {
    "collapsed": true
   },
   "outputs": [],
   "source": [
    "#d = Integer decimal                g = Floating point format (Uses exponential format if exponent is less than -4)\n",
    "#f = Floating point decimal         x = hex\n",
    "#s = String                         o = octal\n",
    "#e = Floating point exponential     b = binary"
   ]
  },
  {
   "cell_type": "code",
   "execution_count": 41,
   "metadata": {},
   "outputs": [
    {
     "name": "stdout",
     "output_type": "stream",
     "text": [
      "At number 0 is      1 Ceres with a mass of 1e+21 kg\n",
      "At number 1 is      2 Pallas with a mass of 2e+20 kg\n",
      "At number 2 is      4 Vesta with a mass of 2e+19 kg\n",
      "At number 3 is     10 Hygiea with a mass of 2e+20 kg\n",
      "At number 4 is    511 Davida (1903 LU) with a mass of 3e+18 kg\n"
     ]
    }
   ],
   "source": [
    "for idx,val in enumerate(largest_mass['Name'][0:5]):\n",
    "    \n",
    "    Mass = largest_mass['mass'][idx]\n",
    "    \n",
    "    my_s = (\"At number {0:d} is {1:s} with a mass of {2:.1g} kg\".format(idx,val,Mass))\n",
    "    print(my_s)"
   ]
  },
  {
   "cell_type": "code",
   "execution_count": 48,
   "metadata": {},
   "outputs": [
    {
     "data": {
      "text/html": [
       "<div>\n",
       "<style>\n",
       "    .dataframe thead tr:only-child th {\n",
       "        text-align: right;\n",
       "    }\n",
       "\n",
       "    .dataframe thead th {\n",
       "        text-align: left;\n",
       "    }\n",
       "\n",
       "    .dataframe tbody tr th {\n",
       "        vertical-align: top;\n",
       "    }\n",
       "</style>\n",
       "<table border=\"1\" class=\"dataframe\">\n",
       "  <thead>\n",
       "    <tr style=\"text-align: right;\">\n",
       "      <th></th>\n",
       "      <th>Name</th>\n",
       "      <th>Abs_Mag</th>\n",
       "      <th>Geo_Alb</th>\n",
       "      <th>mass</th>\n",
       "      <th>diameter</th>\n",
       "    </tr>\n",
       "  </thead>\n",
       "  <tbody>\n",
       "    <tr>\n",
       "      <th>1774</th>\n",
       "      <td>6295 Schmoll (1988 CF3)</td>\n",
       "      <td>14.0</td>\n",
       "      <td>0.1114</td>\n",
       "      <td>3.947908e+14</td>\n",
       "      <td>6.310770</td>\n",
       "    </tr>\n",
       "    <tr>\n",
       "      <th>1597</th>\n",
       "      <td>4121 Carlin (1986 JH)</td>\n",
       "      <td>12.6</td>\n",
       "      <td>0.4164</td>\n",
       "      <td>3.779451e+14</td>\n",
       "      <td>6.219703</td>\n",
       "    </tr>\n",
       "    <tr>\n",
       "      <th>1492</th>\n",
       "      <td>3338 Richter (1973 UX5)</td>\n",
       "      <td>14.2</td>\n",
       "      <td>0.1000</td>\n",
       "      <td>3.521233e+14</td>\n",
       "      <td>6.074702</td>\n",
       "    </tr>\n",
       "    <tr>\n",
       "      <th>1630</th>\n",
       "      <td>4335 Verona (1983 VC7)</td>\n",
       "      <td>13.3</td>\n",
       "      <td>0.2418</td>\n",
       "      <td>3.247210e+14</td>\n",
       "      <td>5.912850</td>\n",
       "    </tr>\n",
       "    <tr>\n",
       "      <th>2024</th>\n",
       "      <td>26604 (2000 FO25)</td>\n",
       "      <td>12.8</td>\n",
       "      <td>0.4331</td>\n",
       "      <td>2.702791e+14</td>\n",
       "      <td>5.561999</td>\n",
       "    </tr>\n",
       "  </tbody>\n",
       "</table>\n",
       "</div>"
      ],
      "text/plain": [
       "                           Name  Abs_Mag  Geo_Alb          mass  diameter\n",
       "1774    6295 Schmoll (1988 CF3)     14.0   0.1114  3.947908e+14  6.310770\n",
       "1597      4121 Carlin (1986 JH)     12.6   0.4164  3.779451e+14  6.219703\n",
       "1492    3338 Richter (1973 UX5)     14.2   0.1000  3.521233e+14  6.074702\n",
       "1630     4335 Verona (1983 VC7)     13.3   0.2418  3.247210e+14  5.912850\n",
       "2024          26604 (2000 FO25)     12.8   0.4331  2.702791e+14  5.561999"
      ]
     },
     "execution_count": 48,
     "metadata": {},
     "output_type": "execute_result"
    }
   ],
   "source": [
    "smallest_mass = a[-5:]\n",
    "smallest_mass"
   ]
  },
  {
   "cell_type": "markdown",
   "metadata": {},
   "source": [
    "### List the names of the 5 least massive MBAs"
   ]
  },
  {
   "cell_type": "code",
   "execution_count": 55,
   "metadata": {
    "scrolled": true
   },
   "outputs": [
    {
     "name": "stdout",
     "output_type": "stream",
     "text": [
      "At number 0 is   6295 Schmoll (1988 CF3) with a mass of 1e+21 kg\n",
      "At number 1 is   4121 Carlin (1986 JH) with a mass of 2e+20 kg\n",
      "At number 2 is   3338 Richter (1973 UX5) with a mass of 2e+19 kg\n",
      "At number 3 is   4335 Verona (1983 VC7) with a mass of 2e+20 kg\n",
      "At number 4 is  26604 (2000 FO25) with a mass of 3e+18 kg\n"
     ]
    }
   ],
   "source": [
    "for idx,val in enumerate(largest_mass['Name'][-5:]):\n",
    "    \n",
    "    Mass_s = largest_mass['mass'][idx]\n",
    "    \n",
    "    my_s = (\"At number {0:d} is {1:s} with a mass of {2:.1g} kg\".format(idx,val,Mass_s))\n",
    "    print(my_s)"
   ]
  },
  {
   "cell_type": "code",
   "execution_count": 73,
   "metadata": {
    "collapsed": true
   },
   "outputs": [],
   "source": [
    "A = 3.16e+21\n",
    "B = 59.4\n",
    "C = 150\n",
    "D = 4.28"
   ]
  },
  {
   "cell_type": "code",
   "execution_count": 79,
   "metadata": {},
   "outputs": [
    {
     "name": "stdout",
     "output_type": "stream",
     "text": [
      "\n",
      "The total mass of the main belt of the asteroid belt is 3e+21 kg, of which 59.400000%\n",
      "of the total mass in contained in the five most massive asteroids. In fact, the 150 largest\n",
      "asteroids account for 90% of the total mass of the main belt. The Moon is 4.280000 times more \n",
      "massive than the total mass of the main belt asteroids.\n",
      "\n"
     ]
    }
   ],
   "source": [
    "summary = (\n",
    "\"\"\"\n",
    "The total mass of the main belt of the asteroid belt is {0:.1g} kg, of which {1:f}%\n",
    "of the total mass in contained in the five most massive asteroids. In fact, the {2:d} largest\n",
    "asteroids account for 90% of the total mass of the main belt. The Moon is {3:f} times more \n",
    "massive than the total mass of the main belt asteroids.\n",
    "\"\"\"\n",
    ".format(A,B,C,D)\n",
    ")\n",
    "\n",
    "\n",
    "print(summary)"
   ]
  },
  {
   "cell_type": "markdown",
   "metadata": {},
   "source": [
    "### Determine the total mass of all of the MBAs"
   ]
  },
  {
   "cell_type": "code",
   "execution_count": 69,
   "metadata": {},
   "outputs": [
    {
     "data": {
      "text/plain": [
       "3.146177625451557e+21"
      ]
     },
     "execution_count": 69,
     "metadata": {},
     "output_type": "execute_result"
    }
   ],
   "source": [
    "total_mass = mass.sum()\n",
    "total_mass"
   ]
  },
  {
   "cell_type": "markdown",
   "metadata": {},
   "source": [
    "### Determine the fraction of the total mass contained in the 5 largest MBAs"
   ]
  },
  {
   "cell_type": "code",
   "execution_count": 12,
   "metadata": {},
   "outputs": [
    {
     "data": {
      "text/plain": [
       "59.400762222979509"
      ]
     },
     "execution_count": 12,
     "metadata": {},
     "output_type": "execute_result"
    }
   ],
   "source": [
    "e = largest_mass['mass']\n",
    "mass_in_L = e.sum()\n",
    "fraction_of_total = (mass_in_L/total_mass)*100\n",
    "fraction_of_total"
   ]
  },
  {
   "cell_type": "markdown",
   "metadata": {},
   "source": [
    "### How does the total mass of the MBAs compare to the mass of the Moon ($7.35\\ \\times\\ 10^{22}$ kg)?"
   ]
  },
  {
   "cell_type": "code",
   "execution_count": 13,
   "metadata": {},
   "outputs": [
    {
     "data": {
      "text/plain": [
       "4.2805137761245682"
      ]
     },
     "execution_count": 13,
     "metadata": {},
     "output_type": "execute_result"
    }
   ],
   "source": [
    "mass_of_moon = 7.35*10**22\n",
    "mba_percent_of_moon = (total_mass/mass_of_moon)*100\n",
    "mba_percent_of_moon"
   ]
  },
  {
   "cell_type": "code",
   "execution_count": 14,
   "metadata": {},
   "outputs": [
    {
     "name": "stdout",
     "output_type": "stream",
     "text": [
      "The total mass of the asteroids is ~4.28% of the mass of the moon.\n"
     ]
    }
   ],
   "source": [
    "print(\"The total mass of the asteroids is ~4.28% of the mass of the moon.\")"
   ]
  },
  {
   "cell_type": "markdown",
   "metadata": {},
   "source": [
    "### How many MBAs does it take to get 90% of the total mass of the MBAs (start from the most massive)"
   ]
  },
  {
   "cell_type": "code",
   "execution_count": 15,
   "metadata": {},
   "outputs": [
    {
     "data": {
      "text/plain": [
       "2.8315598629064016e+21"
      ]
     },
     "execution_count": 15,
     "metadata": {},
     "output_type": "execute_result"
    }
   ],
   "source": [
    "ninety_percent_mass = total_mass*(0.9)\n",
    "ninety_percent_mass"
   ]
  },
  {
   "cell_type": "code",
   "execution_count": 58,
   "metadata": {},
   "outputs": [
    {
     "data": {
      "text/plain": [
       "2.8324804789870034e+21"
      ]
     },
     "execution_count": 58,
     "metadata": {},
     "output_type": "execute_result"
    }
   ],
   "source": [
    "b = asteroid_table.sort_values(['mass'], ascending = False)\n",
    "test_number = b[:150]\n",
    "mass_of_number_of_test_number = test_number['mass']\n",
    "F = mass_of_number_of_test_number.sum()\n",
    "F"
   ]
  },
  {
   "cell_type": "code",
   "execution_count": 17,
   "metadata": {},
   "outputs": [
    {
     "name": "stdout",
     "output_type": "stream",
     "text": [
      "The sum of the largest 150 asteroids ~ 90% of the total mass\n"
     ]
    }
   ],
   "source": [
    "print(\"The sum of the largest 150 asteroids ~ 90% of the total mass\")"
   ]
  },
  {
   "cell_type": "markdown",
   "metadata": {},
   "source": [
    "### Due Tue Oct 17 - 5pm\n",
    "- `Make sure to change the filename to your name!`\n",
    "- `Make sure to change the Title to your name!`\n",
    "- `File -> Download as -> HTML (.html)`\n",
    "- `upload your .html and .ipynb file to the class Canvas page`  "
   ]
  },
  {
   "cell_type": "markdown",
   "metadata": {},
   "source": [
    "***\n",
    "\n",
    "## Absolute Magnitude, Size and Mass\n",
    "\n",
    "The absolute magnitude **H** of a solar system object is the magnitude that it would have if it was 1 AU from the Earth and 1 AU from the Sun while having a phase angle of 0 degrees. Remember, astronomical magnitudes are \"backwards\".  The magnitude of a bright object is *less* than the magnitude of a dimmer object.\n",
    "\n",
    "The phase angle **$\\theta$** in astronomical observations is the angle between the light incident onto an observed object and the light reflected from the object. In the context of astronomical observations, this is usually the angle $\\angle$ Sun-object-observer.\n",
    "\n",
    "![Phase Angle](images/Phase.jpg)\n",
    "\n",
    "It is actually impossible for an object to be 1 AU from the Earth and 1 AU from the Sun while having a phase angle of 0 degrees. The Sun and the Earth would occupy the same point.  However, this is the definition of **H**.  Please note, that the definition of absolute magnitude for solar system objects is *very* different from the definition of absolute magnitude used for stars.\n",
    "\n",
    "The Absolute magnitude of an object is related to the physical size of the object via the equation:\n",
    "\n",
    "$$\\large D\\ (\\textrm{in km}) = \\frac{1329}{\\sqrt{A}}\\  10^{-0.2H}$$\n",
    "\n",
    "Where **D** is the diameter of the object in kilometers and **A** is the geometric albedo of the object. \n",
    "\n",
    "The geometric albedo **A** of an astronomical body is the ratio of its actual brightness at zero phase angle (i.e., as seen from the light source) to that of an idealized flat, fully reflecting, diffusively scattering disk with the same cross-section.\n",
    "\n",
    "Perfect reflectors of light have A = 1 and perfect absorbers have **A** = 0. Typical asteroids have a wide range of values: 0.02 $<$ A $<$ 0.8.\n",
    "\n",
    "Once we have the diameter of the object, we can determine the mass if we know the density ($\\rho$).\n",
    "\n",
    "$ \\large \\mathrm{Mass} = \\rho \\cdot \\mathrm{Volume} = \\rho \\cdot \\frac{4}{3} \\pi r^3 \\ = \\ \\rho \\cdot \\frac{1}{6} \\pi D^3 $\n",
    "\n",
    "This assumes that the object is spherical (this is **not** a very good assumption for asteroids)."
   ]
  }
 ],
 "metadata": {
  "anaconda-cloud": {},
  "kernelspec": {
   "display_name": "Python 3",
   "language": "python",
   "name": "python3"
  },
  "language_info": {
   "codemirror_mode": {
    "name": "ipython",
    "version": 3
   },
   "file_extension": ".py",
   "mimetype": "text/x-python",
   "name": "python",
   "nbconvert_exporter": "python",
   "pygments_lexer": "ipython3",
   "version": "3.6.2"
  }
 },
 "nbformat": 4,
 "nbformat_minor": 1
}
