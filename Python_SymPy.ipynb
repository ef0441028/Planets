{
 "cells": [
  {
   "cell_type": "markdown",
   "metadata": {},
   "source": [
    "# Python - `SymPy`,  and $\\LaTeX$"
   ]
  },
  {
   "cell_type": "code",
   "execution_count": 8,
   "metadata": {
    "collapsed": true
   },
   "outputs": [],
   "source": [
    "%matplotlib inline\n",
    "\n",
    "import sympy as sp\n",
    "import numpy as np\n",
    "import matplotlib.pyplot as plt"
   ]
  },
  {
   "cell_type": "markdown",
   "metadata": {},
   "source": [
    "# Symbolic Mathematics (`SymPy`)"
   ]
  },
  {
   "cell_type": "code",
   "execution_count": 2,
   "metadata": {
    "collapsed": true
   },
   "outputs": [],
   "source": [
    "sp.init_printing()     # Turns on pretty printing"
   ]
  },
  {
   "cell_type": "code",
   "execution_count": 3,
   "metadata": {},
   "outputs": [
    {
     "data": {
      "image/png": "[encoded data removed]",
      "text/latex": [
       "$$2.82842712475$$"
      ],
      "text/plain": [
       "2.82842712475"
      ]
     },
     "execution_count": 3,
     "metadata": {},
     "output_type": "execute_result"
    }
   ],
   "source": [
    "np.sqrt(8)"
   ]
  },
  {
   "cell_type": "code",
   "execution_count": 4,
   "metadata": {},
   "outputs": [
    {
     "data": {
      "image/png": "[encoded data removed]",
      "text/latex": [
       "$$2 \\sqrt{2}$$"
      ],
      "text/plain": [
       "2⋅√2"
      ]
     },
     "execution_count": 4,
     "metadata": {},
     "output_type": "execute_result"
    }
   ],
   "source": [
    "sp.sqrt(8)"
   ]
  },
  {
   "cell_type": "markdown",
   "metadata": {},
   "source": [
    "## You have to explicitly tell `SymPy` what symbols you want to use."
   ]
  },
  {
   "cell_type": "code",
   "execution_count": 5,
   "metadata": {
    "collapsed": true
   },
   "outputs": [],
   "source": [
    "x, y, z  = sp.symbols('x y z')"
   ]
  },
  {
   "cell_type": "markdown",
   "metadata": {},
   "source": [
    "## Expressions are then able use these symbols"
   ]
  },
  {
   "cell_type": "code",
   "execution_count": 6,
   "metadata": {},
   "outputs": [
    {
     "data": {
      "image/png": "[encoded data removed]",
      "text/latex": [
       "$$2 x + y$$"
      ],
      "text/plain": [
       "2⋅x + y"
      ]
     },
     "execution_count": 6,
     "metadata": {},
     "output_type": "execute_result"
    }
   ],
   "source": [
    "my_equation = 2 * x + y\n",
    "my_equation"
   ]
  },
  {
   "cell_type": "code",
   "execution_count": 7,
   "metadata": {},
   "outputs": [
    {
     "data": {
      "image/png": "[encoded data removed]",
      "text/latex": [
       "$$2 x + y + 3$$"
      ],
      "text/plain": [
       "2⋅x + y + 3"
      ]
     },
     "execution_count": 7,
     "metadata": {},
     "output_type": "execute_result"
    }
   ],
   "source": [
    "my_equation + 3"
   ]
  },
  {
   "cell_type": "code",
   "execution_count": 8,
   "metadata": {},
   "outputs": [
    {
     "data": {
      "image/png": "[encoded data removed]",
      "text/latex": [
       "$$x + y$$"
      ],
      "text/plain": [
       "x + y"
      ]
     },
     "execution_count": 8,
     "metadata": {},
     "output_type": "execute_result"
    }
   ],
   "source": [
    "my_equation - x"
   ]
  },
  {
   "cell_type": "code",
   "execution_count": 9,
   "metadata": {},
   "outputs": [
    {
     "data": {
      "image/png": "[encoded data removed]",
      "text/latex": [
       "$$\\frac{1}{x} \\left(2 x + y\\right)$$"
      ],
      "text/plain": [
       "2⋅x + y\n",
       "───────\n",
       "   x   "
      ]
     },
     "execution_count": 9,
     "metadata": {},
     "output_type": "execute_result"
    }
   ],
   "source": [
    "my_equation / x"
   ]
  },
  {
   "cell_type": "markdown",
   "metadata": {},
   "source": [
    "## `SymPy` has all sorts of ways to manipulates symbolic equations"
   ]
  },
  {
   "cell_type": "code",
   "execution_count": 10,
   "metadata": {},
   "outputs": [
    {
     "data": {
      "image/png": "[encoded data removed]",
      "text/latex": [
       "$$2 + \\frac{y}{x}$$"
      ],
      "text/plain": [
       "    y\n",
       "2 + ─\n",
       "    x"
      ]
     },
     "execution_count": 10,
     "metadata": {},
     "output_type": "execute_result"
    }
   ],
   "source": [
    "sp.simplify(my_equation / x)"
   ]
  },
  {
   "cell_type": "code",
   "execution_count": 11,
   "metadata": {},
   "outputs": [
    {
     "data": {
      "image/png": "[encoded data removed]",
      "text/latex": [
       "$$\\left(x - 3\\right) \\left(x + 2\\right)$$"
      ],
      "text/plain": [
       "(x - 3)⋅(x + 2)"
      ]
     },
     "execution_count": 11,
     "metadata": {},
     "output_type": "execute_result"
    }
   ],
   "source": [
    "another_equation = (x + 2) * (x - 3)\n",
    "another_equation"
   ]
  },
  {
   "cell_type": "code",
   "execution_count": 12,
   "metadata": {},
   "outputs": [
    {
     "data": {
      "image/png": "[encoded data removed]",
      "text/latex": [
       "$$x^{2} - x - 6$$"
      ],
      "text/plain": [
       " 2        \n",
       "x  - x - 6"
      ]
     },
     "execution_count": 12,
     "metadata": {},
     "output_type": "execute_result"
    }
   ],
   "source": [
    "sp.expand(another_equation)"
   ]
  },
  {
   "cell_type": "code",
   "execution_count": 13,
   "metadata": {},
   "outputs": [
    {
     "data": {
      "image/png": "[encoded data removed]",
      "text/latex": [
       "$$2 x^{3} y + x^{3} + 2 x^{2} y + 4 x^{2} + x y + 3 x + 8$$"
      ],
      "text/plain": [
       "   3      3      2        2                \n",
       "2⋅x ⋅y + x  + 2⋅x ⋅y + 4⋅x  + x⋅y + 3⋅x + 8"
      ]
     },
     "execution_count": 13,
     "metadata": {},
     "output_type": "execute_result"
    }
   ],
   "source": [
    "long_equation = 2*y*x**3 + 12*x**2 - x + 3 - 8*x**2 + 4*x + x**3 + 5 + 2*y*x**2 + x*y\n",
    "long_equation"
   ]
  },
  {
   "cell_type": "code",
   "execution_count": 14,
   "metadata": {},
   "outputs": [
    {
     "data": {
      "image/png": "[encoded data removed]",
      "text/latex": [
       "$$x^{3} \\left(2 y + 1\\right) + x^{2} \\left(2 y + 4\\right) + x \\left(y + 3\\right) + 8$$"
      ],
      "text/plain": [
       " 3              2                          \n",
       "x ⋅(2⋅y + 1) + x ⋅(2⋅y + 4) + x⋅(y + 3) + 8"
      ]
     },
     "execution_count": 14,
     "metadata": {},
     "output_type": "execute_result"
    }
   ],
   "source": [
    "sp.collect(long_equation,x)"
   ]
  },
  {
   "cell_type": "code",
   "execution_count": 15,
   "metadata": {},
   "outputs": [
    {
     "data": {
      "image/png": "[encoded data removed]",
      "text/latex": [
       "$$x^{3} + 4 x^{2} + 3 x + y \\left(2 x^{3} + 2 x^{2} + x\\right) + 8$$"
      ],
      "text/plain": [
       " 3      2           ⎛   3      2    ⎞    \n",
       "x  + 4⋅x  + 3⋅x + y⋅⎝2⋅x  + 2⋅x  + x⎠ + 8"
      ]
     },
     "execution_count": 15,
     "metadata": {},
     "output_type": "execute_result"
    }
   ],
   "source": [
    "sp.collect(long_equation,y)"
   ]
  },
  {
   "cell_type": "markdown",
   "metadata": {},
   "source": [
    "## And solve equations - `solve`"
   ]
  },
  {
   "cell_type": "code",
   "execution_count": 16,
   "metadata": {},
   "outputs": [
    {
     "data": {
      "image/png": "[encoded data removed]",
      "text/latex": [
       "$$2 x^{2} - 5 x + 30$$"
      ],
      "text/plain": [
       "   2           \n",
       "2⋅x  - 5⋅x + 30"
      ]
     },
     "execution_count": 16,
     "metadata": {},
     "output_type": "execute_result"
    }
   ],
   "source": [
    "yet_another_equation = 2 * x**2 - 5 * x + 30\n",
    "\n",
    "yet_another_equation"
   ]
  },
  {
   "cell_type": "code",
   "execution_count": 17,
   "metadata": {},
   "outputs": [
    {
     "data": {
      "image/png": "[encoded data removed]",
      "text/latex": [
       "$$\\left [ \\frac{5}{4} - \\frac{\\sqrt{215} i}{4}, \\quad \\frac{5}{4} + \\frac{\\sqrt{215} i}{4}\\right ]$$"
      ],
      "text/plain": [
       "⎡5   √215⋅ⅈ  5   √215⋅ⅈ⎤\n",
       "⎢─ - ──────, ─ + ──────⎥\n",
       "⎣4     4     4     4   ⎦"
      ]
     },
     "execution_count": 17,
     "metadata": {},
     "output_type": "execute_result"
    }
   ],
   "source": [
    "sp.solve(yet_another_equation,x)"
   ]
  },
  {
   "cell_type": "markdown",
   "metadata": {},
   "source": [
    "## Calculus"
   ]
  },
  {
   "cell_type": "code",
   "execution_count": 18,
   "metadata": {},
   "outputs": [
    {
     "data": {
      "image/png": "[encoded data removed]",
      "text/latex": [
       "$$2 x^{2} - 5 x + 30$$"
      ],
      "text/plain": [
       "   2           \n",
       "2⋅x  - 5⋅x + 30"
      ]
     },
     "execution_count": 18,
     "metadata": {},
     "output_type": "execute_result"
    }
   ],
   "source": [
    "yet_another_equation"
   ]
  },
  {
   "cell_type": "code",
   "execution_count": 19,
   "metadata": {},
   "outputs": [
    {
     "data": {
      "image/png": "[encoded data removed]",
      "text/latex": [
       "$$4 x - 5$$"
      ],
      "text/plain": [
       "4⋅x - 5"
      ]
     },
     "execution_count": 19,
     "metadata": {},
     "output_type": "execute_result"
    }
   ],
   "source": [
    "sp.diff(yet_another_equation,x)"
   ]
  },
  {
   "cell_type": "code",
   "execution_count": 20,
   "metadata": {},
   "outputs": [
    {
     "data": {
      "image/png": "[encoded data removed]",
      "text/latex": [
       "$$4$$"
      ],
      "text/plain": [
       "4"
      ]
     },
     "execution_count": 20,
     "metadata": {},
     "output_type": "execute_result"
    }
   ],
   "source": [
    "sp.diff(yet_another_equation,x,2)"
   ]
  },
  {
   "cell_type": "code",
   "execution_count": 21,
   "metadata": {},
   "outputs": [
    {
     "data": {
      "image/png": "[encoded data removed]",
      "text/latex": [
       "$$\\frac{2 x^{3}}{3} - \\frac{5 x^{2}}{2} + 30 x$$"
      ],
      "text/plain": [
       "   3      2       \n",
       "2⋅x    5⋅x        \n",
       "──── - ──── + 30⋅x\n",
       " 3      2         "
      ]
     },
     "execution_count": 21,
     "metadata": {},
     "output_type": "execute_result"
    }
   ],
   "source": [
    "sp.integrate(yet_another_equation,x)"
   ]
  },
  {
   "cell_type": "code",
   "execution_count": 22,
   "metadata": {},
   "outputs": [
    {
     "data": {
      "image/png": "[encoded data removed]",
      "text/latex": [
       "$$\\frac{1025}{6}$$"
      ],
      "text/plain": [
       "1025/6"
      ]
     },
     "execution_count": 22,
     "metadata": {},
     "output_type": "execute_result"
    }
   ],
   "source": [
    "sp.integrate(yet_another_equation,(x,0,5))   # limits x = 0 to 5"
   ]
  },
  {
   "cell_type": "markdown",
   "metadata": {},
   "source": [
    "## Taylor Expansions"
   ]
  },
  {
   "cell_type": "code",
   "execution_count": 23,
   "metadata": {},
   "outputs": [
    {
     "data": {
      "image/png": "[encoded data removed]",
      "text/latex": [
       "$$e^{- x} \\sin{\\left (x \\right )}$$"
      ],
      "text/plain": [
       " -x       \n",
       "ℯ  ⋅sin(x)"
      ]
     },
     "execution_count": 23,
     "metadata": {},
     "output_type": "execute_result"
    }
   ],
   "source": [
    "still_another_equation = sp.sin(x) * sp.exp(-x)\n",
    "still_another_equation"
   ]
  },
  {
   "cell_type": "code",
   "execution_count": 24,
   "metadata": {},
   "outputs": [
    {
     "data": {
      "image/png": "[encoded data removed]",
      "text/latex": [
       "$$x - x^{2} + \\frac{x^{3}}{3} - \\frac{x^{5}}{30} + \\mathcal{O}\\left(x^{6}\\right)$$"
      ],
      "text/plain": [
       "          3    5        \n",
       "     2   x    x     ⎛ 6⎞\n",
       "x - x  + ── - ── + O⎝x ⎠\n",
       "         3    30        "
      ]
     },
     "execution_count": 24,
     "metadata": {},
     "output_type": "execute_result"
    }
   ],
   "source": [
    "sp.series(still_another_equation, x)"
   ]
  },
  {
   "cell_type": "code",
   "execution_count": 25,
   "metadata": {},
   "outputs": [
    {
     "data": {
      "image/png": "[encoded data removed]",
      "text/latex": [
       "$$x - x^{2} + \\frac{x^{3}}{3} - \\frac{x^{5}}{30} + \\frac{x^{6}}{90} - \\frac{x^{7}}{630} + \\mathcal{O}\\left(x^{8}\\right)$$"
      ],
      "text/plain": [
       "          3    5    6     7        \n",
       "     2   x    x    x     x     ⎛ 8⎞\n",
       "x - x  + ── - ── + ── - ─── + O⎝x ⎠\n",
       "         3    30   90   630        "
      ]
     },
     "execution_count": 25,
     "metadata": {},
     "output_type": "execute_result"
    }
   ],
   "source": [
    "sp.series(still_another_equation, x, x0 = 0, n = 8)"
   ]
  },
  {
   "cell_type": "code",
   "execution_count": 26,
   "metadata": {},
   "outputs": [
    {
     "data": {
      "image/png": "[encoded data removed]",
      "text/latex": [
       "$$- \\frac{1}{e^{\\pi}} \\left(x - \\pi\\right) + \\frac{1}{e^{\\pi}} \\left(x - \\pi\\right)^{2} - \\frac{\\left(x - \\pi\\right)^{3}}{3 e^{\\pi}} + \\frac{\\left(x - \\pi\\right)^{5}}{30 e^{\\pi}} - \\frac{\\left(x - \\pi\\right)^{6}}{90 e^{\\pi}} + \\frac{\\left(x - \\pi\\right)^{7}}{630 e^{\\pi}} + \\mathcal{O}\\left(\\left(x - \\pi\\right)^{8}; x\\rightarrow \\pi\\right)$$"
      ],
      "text/plain": [
       "                                      3  -π          5  -π          6  -π     \n",
       "           -π          2  -π   (x - π) ⋅ℯ     (x - π) ⋅ℯ     (x - π) ⋅ℯ     (x\n",
       "- (x - π)⋅ℯ   + (x - π) ⋅ℯ   - ──────────── + ──────────── - ──────────── + ──\n",
       "                                    3              30             90          \n",
       "\n",
       "     7  -π                     \n",
       " - π) ⋅ℯ      ⎛       8       ⎞\n",
       "────────── + O⎝(x - π) ; x → π⎠\n",
       "  630                          "
      ]
     },
     "execution_count": 26,
     "metadata": {},
     "output_type": "execute_result"
    }
   ],
   "source": [
    "sp.series(still_another_equation, x, x0 = sp.pi, n = 8)"
   ]
  },
  {
   "cell_type": "markdown",
   "metadata": {},
   "source": [
    "## Limits\n",
    "\n",
    "$$\\lim _{x\\to \\infty }\\left(1+{\\frac {1}{x}}\\right)^{x}$$"
   ]
  },
  {
   "cell_type": "code",
   "execution_count": 27,
   "metadata": {},
   "outputs": [
    {
     "data": {
      "image/png": "[encoded data removed]",
      "text/latex": [
       "$$\\left(1 + \\frac{1}{x}\\right)^{x}$$"
      ],
      "text/plain": [
       "       x\n",
       "⎛    1⎞ \n",
       "⎜1 + ─⎟ \n",
       "⎝    x⎠ "
      ]
     },
     "execution_count": 27,
     "metadata": {},
     "output_type": "execute_result"
    }
   ],
   "source": [
    "limit_equation = (1 + (1 / x)) ** x\n",
    "\n",
    "limit_equation"
   ]
  },
  {
   "cell_type": "code",
   "execution_count": 28,
   "metadata": {},
   "outputs": [
    {
     "data": {
      "image/png": "[encoded data removed]",
      "text/latex": [
       "$$e$$"
      ],
      "text/plain": [
       "ℯ"
      ]
     },
     "execution_count": 28,
     "metadata": {},
     "output_type": "execute_result"
    }
   ],
   "source": [
    "sp.limit(limit_equation, x, sp.oo)      # sp.oo = infinity"
   ]
  },
  {
   "cell_type": "markdown",
   "metadata": {},
   "source": [
    "## System of equations"
   ]
  },
  {
   "cell_type": "markdown",
   "metadata": {},
   "source": [
    "$$\n",
    "\\begin{array}{c}\n",
    "x + 3y + 5z = 10 \\\\\n",
    "2x + 5y + z = 8 \\\\\n",
    "2x + 3y + 8z = 3 \\\\\n",
    "\\end{array}\n",
    "\\hspace{3cm}\n",
    "\\left[\n",
    "\\begin{array}{ccc}\n",
    "1 & 3 & 5 \\\\\n",
    "2 & 5 & 1 \\\\\n",
    "2 & 3 & 8 \n",
    "\\end{array}\n",
    "\\right]\n",
    "\\left[\n",
    "\\begin{array}{c}\n",
    "x\\\\\n",
    "y\\\\\n",
    "z \n",
    "\\end{array}\n",
    "\\right]\n",
    "=\n",
    "\\left[\n",
    "\\begin{array}{c}\n",
    "10\\\\\n",
    "8\\\\\n",
    "3 \n",
    "\\end{array}\n",
    "\\right]\n",
    "$$"
   ]
  },
  {
   "cell_type": "code",
   "execution_count": 29,
   "metadata": {
    "collapsed": true
   },
   "outputs": [],
   "source": [
    "AA = sp.Matrix([[1,3,5],[2,5,1],[2,3,8]])\n",
    "bb = sp.Matrix([[10],[8],[3]])"
   ]
  },
  {
   "cell_type": "code",
   "execution_count": 30,
   "metadata": {},
   "outputs": [
    {
     "data": {
      "text/latex": [
       "$$\\left ( \\left[\\begin{matrix}1 & 3 & 5\\\\2 & 5 & 1\\\\2 & 3 & 8\\end{matrix}\\right], \\quad \\left[\\begin{matrix}10\\\\8\\\\3\\end{matrix}\\right]\\right )$$"
      ],
      "text/plain": [
       "⎛⎡1  3  5⎤  ⎡10⎤⎞\n",
       "⎜⎢       ⎥  ⎢  ⎥⎟\n",
       "⎜⎢2  5  1⎥, ⎢8 ⎥⎟\n",
       "⎜⎢       ⎥  ⎢  ⎥⎟\n",
       "⎝⎣2  3  8⎦  ⎣3 ⎦⎠"
      ]
     },
     "execution_count": 30,
     "metadata": {},
     "output_type": "execute_result"
    }
   ],
   "source": [
    "AA, bb"
   ]
  },
  {
   "cell_type": "code",
   "execution_count": 31,
   "metadata": {},
   "outputs": [
    {
     "data": {
      "text/latex": [
       "$$\\left[\\begin{matrix}- \\frac{37}{25} & \\frac{9}{25} & \\frac{22}{25}\\\\\\frac{14}{25} & \\frac{2}{25} & - \\frac{9}{25}\\\\\\frac{4}{25} & - \\frac{3}{25} & \\frac{1}{25}\\end{matrix}\\right]$$"
      ],
      "text/plain": [
       "⎡-37           22  ⎤\n",
       "⎢────  9/25    ──  ⎥\n",
       "⎢ 25           25  ⎥\n",
       "⎢                  ⎥\n",
       "⎢ 14               ⎥\n",
       "⎢ ──   2/25   -9/25⎥\n",
       "⎢ 25               ⎥\n",
       "⎢                  ⎥\n",
       "⎣4/25  -3/25  1/25 ⎦"
      ]
     },
     "execution_count": 31,
     "metadata": {},
     "output_type": "execute_result"
    }
   ],
   "source": [
    "AA**-1"
   ]
  },
  {
   "cell_type": "code",
   "execution_count": 32,
   "metadata": {},
   "outputs": [
    {
     "data": {
      "text/latex": [
       "$$\\left[\\begin{matrix}1 & 0 & 0\\\\0 & 1 & 0\\\\0 & 0 & 1\\end{matrix}\\right]$$"
      ],
      "text/plain": [
       "⎡1  0  0⎤\n",
       "⎢       ⎥\n",
       "⎢0  1  0⎥\n",
       "⎢       ⎥\n",
       "⎣0  0  1⎦"
      ]
     },
     "execution_count": 32,
     "metadata": {},
     "output_type": "execute_result"
    }
   ],
   "source": [
    "AA**-1 * AA"
   ]
  },
  {
   "cell_type": "code",
   "execution_count": 33,
   "metadata": {},
   "outputs": [
    {
     "data": {
      "text/latex": [
       "$$\\left[\\begin{matrix}- \\frac{232}{25}\\\\\\frac{129}{25}\\\\\\frac{19}{25}\\end{matrix}\\right]$$"
      ],
      "text/plain": [
       "⎡-232 ⎤\n",
       "⎢─────⎥\n",
       "⎢  25 ⎥\n",
       "⎢     ⎥\n",
       "⎢ 129 ⎥\n",
       "⎢ ─── ⎥\n",
       "⎢  25 ⎥\n",
       "⎢     ⎥\n",
       "⎢ 19  ⎥\n",
       "⎢ ──  ⎥\n",
       "⎣ 25  ⎦"
      ]
     },
     "execution_count": 33,
     "metadata": {},
     "output_type": "execute_result"
    }
   ],
   "source": [
    "AA**-1 * bb"
   ]
  },
  {
   "cell_type": "markdown",
   "metadata": {},
   "source": [
    "## General Equation Solving - `nsolve`"
   ]
  },
  {
   "cell_type": "markdown",
   "metadata": {},
   "source": [
    "$$\n",
    "\\large y_1 = 10\\,\\sin(5x) \\ e^{-x}\\\\\n",
    "\\large y_2 = 6 - e^{0.75x}\n",
    "$$"
   ]
  },
  {
   "cell_type": "markdown",
   "metadata": {},
   "source": [
    "### Where do they cross? - The graph"
   ]
  },
  {
   "cell_type": "code",
   "execution_count": 34,
   "metadata": {
    "collapsed": true
   },
   "outputs": [],
   "source": [
    "my_x = np.linspace(0,2*np.pi,100)"
   ]
  },
  {
   "cell_type": "code",
   "execution_count": 35,
   "metadata": {
    "collapsed": true
   },
   "outputs": [],
   "source": [
    "my_y1 = 10 * np.sin(5*my_x) * np.exp(-my_x)\n",
    "my_y2 = 6 - np.exp(0.75 * my_x)"
   ]
  },
  {
   "cell_type": "code",
   "execution_count": 36,
   "metadata": {},
   "outputs": [
    {
     "data": {
      "image/png": "[encoded data removed]",
      "text/plain": [
       "<matplotlib.figure.Figure at 0x2b20f13ada0>"
      ]
     },
     "metadata": {},
     "output_type": "display_data"
    }
   ],
   "source": [
    "fig,ax = plt.subplots(1,1)\n",
    "fig.set_size_inches(10,4)\n",
    "\n",
    "fig.tight_layout()\n",
    "\n",
    "ax.set_ylim(-5,8)\n",
    "ax.set_xlim(0,3)\n",
    "\n",
    "ax.set_xlabel(\"This is X\")\n",
    "ax.set_ylabel(\"This is Y\")\n",
    "\n",
    "ax.plot(my_x, my_y1, color='b', marker='None', linestyle='--')\n",
    "ax.plot(my_x, my_y2, color='r', marker='None', linestyle='-');"
   ]
  },
  {
   "cell_type": "markdown",
   "metadata": {},
   "source": [
    "### Where do they cross? - The `sympy` solution"
   ]
  },
  {
   "cell_type": "code",
   "execution_count": 37,
   "metadata": {
    "collapsed": true
   },
   "outputs": [],
   "source": [
    "equation_one = 10 * sp.sin(5*x) * sp.exp(-x)\n",
    "equation_two = 6 - sp.exp(0.75 * x)"
   ]
  },
  {
   "cell_type": "code",
   "execution_count": 38,
   "metadata": {},
   "outputs": [
    {
     "data": {
      "image/png": "[encoded data removed]",
      "text/latex": [
       "$$\\left ( 10 e^{- x} \\sin{\\left (5 x \\right )}, \\quad - e^{0.75 x} + 6\\right )$$"
      ],
      "text/plain": [
       "⎛    -x              0.75⋅x    ⎞\n",
       "⎝10⋅ℯ  ⋅sin(5⋅x), - ℯ       + 6⎠"
      ]
     },
     "execution_count": 38,
     "metadata": {},
     "output_type": "execute_result"
    }
   ],
   "source": [
    "equation_one, equation_two"
   ]
  },
  {
   "cell_type": "code",
   "execution_count": 39,
   "metadata": {},
   "outputs": [
    {
     "data": {
      "image/png": "[encoded data removed]",
      "text/latex": [
       "$$0.464810116700917$$"
      ],
      "text/plain": [
       "0.464810116700917"
      ]
     },
     "execution_count": 39,
     "metadata": {},
     "output_type": "execute_result"
    }
   ],
   "source": [
    "my_guess = 0.5\n",
    "\n",
    "sp.nsolve(equation_one - equation_two, x, my_guess)"
   ]
  },
  {
   "cell_type": "code",
   "execution_count": 40,
   "metadata": {},
   "outputs": [
    {
     "name": "stdout",
     "output_type": "stream",
     "text": [
      "0.116878818782211\n",
      "0.464810116700917\n",
      "2.44864067084146\n"
     ]
    }
   ],
   "source": [
    "all_guesses = (0.1, 0.5, 2.5)\n",
    "\n",
    "for i in all_guesses:\n",
    "    result = sp.nsolve(equation_one - equation_two, x, i)\n",
    "    print(result)"
   ]
  },
  {
   "cell_type": "markdown",
   "metadata": {},
   "source": [
    "### Your guess has to be (somewhat) close or the solution will not converge:"
   ]
  },
  {
   "cell_type": "code",
   "execution_count": 41,
   "metadata": {},
   "outputs": [
    {
     "ename": "ValueError",
     "evalue": "Could not find root within given tolerance. (1.34097e+112 > 2.1684e-19)\nTry another starting point or tweak arguments.",
     "output_type": "error",
     "traceback": [
      "\u001b[1;31m---------------------------------------------------------------------------\u001b[0m",
      "\u001b[1;31mValueError\u001b[0m                                Traceback (most recent call last)",
      "\u001b[1;32m<ipython-input-41-c9fd656414e8>\u001b[0m in \u001b[0;36m<module>\u001b[1;34m()\u001b[0m\n\u001b[0;32m      1\u001b[0m \u001b[0mmy_guess\u001b[0m \u001b[1;33m=\u001b[0m \u001b[1;36m200\u001b[0m\u001b[1;33m\u001b[0m\u001b[0m\n\u001b[0;32m      2\u001b[0m \u001b[1;33m\u001b[0m\u001b[0m\n\u001b[1;32m----> 3\u001b[1;33m \u001b[0msp\u001b[0m\u001b[1;33m.\u001b[0m\u001b[0mnsolve\u001b[0m\u001b[1;33m(\u001b[0m\u001b[0mequation_one\u001b[0m \u001b[1;33m-\u001b[0m \u001b[0mequation_two\u001b[0m\u001b[1;33m,\u001b[0m \u001b[0mx\u001b[0m\u001b[1;33m,\u001b[0m \u001b[0mmy_guess\u001b[0m\u001b[1;33m)\u001b[0m\u001b[1;33m\u001b[0m\u001b[0m\n\u001b[0m",
      "\u001b[1;32m~\\Miniconda3\\lib\\site-packages\\sympy\\utilities\\decorator.py\u001b[0m in \u001b[0;36mfunc_wrapper\u001b[1;34m(*args, **kwargs)\u001b[0m\n\u001b[0;32m     89\u001b[0m         \u001b[0mdps\u001b[0m \u001b[1;33m=\u001b[0m \u001b[0mmpmath\u001b[0m\u001b[1;33m.\u001b[0m\u001b[0mmp\u001b[0m\u001b[1;33m.\u001b[0m\u001b[0mdps\u001b[0m\u001b[1;33m\u001b[0m\u001b[0m\n\u001b[0;32m     90\u001b[0m         \u001b[1;32mtry\u001b[0m\u001b[1;33m:\u001b[0m\u001b[1;33m\u001b[0m\u001b[0m\n\u001b[1;32m---> 91\u001b[1;33m             \u001b[1;32mreturn\u001b[0m \u001b[0mfunc\u001b[0m\u001b[1;33m(\u001b[0m\u001b[1;33m*\u001b[0m\u001b[0margs\u001b[0m\u001b[1;33m,\u001b[0m \u001b[1;33m**\u001b[0m\u001b[0mkwargs\u001b[0m\u001b[1;33m)\u001b[0m\u001b[1;33m\u001b[0m\u001b[0m\n\u001b[0m\u001b[0;32m     92\u001b[0m         \u001b[1;32mfinally\u001b[0m\u001b[1;33m:\u001b[0m\u001b[1;33m\u001b[0m\u001b[0m\n\u001b[0;32m     93\u001b[0m             \u001b[0mmpmath\u001b[0m\u001b[1;33m.\u001b[0m\u001b[0mmp\u001b[0m\u001b[1;33m.\u001b[0m\u001b[0mdps\u001b[0m \u001b[1;33m=\u001b[0m \u001b[0mdps\u001b[0m\u001b[1;33m\u001b[0m\u001b[0m\n",
      "\u001b[1;32m~\\Miniconda3\\lib\\site-packages\\sympy\\solvers\\solvers.py\u001b[0m in \u001b[0;36mnsolve\u001b[1;34m(*args, **kwargs)\u001b[0m\n\u001b[0;32m   2824\u001b[0m \u001b[1;33m\u001b[0m\u001b[0m\n\u001b[0;32m   2825\u001b[0m         \u001b[0mf\u001b[0m \u001b[1;33m=\u001b[0m \u001b[0mlambdify\u001b[0m\u001b[1;33m(\u001b[0m\u001b[0mfargs\u001b[0m\u001b[1;33m,\u001b[0m \u001b[0mf\u001b[0m\u001b[1;33m,\u001b[0m \u001b[0mmodules\u001b[0m\u001b[1;33m)\u001b[0m\u001b[1;33m\u001b[0m\u001b[0m\n\u001b[1;32m-> 2826\u001b[1;33m         \u001b[0mx\u001b[0m \u001b[1;33m=\u001b[0m \u001b[0msympify\u001b[0m\u001b[1;33m(\u001b[0m\u001b[0mfindroot\u001b[0m\u001b[1;33m(\u001b[0m\u001b[0mf\u001b[0m\u001b[1;33m,\u001b[0m \u001b[0mx0\u001b[0m\u001b[1;33m,\u001b[0m \u001b[1;33m**\u001b[0m\u001b[0mkwargs\u001b[0m\u001b[1;33m)\u001b[0m\u001b[1;33m)\u001b[0m\u001b[1;33m\u001b[0m\u001b[0m\n\u001b[0m\u001b[0;32m   2827\u001b[0m         \u001b[1;32mif\u001b[0m \u001b[0mas_dict\u001b[0m\u001b[1;33m:\u001b[0m\u001b[1;33m\u001b[0m\u001b[0m\n\u001b[0;32m   2828\u001b[0m             \u001b[1;32mreturn\u001b[0m \u001b[1;33m[\u001b[0m\u001b[0mdict\u001b[0m\u001b[1;33m(\u001b[0m\u001b[1;33m[\u001b[0m\u001b[1;33m(\u001b[0m\u001b[0mfargs\u001b[0m\u001b[1;33m,\u001b[0m \u001b[0mx\u001b[0m\u001b[1;33m)\u001b[0m\u001b[1;33m]\u001b[0m\u001b[1;33m)\u001b[0m\u001b[1;33m]\u001b[0m\u001b[1;33m\u001b[0m\u001b[0m\n",
      "\u001b[1;32m~\\Miniconda3\\lib\\site-packages\\mpmath\\calculus\\optimization.py\u001b[0m in \u001b[0;36mfindroot\u001b[1;34m(ctx, f, x0, solver, tol, verbose, verify, **kwargs)\u001b[0m\n\u001b[0;32m    973\u001b[0m                              \u001b[1;34m'(%g > %g)\\n'\u001b[0m\u001b[1;33m\u001b[0m\u001b[0m\n\u001b[0;32m    974\u001b[0m                              \u001b[1;34m'Try another starting point or tweak arguments.'\u001b[0m\u001b[1;33m\u001b[0m\u001b[0m\n\u001b[1;32m--> 975\u001b[1;33m                              % (norm(f(*xl))**2, tol))\n\u001b[0m\u001b[0;32m    976\u001b[0m         \u001b[1;32mreturn\u001b[0m \u001b[0mx\u001b[0m\u001b[1;33m\u001b[0m\u001b[0m\n\u001b[0;32m    977\u001b[0m     \u001b[1;32mfinally\u001b[0m\u001b[1;33m:\u001b[0m\u001b[1;33m\u001b[0m\u001b[0m\n",
      "\u001b[1;31mValueError\u001b[0m: Could not find root within given tolerance. (1.34097e+112 > 2.1684e-19)\nTry another starting point or tweak arguments."
     ]
    }
   ],
   "source": [
    "my_guess = 200\n",
    "\n",
    "sp.nsolve(equation_one - equation_two, x, my_guess)"
   ]
  },
  {
   "cell_type": "markdown",
   "metadata": {},
   "source": [
    "## Solve ODE Equations - `dsolve`"
   ]
  },
  {
   "cell_type": "code",
   "execution_count": 42,
   "metadata": {
    "collapsed": true
   },
   "outputs": [],
   "source": [
    "f = sp.Function('f')"
   ]
  },
  {
   "cell_type": "code",
   "execution_count": 43,
   "metadata": {},
   "outputs": [
    {
     "data": {
      "image/png": "[encoded data removed]",
      "text/latex": [
       "$$9 f{\\left (x \\right )} + \\frac{d^{2}}{d x^{2}}  f{\\left (x \\right )}$$"
      ],
      "text/plain": [
       "           2      \n",
       "          d       \n",
       "9⋅f(x) + ───(f(x))\n",
       "           2      \n",
       "         dx       "
      ]
     },
     "execution_count": 43,
     "metadata": {},
     "output_type": "execute_result"
    }
   ],
   "source": [
    "equation_ode = sp.Derivative(f(x), x, x) + 9*f(x)\n",
    "\n",
    "equation_ode"
   ]
  },
  {
   "cell_type": "code",
   "execution_count": 44,
   "metadata": {},
   "outputs": [
    {
     "data": {
      "image/png": "[encoded data removed]",
      "text/latex": [
       "$$f{\\left (x \\right )} = C_{1} \\sin{\\left (3 x \\right )} + C_{2} \\cos{\\left (3 x \\right )}$$"
      ],
      "text/plain": [
       "f(x) = C₁⋅sin(3⋅x) + C₂⋅cos(3⋅x)"
      ]
     },
     "execution_count": 44,
     "metadata": {},
     "output_type": "execute_result"
    }
   ],
   "source": [
    "sp.dsolve(equation_ode, f(x))"
   ]
  },
  {
   "cell_type": "markdown",
   "metadata": {},
   "source": [
    "# `SymPy` can do *so* much more. It really is magic. \n",
    "\n",
    "## Complete documentation can be found [here](http://docs.sympy.org/latest/index.html)"
   ]
  },
  {
   "cell_type": "markdown",
   "metadata": {},
   "source": [
    "---\n",
    "\n",
    "# $\\LaTeX$\n",
    "\n",
    "## Python uses the $\\LaTeX$ language to typeset equations."
   ]
  },
  {
   "cell_type": "raw",
   "metadata": {},
   "source": [
    "Most LaTeX commands are prefixed with a \"\\\". For example \\pi is the\n",
    "command to produce the lower case Greek letter pi.\n",
    "\n",
    "The characters  # $ % & ~ _ ^ \\ { } are special characters in LaTeX. If\n",
    "you want to typeset them you need to put a \\ in front of them. For\n",
    "example \\$ will typeset the symbol $\n",
    "\n",
    "% - comment. Everything is ignored after a %\n",
    "$ - Math mode. Start and Stop math mode. $\\pi$\n",
    "^ - Superscript in Math mode. $2^2$\n",
    "_ - Subscript in Math mode. $2_2$"
   ]
  },
  {
   "cell_type": "markdown",
   "metadata": {},
   "source": [
    "* ## [Latex Symbols](https://en.wikipedia.org/wiki/Wikipedia:LaTeX_symbols)\n",
    "\n",
    "* ## [Latex draw symbols](http://detexify.kirelabs.org/classify.html)"
   ]
  },
  {
   "cell_type": "markdown",
   "metadata": {},
   "source": [
    "### Use a single set of `$` to make your $\\LaTeX$ inline and a double set `$$` to center"
   ]
  },
  {
   "cell_type": "raw",
   "metadata": {},
   "source": [
    "$$ \\int \\cos(x)\\ dx = \\sin(x) $$"
   ]
  },
  {
   "cell_type": "markdown",
   "metadata": {},
   "source": [
    "### This code will produce the output:"
   ]
  },
  {
   "cell_type": "markdown",
   "metadata": {},
   "source": [
    "### $$ \\int \\cos(x)\\ dx = \\sin(x) $$"
   ]
  },
  {
   "cell_type": "markdown",
   "metadata": {},
   "source": [
    "## Use can use $\\LaTeX$ in plots:"
   ]
  },
  {
   "cell_type": "code",
   "execution_count": 45,
   "metadata": {
    "collapsed": true
   },
   "outputs": [],
   "source": [
    "plt.style.use('ggplot')\n",
    "\n",
    "my_a = np.linspace(0,2*np.pi,100)\n",
    "my_b = np.sin(5*my_a) * np.exp(-my_a)"
   ]
  },
  {
   "cell_type": "code",
   "execution_count": 46,
   "metadata": {},
   "outputs": [
    {
     "data": {
      "image/png": "[encoded data removed]",
      "text/plain": [
       "<matplotlib.figure.Figure at 0x2b20f6d7ba8>"
      ]
     },
     "metadata": {},
     "output_type": "display_data"
    }
   ],
   "source": [
    "fig,ax = plt.subplots(1,1)\n",
    "fig.set_size_inches(10,4)\n",
    "\n",
    "fig.tight_layout()\n",
    "\n",
    "ax.plot(my_a, my_b, color='r', marker='None', linestyle='-');\n",
    "\n",
    "ax.set_title(\"A gratuitous use of $σύμβολον$\")\n",
    "ax.set_xlabel(\"This is in units of 2$\\pi$\")\n",
    "ax.set_ylabel(\"This is B\")\n",
    "\n",
    "ax.text(2.0, 0.4, '$y\\ =\\ \\sin(5a)\\ e^{-a}$', color='green', fontsize=36);"
   ]
  },
  {
   "cell_type": "markdown",
   "metadata": {},
   "source": [
    "## Use can use `SymPy` to make $\\LaTeX$ equations for you!"
   ]
  },
  {
   "cell_type": "code",
   "execution_count": 47,
   "metadata": {},
   "outputs": [
    {
     "name": "stdout",
     "output_type": "stream",
     "text": [
      "\\frac{1}{\\left(z + 1\\right) \\left(z + 2\\right)}\n"
     ]
    }
   ],
   "source": [
    "a =  1/( ( z + 2 ) * ( z + 1 ) )\n",
    "\n",
    "print(sp.latex(a))"
   ]
  },
  {
   "cell_type": "markdown",
   "metadata": {},
   "source": [
    "$$ \\frac{1}{\\left(z + 1\\right) \\left(z + 2\\right)} $$"
   ]
  },
  {
   "cell_type": "code",
   "execution_count": 48,
   "metadata": {},
   "outputs": [
    {
     "name": "stdout",
     "output_type": "stream",
     "text": [
      "\\int z^{2}\\, dz\n"
     ]
    }
   ],
   "source": [
    "print(sp.latex(sp.Integral(z**2,z)))"
   ]
  },
  {
   "cell_type": "markdown",
   "metadata": {},
   "source": [
    "$$ \\int z^{2}\\, dz $$"
   ]
  },
  {
   "cell_type": "markdown",
   "metadata": {},
   "source": [
    "## `Astropy` can output $\\LaTeX$ tables"
   ]
  },
  {
   "cell_type": "code",
   "execution_count": 49,
   "metadata": {
    "collapsed": true
   },
   "outputs": [],
   "source": [
    "from astropy.io import ascii\n",
    "from astropy.table import QTable"
   ]
  },
  {
   "cell_type": "code",
   "execution_count": 50,
   "metadata": {
    "collapsed": true
   },
   "outputs": [],
   "source": [
    "my_table = QTable.read('./MyData/Zodiac.csv', format='ascii.csv')"
   ]
  },
  {
   "cell_type": "code",
   "execution_count": 51,
   "metadata": {},
   "outputs": [
    {
     "data": {
      "text/html": [
       "&lt;QTable length=3&gt;\n",
       "<table id=\"table2963796044488\" class=\"table-striped table-bordered table-condensed\">\n",
       "<thead><tr><th>Name</th><th>Sym</th><th>RA</th><th>Dec</th><th>Flag</th></tr></thead>\n",
       "<thead><tr><th>str11</th><th>str3</th><th>float64</th><th>float64</th><th>str2</th></tr></thead>\n",
       "<tr><td>Aquarius</td><td>AQR</td><td>22.40784</td><td>-10.15606</td><td>ZA</td></tr>\n",
       "<tr><td>Aries</td><td>ARI</td><td>2.66237</td><td>19.95906</td><td>ZA</td></tr>\n",
       "<tr><td>Cancer</td><td>CNC</td><td>8.68322</td><td>19.1894</td><td>ZA</td></tr>\n",
       "</table>"
      ],
      "text/plain": [
       "<QTable length=3>\n",
       "  Name   Sym     RA       Dec    Flag\n",
       " str11   str3 float64   float64  str2\n",
       "-------- ---- -------- --------- ----\n",
       "Aquarius  AQR 22.40784 -10.15606   ZA\n",
       "   Aries  ARI  2.66237  19.95906   ZA\n",
       "  Cancer  CNC  8.68322   19.1894   ZA"
      ]
     },
     "execution_count": 51,
     "metadata": {},
     "output_type": "execute_result"
    }
   ],
   "source": [
    "my_table[0:3]"
   ]
  },
  {
   "cell_type": "code",
   "execution_count": 52,
   "metadata": {},
   "outputs": [
    {
     "name": "stdout",
     "output_type": "stream",
     "text": [
      "\\begin{table}\r\n",
      "\\begin{tabular}{ccccc}\r\n",
      "Name & Sym & RA & Dec & Flag \\\\\r\n",
      "Aquarius & AQR & 22.40784 & -10.15606 & ZA \\\\\r\n",
      "Aries & ARI & 2.66237 & 19.95906 & ZA \\\\\r\n",
      "Cancer & CNC & 8.68322 & 19.1894 & ZA \\\\\r\n",
      "Capricornus & CAP & 21.02258 & -18.55051 & ZA \\\\\r\n",
      "Gemini & GEM & 7.15585 & 23.25312 & ZA \\\\\r\n",
      "Leo & LEO & 10.6933 & 14.78016 & ZA \\\\\r\n",
      "Libra & LIB & 15.22447 & -15.15893 & ZA \\\\\r\n",
      "Ophiuchus & OPH & 17.30225 & -5.21711 & ZA \\\\\r\n",
      "Pisces & PSC & 0.64826 & 10.77037 & ZA \\\\\r\n",
      "Sagittarius & SGR & 19.18492 & -27.09177 & ZA \\\\\r\n",
      "Scorpius & SCO & 16.79026 & -31.81767 & ZA \\\\\r\n",
      "Taurus & TAU & 4.42213 & 16.83941 & ZA \\\\\r\n",
      "Virgo & VIR & 13.28989 & -2.63866 & ZA \\\\\r\n",
      "\\end{tabular}\r\n",
      "\\end{table}\r\n"
     ]
    }
   ],
   "source": [
    "ascii.write(my_table, format='latex')"
   ]
  },
  {
   "cell_type": "code",
   "execution_count": 34,
   "metadata": {},
   "outputs": [
    {
     "data": {
      "image/png": "[encoded data removed]",
      "text/plain": [
       "<matplotlib.figure.Figure at 0x178370317f0>"
      ]
     },
     "metadata": {},
     "output_type": "display_data"
    },
    {
     "ename": "AttributeError",
     "evalue": "'AxesSubplot' object has no attribute 'savefig'",
     "output_type": "error",
     "traceback": [
      "\u001b[1;31m---------------------------------------------------------------------------\u001b[0m",
      "\u001b[1;31mAttributeError\u001b[0m                            Traceback (most recent call last)",
      "\u001b[1;32m<ipython-input-34-cf32dcf6d547>\u001b[0m in \u001b[0;36m<module>\u001b[1;34m()\u001b[0m\n\u001b[0;32m      8\u001b[0m \u001b[1;33m\u001b[0m\u001b[0m\n\u001b[0;32m      9\u001b[0m \u001b[0mplt\u001b[0m\u001b[1;33m.\u001b[0m\u001b[0mshow\u001b[0m\u001b[1;33m(\u001b[0m\u001b[1;33m)\u001b[0m\u001b[1;33m\u001b[0m\u001b[0m\n\u001b[1;32m---> 10\u001b[1;33m \u001b[0max\u001b[0m\u001b[1;33m.\u001b[0m\u001b[0msavefig\u001b[0m\u001b[1;33m(\u001b[0m\u001b[1;34m'butterfly.pdf'\u001b[0m\u001b[1;33m)\u001b[0m\u001b[1;33m\u001b[0m\u001b[0m\n\u001b[0m\u001b[0;32m     11\u001b[0m \u001b[0max\u001b[0m\u001b[1;33m.\u001b[0m\u001b[0msavefig\u001b[0m\u001b[1;33m(\u001b[0m\u001b[1;34m'butterfly.png'\u001b[0m\u001b[1;33m)\u001b[0m\u001b[1;33m\u001b[0m\u001b[0m\n",
      "\u001b[1;31mAttributeError\u001b[0m: 'AxesSubplot' object has no attribute 'savefig'"
     ]
    }
   ],
   "source": [
    "t = np.linspace(0,12*np.pi,2000)\n",
    "x = np.sin(t)*(np.exp(np.cos(t)) - 2*np.cos(4*t) - (np.sin(t/12))**5)\n",
    "y = np.cos(t)*(np.exp(np.cos(t)) - 2*np.cos(4*t) - (np.sin(t/12))**5)\n",
    "\n",
    "fig,ax = plt.subplots(1,1)\n",
    "fig.set_size_inches(5,4)\n",
    "ax.plot(x,y, color='b', marker='None', linestyle='--')\n",
    "\n",
    "plt.show()\n",
    "ax.savefig('butterfly.pdf')\n",
    "ax.savefig('butterfly.png')"
   ]
  },
  {
   "cell_type": "code",
   "execution_count": null,
   "metadata": {
    "collapsed": true
   },
   "outputs": [],
   "source": [
    "plt.figure(figsize=(5.8, 3.0))\n",
    "\n",
    "t = np.linspace(0,12*np.pi,2000)\n",
    "ax.plot(t, my_y, color='b', marker='None', linestyle='-')\n",
    "\n",
    "ax.plt.savefig('butterfly.pdf')\n",
    "ax.plt.savefig('butterfly.png')"
   ]
  },
  {
   "cell_type": "code",
   "execution_count": null,
   "metadata": {},
   "outputs": [],
   "source": []
  },
  {
   "cell_type": "code",
   "execution_count": null,
   "metadata": {
    "collapsed": true
   },
   "outputs": [],
   "source": []
  }
 ],
 "metadata": {
  "anaconda-cloud": {},
  "kernelspec": {
   "display_name": "Python 3",
   "language": "python",
   "name": "python3"
  },
  "language_info": {
   "codemirror_mode": {
    "name": "ipython",
    "version": 3
   },
   "file_extension": ".py",
   "mimetype": "text/x-python",
   "name": "python",
   "nbconvert_exporter": "python",
   "pygments_lexer": "ipython3",
   "version": "3.6.2"
  }
 },
 "nbformat": 4,
 "nbformat_minor": 1
}
