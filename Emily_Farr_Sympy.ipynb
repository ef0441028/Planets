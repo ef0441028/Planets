{
 "cells": [
  {
   "cell_type": "markdown",
   "metadata": {},
   "source": [
    "## First Last - SymPy"
   ]
  },
  {
   "cell_type": "code",
   "execution_count": 1,
   "metadata": {
    "collapsed": true
   },
   "outputs": [],
   "source": [
    "%matplotlib inline\n",
    "\n",
    "import numpy as np\n",
    "import matplotlib.pyplot as plt\n",
    "import sympy as sp"
   ]
  },
  {
   "cell_type": "markdown",
   "metadata": {},
   "source": [
    "$$ \\Large {\\displaystyle f(x)=3e^{-{\\frac {x^{2}}{8}}}} \\sin(x/3)$$"
   ]
  },
  {
   "cell_type": "markdown",
   "metadata": {},
   "source": [
    "* Find the first four terms of the Taylor expansion of the above equation\n",
    "* Make a plot of the function\n",
    "* Plot size 10 in x 4 in\n",
    "* X limts -5, 5\n",
    "* Y limits -2, 2\n",
    "* Over-plot the 1-term Taylor expansion using a different color\n",
    "* Over-plot the 2-term Taylor expansion using a different color\n",
    "* Over-plot the 3-term Taylor expansion using a different color\n",
    "* Over-plot the 4-term Taylor expansion using a different color"
   ]
  },
  {
   "cell_type": "code",
   "execution_count": 2,
   "metadata": {
    "collapsed": true
   },
   "outputs": [],
   "source": [
    "sp.init_printing()\n",
    "\n",
    "x = sp.symbols('x')\n",
    "\n",
    "my_x = np.linspace(-10,10,100)"
   ]
  },
  {
   "cell_type": "code",
   "execution_count": 21,
   "metadata": {},
   "outputs": [
    {
     "data": {
      "image/png": "[encoded data removed]",
      "text/latex": [
       "$$3 e^{- \\frac{x^{2}}{8}} \\sin{\\left (\\frac{x}{3} \\right )}$$"
      ],
      "text/plain": [
       "     2        \n",
       "   -x         \n",
       "   ────       \n",
       "    8      ⎛x⎞\n",
       "3⋅ℯ    ⋅sin⎜─⎟\n",
       "           ⎝3⎠"
      ]
     },
     "execution_count": 21,
     "metadata": {},
     "output_type": "execute_result"
    }
   ],
   "source": [
    "equation = \n",
    "equation"
   ]
  },
  {
   "cell_type": "code",
   "execution_count": 38,
   "metadata": {},
   "outputs": [
    {
     "data": {
      "image/png": "[encoded data removed]",
      "text/latex": [
       "$$x - \\frac{31 x^{3}}{216} + \\frac{1591 x^{5}}{155520} - \\frac{113653 x^{7}}{235146240} + \\mathcal{O}\\left(x^{8}\\right)$$"
      ],
      "text/plain": [
       "        3         5           7        \n",
       "    31⋅x    1591⋅x    113653⋅x     ⎛ 8⎞\n",
       "x - ───── + ─────── - ───────── + O⎝x ⎠\n",
       "     216     155520   235146240        "
      ]
     },
     "execution_count": 38,
     "metadata": {},
     "output_type": "execute_result"
    }
   ],
   "source": [
    "equation_series_4 = sp.series(equation, x, x0 = 0, n = 8)\n",
    "equation_series_4"
   ]
  },
  {
   "cell_type": "code",
   "execution_count": 50,
   "metadata": {
    "collapsed": true
   },
   "outputs": [],
   "source": [
    "my_y5 = my_x - (31*my_x**3)/216 + (1591*my_x**5)/155520 - (113653*my_x**7)/235146240"
   ]
  },
  {
   "cell_type": "code",
   "execution_count": 51,
   "metadata": {},
   "outputs": [
    {
     "data": {
      "image/png": "[encoded data removed]",
      "text/latex": [
       "$$x + \\mathcal{O}\\left(x^{2}\\right)$$"
      ],
      "text/plain": [
       "     ⎛ 2⎞\n",
       "x + O⎝x ⎠"
      ]
     },
     "execution_count": 51,
     "metadata": {},
     "output_type": "execute_result"
    }
   ],
   "source": [
    "equation_series_1 = sp.series(equation, x, x0 = 0, n = 2)\n",
    "equation_series_1"
   ]
  },
  {
   "cell_type": "code",
   "execution_count": 52,
   "metadata": {
    "collapsed": true
   },
   "outputs": [],
   "source": [
    "my_y2 = my_x"
   ]
  },
  {
   "cell_type": "code",
   "execution_count": 53,
   "metadata": {},
   "outputs": [
    {
     "data": {
      "image/png": "[encoded data removed]",
      "text/latex": [
       "$$x - \\frac{31 x^{3}}{216} + \\mathcal{O}\\left(x^{4}\\right)$$"
      ],
      "text/plain": [
       "        3        \n",
       "    31⋅x     ⎛ 4⎞\n",
       "x - ───── + O⎝x ⎠\n",
       "     216         "
      ]
     },
     "execution_count": 53,
     "metadata": {},
     "output_type": "execute_result"
    }
   ],
   "source": [
    "equation_series_2 = sp.series(equation, x, x0 = 0, n = 4)\n",
    "equation_series_2"
   ]
  },
  {
   "cell_type": "code",
   "execution_count": 54,
   "metadata": {
    "collapsed": true
   },
   "outputs": [],
   "source": [
    "my_y3 = my_x - (31*my_x**3)/216"
   ]
  },
  {
   "cell_type": "code",
   "execution_count": 55,
   "metadata": {},
   "outputs": [
    {
     "data": {
      "image/png": "[encoded data removed]",
      "text/latex": [
       "$$x - \\frac{31 x^{3}}{216} + \\frac{1591 x^{5}}{155520} + \\mathcal{O}\\left(x^{6}\\right)$$"
      ],
      "text/plain": [
       "        3         5        \n",
       "    31⋅x    1591⋅x     ⎛ 6⎞\n",
       "x - ───── + ─────── + O⎝x ⎠\n",
       "     216     155520        "
      ]
     },
     "execution_count": 55,
     "metadata": {},
     "output_type": "execute_result"
    }
   ],
   "source": [
    "equation_series_3 = sp.series(equation, x, x0 = 0, n = 6)\n",
    "equation_series_3"
   ]
  },
  {
   "cell_type": "code",
   "execution_count": 56,
   "metadata": {
    "collapsed": true
   },
   "outputs": [],
   "source": [
    "my_y4 = my_x - (31*my_x**3)/216 + (1591*my_x**5)/155520"
   ]
  },
  {
   "cell_type": "code",
   "execution_count": 57,
   "metadata": {
    "collapsed": true
   },
   "outputs": [],
   "source": [
    "my_y1 = 3 * np.exp(-(my_x**2)/8)*np.sin(my_x/3)"
   ]
  },
  {
   "cell_type": "code",
   "execution_count": 61,
   "metadata": {},
   "outputs": [
    {
     "data": {
      "image/png": "[encoded data removed]",
      "text/plain": [
       "<matplotlib.figure.Figure at 0x1c1811e92b0>"
      ]
     },
     "metadata": {},
     "output_type": "display_data"
    }
   ],
   "source": [
    "fig,ax = plt.subplots(1,1)\n",
    "fig.set_size_inches(10,4)\n",
    "\n",
    "fig.tight_layout()\n",
    "\n",
    "ax.set_ylim(-2,2)\n",
    "ax.set_xlim(-5,5)\n",
    "\n",
    "ax.plot(my_x, my_y1, color='b', marker='None', linestyle='--')\n",
    "ax.plot(my_x, my_y2, color='r', marker='None');\n",
    "ax.plot(my_x, my_y3, color='g', marker='None');\n",
    "ax.plot(my_x, my_y4, color='y', marker='None');\n",
    "ax.plot(my_x, my_y5, color='black', marker='None');"
   ]
  },
  {
   "cell_type": "markdown",
   "metadata": {},
   "source": [
    "### Due Wed Nov 29 - Noon\n",
    "\n",
    "- `Make sure to change the filename to your name!`\n",
    "- `Make sure to change the Title to your name!`\n",
    "- `File -> Download as -> HTML (.html)`\n",
    "- `upload your .html and .ipynb file to the class Canvas page`  "
   ]
  },
  {
   "cell_type": "code",
   "execution_count": null,
   "metadata": {
    "collapsed": true
   },
   "outputs": [],
   "source": []
  }
 ],
 "metadata": {
  "anaconda-cloud": {},
  "kernelspec": {
   "display_name": "Python 3",
   "language": "python",
   "name": "python3"
  },
  "language_info": {
   "codemirror_mode": {
    "name": "ipython",
    "version": 3
   },
   "file_extension": ".py",
   "mimetype": "text/x-python",
   "name": "python",
   "nbconvert_exporter": "python",
   "pygments_lexer": "ipython3",
   "version": "3.6.2"
  }
 },
 "nbformat": 4,
 "nbformat_minor": 1
}
