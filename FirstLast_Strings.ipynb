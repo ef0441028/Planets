{
 "cells": [
  {
   "cell_type": "markdown",
   "metadata": {},
   "source": [
    "# Strings Homework\n",
    "\n",
    "* Start with the ReadingData homework from last week\n",
    "* Format the output to match the examples below.\n",
    "* The numbers should be expressed to 2 decimals."
   ]
  },
  {
   "cell_type": "markdown",
   "metadata": {},
   "source": [
    "## List the names of the 5 most massive MBAs\n",
    "\n",
    "\n",
    "`The 5 largest asteroids are (starting with the largest):\n",
    "At number N is NAME with a mass of MASS kg\n",
    ".\n",
    ".\n",
    "At number N is NAME with a mass of MASS kg`"
   ]
  },
  {
   "cell_type": "markdown",
   "metadata": {},
   "source": [
    "---\n",
    "\n",
    "## List the names of the 5 least massive MBAs\n",
    "\n",
    "\n",
    "`The 5 smallest asteroids are (starting with the smallest):\n",
    "At number N is NAME with a mass of MASS kg\n",
    ".\n",
    ".\n",
    "At number N is NAME with a mass of MASS kg`"
   ]
  },
  {
   "cell_type": "markdown",
   "metadata": {},
   "source": [
    "---\n",
    "\n",
    "## And finally the summary paragraph:\n",
    "\n",
    "`The total mass of the main belt of the asteroid belt is MASS kg, of which N% of\n",
    "the total mass in contained in the five most massive asteroids. In fact, the N largest\n",
    "asteroids account for 90% of the total mass of the main belt. The Moon is N times more \n",
    "massive than the total mass of the main belt asteroids.`"
   ]
  },
  {
   "cell_type": "markdown",
   "metadata": {},
   "source": [
    "---\n",
    "\n",
    "### Due Tue Oct 19 - 5pm\n",
    "- `Make sure to change the filename to your name!`\n",
    "- `Make sure to change the Title to your name!`\n",
    "- `File -> Download as -> HTML (.html)`\n",
    "- `upload your .html and .ipynb file to the class Canvas page`  "
   ]
  }
 ],
 "metadata": {
  "kernelspec": {
   "display_name": "Python 3",
   "language": "python",
   "name": "python3"
  },
  "language_info": {
   "codemirror_mode": {
    "name": "ipython",
    "version": 3
   },
   "file_extension": ".py",
   "mimetype": "text/x-python",
   "name": "python",
   "nbconvert_exporter": "python",
   "pygments_lexer": "ipython3",
   "version": "3.6.2"
  }
 },
 "nbformat": 4,
 "nbformat_minor": 1
}
