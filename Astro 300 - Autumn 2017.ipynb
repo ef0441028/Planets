{
 "cells": [
  {
   "cell_type": "markdown",
   "metadata": {},
   "source": [
    "# Astro 300 - Autumn 2017"
   ]
  },
  {
   "cell_type": "markdown",
   "metadata": {},
   "source": [
    "* ## [Introduction to UNIX](00_UnixNotes.txt)\n",
    "* ## [Regular Expressions](RegEx_Notes.txt)\n",
    "* ## [Python - Introduction](Python_Introduction.ipynb)\n",
    "* ## [Python - Reading Data](Python_ReadingData.ipynb)\n",
    "* ## [Python - Strings](Python_StringsAndStuff.ipynb)\n",
    "* ## [Python - Units](Python_Units.ipynb )\n",
    "* ## [Python - Object Oriented](Python_OO.ipynb)\n",
    "* ## [Python - Plotting Data](Python_Plotting.ipynb)\n",
    "* ## [Python - Fitting Data](Python_FittingData.ipynb)\n",
    "* ## [Python - Astroplan](Python_Astroplan.ipynb)\n",
    "* ## [Python - Astroplan Constraints](Python_Astroplan_Constraints.ipynb)\n",
    "* ## [Python - Images](Python_Images.ipynb)\n",
    "* ## [Python - FITS Data](Python_Images_FITS.ipynb)\n",
    "* ## [Python - SymPy](Python_SymPy.ipynb)\n",
    "* ## [LaTeX](Python_LaTeX.ipynb)"
   ]
  },
  {
   "cell_type": "code",
   "execution_count": null,
   "metadata": {
    "collapsed": true
   },
   "outputs": [],
   "source": []
  }
 ],
 "metadata": {
  "kernelspec": {
   "display_name": "Python 3",
   "language": "python",
   "name": "python3"
  },
  "language_info": {
   "codemirror_mode": {
    "name": "ipython",
    "version": 3
   },
   "file_extension": ".py",
   "mimetype": "text/x-python",
   "name": "python",
   "nbconvert_exporter": "python",
   "pygments_lexer": "ipython3",
   "version": "3.6.4"
  }
 },
 "nbformat": 4,
 "nbformat_minor": 2
}
