{
 "cells": [
  {
   "cell_type": "markdown",
   "metadata": {},
   "source": [
    "# $\\LaTeX$"
   ]
  },
  {
   "cell_type": "markdown",
   "metadata": {},
   "source": [
    "\n",
    "- ## [ShareLatex](https://www.sharelatex.com/)\n",
    "\n",
    "- ## [ShareLatex Docs and Help](https://www.sharelatex.com/learn)\n",
    "\n",
    "- ## [Latex Symbols](https://en.wikipedia.org/wiki/Wikipedia:LaTeX_symbols)\n",
    "\n",
    "- ## [Latex draw symbols](http://detexify.kirelabs.org/classify.html)\n",
    "\n",
    "- ## [Latex wikibook](https://en.wikibooks.org/wiki/LaTeX)\n",
    "\n",
    "- ## [Latex cheat sheet](./latexsheet.pdf)\n",
    "\n",
    "- ## [AAS Symbols](./AAS_Symbols.pdf)\n",
    "---\n",
    "- ## [The SAO/NASA Astrophysics Data System](https://ui.adsabs.harvard.edu/#classic-form)"
   ]
  },
  {
   "cell_type": "markdown",
   "metadata": {},
   "source": [
    "---\n",
    "\n",
    "# $\\LaTeX$ Assignment"
   ]
  },
  {
   "cell_type": "raw",
   "metadata": {
    "collapsed": true
   },
   "source": [
    "-----------------------------------------------------------------------------\n",
    "LaTeX homework - Create a LaTeX document with references.\n",
    "-----------------------------------------------------------------------------\n",
    "\n",
    "Start with the file: FirstLast.tex\n",
    "\n",
    "Minimum required elements:\n",
    "\n",
    "* Between 2 and 4 pages in length (pages > 4 will be ignored).\n",
    "\n",
    "* At least four paragraphs of text (the text should be coherent).\n",
    "\n",
    "* At least 5 references from ADS:\n",
    "\n",
    "  * http://adsabs.harvard.edu/abstract_service.html\n",
    "  * Make sure to \\citep{} or \\citet{} the references in your paper\n",
    "\n",
    "* The equation on the blackboard.                       \n",
    "\n",
    "* One (or more) equation(s) of your choice.               \n",
    "\n",
    "* One Compulsory plot generated with python (png format) \n",
    "\n",
    "  * Start with t = np.linspace(0,12*np.pi,2000)\n",
    "  * Generate a Butterfly plot: http://en.wikipedia.org/wiki/Butterfly_curve_(transcendental)\n",
    "\n",
    "* One other plot/image (do not reuse and old one!).\n",
    "\n",
    "* One table of at least 4 columns and 4 rows.\n",
    "\n",
    "* Bonus points given for interesting content!\n",
    "\n",
    "-----------------------------------------------------------------------------\n",
    "\n",
    "Create a PDF file:\n",
    "\n",
    "Save the file as FirstLast.pdf  (i.e. TobySmith.pdf)\n",
    "\n",
    "Upload the PDF to the class canvas site\n",
    "\n",
    "-----------------------------------------------------------------------------\n",
    "Deadline: Tuesday Dec 05 - 5pm\n",
    "-----------------------------------------------------------------------------"
   ]
  }
 ],
 "metadata": {
  "anaconda-cloud": {},
  "kernelspec": {
   "display_name": "Python 3",
   "language": "python",
   "name": "python3"
  },
  "language_info": {
   "codemirror_mode": {
    "name": "ipython",
    "version": 3
   },
   "file_extension": ".py",
   "mimetype": "text/x-python",
   "name": "python",
   "nbconvert_exporter": "python",
   "pygments_lexer": "ipython3",
   "version": "3.6.2"
  }
 },
 "nbformat": 4,
 "nbformat_minor": 1
}
