{
 "cells": [
  {
   "cell_type": "markdown",
   "metadata": {},
   "source": [
    "# Units in Python"
   ]
  },
  {
   "cell_type": "markdown",
   "metadata": {},
   "source": [
    "The `Astropy` package includes a powerful framework that allows users to attach **units** to scalars and arrays, and manipulate/combine these, keeping track of the units.\n",
    "\n",
    "`Astropy` has a lot of built-in units. A complete list can be found [here.](http://docs.astropy.org/en/stable/units/index.html#module-astropy.units.si)"
   ]
  },
  {
   "cell_type": "code",
   "execution_count": 1,
   "metadata": {},
   "outputs": [
    {
     "data": {
      "text/plain": [
       "<astropy.units.core._UnitContext at 0x199375d05f8>"
      ]
     },
     "execution_count": 1,
     "metadata": {},
     "output_type": "execute_result"
    }
   ],
   "source": [
    "import numpy as np\n",
    "\n",
    "import pandas as pd\n",
    "from astropy.table import QTable\n",
    "\n",
    "from astropy import units as u\n",
    "from astropy import constants as const\n",
    "from astropy.units import imperial\n",
    "imperial.enable()"
   ]
  },
  {
   "cell_type": "markdown",
   "metadata": {},
   "source": [
    "*Note: because we imported the `units` package as `u`, you cannot use **u** as a variable name.*"
   ]
  },
  {
   "cell_type": "markdown",
   "metadata": {},
   "source": [
    "### You can use the units by themselves:"
   ]
  },
  {
   "cell_type": "code",
   "execution_count": null,
   "metadata": {
    "collapsed": true
   },
   "outputs": [],
   "source": []
  },
  {
   "cell_type": "code",
   "execution_count": 2,
   "metadata": {},
   "outputs": [
    {
     "data": {
      "text/latex": [
       "$\\mathrm{\\frac{m}{s^{2}}}$"
      ],
      "text/plain": [
       "Unit(\"m / s2\")"
      ]
     },
     "execution_count": 2,
     "metadata": {},
     "output_type": "execute_result"
    }
   ],
   "source": [
    "u.m / (u.s * u.s)"
   ]
  },
  {
   "cell_type": "code",
   "execution_count": 3,
   "metadata": {},
   "outputs": [
    {
     "data": {
      "text/latex": [
       "$\\mathrm{s}$"
      ],
      "text/plain": [
       "Unit(\"s\")"
      ]
     },
     "execution_count": 3,
     "metadata": {},
     "output_type": "execute_result"
    }
   ],
   "source": [
    "u.s    # The unit of seconds"
   ]
  },
  {
   "cell_type": "code",
   "execution_count": 4,
   "metadata": {},
   "outputs": [
    {
     "data": {
      "text/latex": [
       "$\\mathrm{\\frac{m}{s}}$"
      ],
      "text/plain": [
       "Unit(\"m / s\")"
      ]
     },
     "execution_count": 4,
     "metadata": {},
     "output_type": "execute_result"
    }
   ],
   "source": [
    "u.m / u.s    # combine them into a composite unit"
   ]
  },
  {
   "cell_type": "markdown",
   "metadata": {},
   "source": [
    "### For any unit you can find all of the built-in units that are equivalent:"
   ]
  },
  {
   "cell_type": "code",
   "execution_count": 5,
   "metadata": {},
   "outputs": [
    {
     "data": {
      "text/plain": [
       "  Primary name | Unit definition | Aliases                         \n",
       "[\n",
       "  AU           | 1.49598e+11 m   | au, astronomical_unit            ,\n",
       "  Angstrom     | 1e-10 m         | AA, angstrom                     ,\n",
       "  cm           | 0.01 m          | centimeter                       ,\n",
       "  earthRad     | 6.3781e+06 m    | R_earth, Rearth                  ,\n",
       "  ft           | 0.3048 m        | foot                             ,\n",
       "  fur          | 201.168 m       | furlong                          ,\n",
       "  inch         | 0.0254 m        |                                  ,\n",
       "  jupiterRad   | 7.1492e+07 m    | R_jup, Rjup, R_jupiter, Rjupiter ,\n",
       "  lyr          | 9.46073e+15 m   | lightyear                        ,\n",
       "  m            | irreducible     | meter                            ,\n",
       "  mi           | 1609.34 m       | mile                             ,\n",
       "  micron       | 1e-06 m         |                                  ,\n",
       "  mil          | 2.54e-05 m      | thou                             ,\n",
       "  nmi          | 1852 m          | nauticalmile, NM                 ,\n",
       "  pc           | 3.08568e+16 m   | parsec                           ,\n",
       "  solRad       | 6.957e+08 m     | R_sun, Rsun                      ,\n",
       "  yd           | 0.9144 m        | yard                             ,\n",
       "]"
      ]
     },
     "execution_count": 5,
     "metadata": {},
     "output_type": "execute_result"
    }
   ],
   "source": [
    "u.m.find_equivalent_units()"
   ]
  },
  {
   "cell_type": "markdown",
   "metadata": {},
   "source": [
    "### The `units` package is much more useful when you combine it with scalars or arrays to create `Quantities`"
   ]
  },
  {
   "cell_type": "code",
   "execution_count": 6,
   "metadata": {},
   "outputs": [
    {
     "data": {
      "text/latex": [
       "$0.25 \\; \\mathrm{s}$"
      ],
      "text/plain": [
       "<Quantity 0.25 s>"
      ]
     },
     "execution_count": 6,
     "metadata": {},
     "output_type": "execute_result"
    }
   ],
   "source": [
    "time_1 = 0.25 * u.s\n",
    "\n",
    "time_1"
   ]
  },
  {
   "cell_type": "code",
   "execution_count": 7,
   "metadata": {},
   "outputs": [
    {
     "data": {
      "text/latex": [
       "$[1,~2,~3,~4,~5] \\; \\mathrm{m}$"
      ],
      "text/plain": [
       "<Quantity [ 1., 2., 3., 4., 5.] m>"
      ]
     },
     "execution_count": 7,
     "metadata": {},
     "output_type": "execute_result"
    }
   ],
   "source": [
    "position = np.arange(1,6,1) * u.m    # np.arange(x,y,z) - create an array of numbers between x and y in steps z\n",
    "\n",
    "position"
   ]
  },
  {
   "cell_type": "code",
   "execution_count": 8,
   "metadata": {},
   "outputs": [
    {
     "data": {
      "text/latex": [
       "$[4,~8,~12,~16,~20] \\; \\mathrm{\\frac{m}{s}}$"
      ],
      "text/plain": [
       "<Quantity [  4.,  8., 12., 16., 20.] m / s>"
      ]
     },
     "execution_count": 8,
     "metadata": {},
     "output_type": "execute_result"
    }
   ],
   "source": [
    "velocity = position / time_1\n",
    "\n",
    "velocity"
   ]
  },
  {
   "cell_type": "markdown",
   "metadata": {},
   "source": [
    "### You can access the number and unit part of the Quantity separately:"
   ]
  },
  {
   "cell_type": "code",
   "execution_count": 9,
   "metadata": {},
   "outputs": [
    {
     "data": {
      "text/plain": [
       "array([  4.,   8.,  12.,  16.,  20.])"
      ]
     },
     "execution_count": 9,
     "metadata": {},
     "output_type": "execute_result"
    }
   ],
   "source": [
    "velocity.value"
   ]
  },
  {
   "cell_type": "code",
   "execution_count": 10,
   "metadata": {},
   "outputs": [
    {
     "data": {
      "text/latex": [
       "$\\mathrm{\\frac{m}{s}}$"
      ],
      "text/plain": [
       "Unit(\"m / s\")"
      ]
     },
     "execution_count": 10,
     "metadata": {},
     "output_type": "execute_result"
    }
   ],
   "source": [
    "velocity.unit"
   ]
  },
  {
   "cell_type": "markdown",
   "metadata": {},
   "source": [
    "### This is useful in formatting output:"
   ]
  },
  {
   "cell_type": "code",
   "execution_count": 11,
   "metadata": {},
   "outputs": [
    {
     "data": {
      "text/plain": [
       "'The velocity of the first particle is 4.0 m / s'"
      ]
     },
     "execution_count": 11,
     "metadata": {},
     "output_type": "execute_result"
    }
   ],
   "source": [
    "\"The velocity of the first particle is {0:.1f}\".format(velocity[0])"
   ]
  },
  {
   "cell_type": "code",
   "execution_count": 12,
   "metadata": {},
   "outputs": [
    {
     "data": {
      "text/plain": [
       "'The velocity of the first particle is 4.0 in the units of m / s.'"
      ]
     },
     "execution_count": 12,
     "metadata": {},
     "output_type": "execute_result"
    }
   ],
   "source": [
    "\"The velocity of the first particle is {0.value:.1f} in the units of {0.unit:s}.\".format(velocity[0])"
   ]
  },
  {
   "cell_type": "markdown",
   "metadata": {},
   "source": [
    "### At example problem: How long would it take to go 100 km at velocities in `velocity`?"
   ]
  },
  {
   "cell_type": "code",
   "execution_count": 13,
   "metadata": {},
   "outputs": [
    {
     "data": {
      "text/latex": [
       "$[25,~12.5,~8.3333333,~6.25,~5] \\; \\mathrm{\\frac{km\\,s}{m}}$"
      ],
      "text/plain": [
       "<Quantity [ 25.        , 12.5       ,  8.33333333,  6.25      ,  5.        ] km s / m>"
      ]
     },
     "execution_count": 13,
     "metadata": {},
     "output_type": "execute_result"
    }
   ],
   "source": [
    "distance = 100 * u.km\n",
    "\n",
    "time_2 = distance / velocity\n",
    "\n",
    "time_2"
   ]
  },
  {
   "cell_type": "markdown",
   "metadata": {},
   "source": [
    "### Notice that the units are a bit strange. We can simplify this using `.decompose()`"
   ]
  },
  {
   "cell_type": "code",
   "execution_count": 14,
   "metadata": {},
   "outputs": [
    {
     "data": {
      "text/latex": [
       "$[25000,~12500,~8333.3333,~6250,~5000] \\; \\mathrm{s}$"
      ],
      "text/plain": [
       "<Quantity [ 25000.        , 12500.        ,  8333.33333333,\n",
       "             6250.        ,  5000.        ] s>"
      ]
     },
     "execution_count": 14,
     "metadata": {},
     "output_type": "execute_result"
    }
   ],
   "source": [
    "time_2.decompose()"
   ]
  },
  {
   "cell_type": "markdown",
   "metadata": {},
   "source": [
    "### Unit conversion is really easy!"
   ]
  },
  {
   "cell_type": "code",
   "execution_count": 15,
   "metadata": {},
   "outputs": [
    {
     "data": {
      "text/latex": [
       "$[6.9444444,~3.4722222,~2.3148148,~1.7361111,~1.3888889] \\; \\mathrm{h}$"
      ],
      "text/plain": [
       "<Quantity [ 6.94444444, 3.47222222, 2.31481481, 1.73611111, 1.38888889] h>"
      ]
     },
     "execution_count": 15,
     "metadata": {},
     "output_type": "execute_result"
    }
   ],
   "source": [
    "time_2.to(u.h)"
   ]
  },
  {
   "cell_type": "code",
   "execution_count": 16,
   "metadata": {},
   "outputs": [
    {
     "data": {
      "text/latex": [
       "$[1440000,~2880000,~4320000,~5760000,~7200000] \\; \\mathrm{\\frac{cm}{h}}$"
      ],
      "text/plain": [
       "<Quantity [ 1440000., 2880000., 4320000., 5760000., 7200000.] cm / h>"
      ]
     },
     "execution_count": 16,
     "metadata": {},
     "output_type": "execute_result"
    }
   ],
   "source": [
    "velocity.to(u.cm / u.h)"
   ]
  },
  {
   "cell_type": "code",
   "execution_count": 17,
   "metadata": {},
   "outputs": [
    {
     "data": {
      "text/latex": [
       "$[8.9477452,~17.89549,~26.843236,~35.790981,~44.738726] \\; \\mathrm{\\frac{mi}{h}}$"
      ],
      "text/plain": [
       "<Quantity [  8.94774517, 17.89549034, 26.8432355 , 35.79098067,\n",
       "            44.73872584] mi / h>"
      ]
     },
     "execution_count": 17,
     "metadata": {},
     "output_type": "execute_result"
    }
   ],
   "source": [
    "velocity.to(imperial.mi / u.h)"
   ]
  },
  {
   "cell_type": "code",
   "execution_count": 18,
   "metadata": {},
   "outputs": [
    {
     "data": {
      "text/latex": [
       "$[4,~8,~12,~16,~20] \\; \\mathrm{\\frac{m}{s}}$"
      ],
      "text/plain": [
       "<Quantity [  4.,  8., 12., 16., 20.] m / s>"
      ]
     },
     "execution_count": 18,
     "metadata": {},
     "output_type": "execute_result"
    }
   ],
   "source": [
    "velocity.si                     # quick conversion to SI units"
   ]
  },
  {
   "cell_type": "code",
   "execution_count": 19,
   "metadata": {},
   "outputs": [
    {
     "data": {
      "text/latex": [
       "$[400,~800,~1200,~1600,~2000] \\; \\mathrm{\\frac{cm}{s}}$"
      ],
      "text/plain": [
       "<Quantity [  400.,  800., 1200., 1600., 2000.] cm / s>"
      ]
     },
     "execution_count": 19,
     "metadata": {},
     "output_type": "execute_result"
    }
   ],
   "source": [
    "velocity.cgs                    # quick conversion to CGS units"
   ]
  },
  {
   "cell_type": "code",
   "execution_count": 20,
   "metadata": {},
   "outputs": [
    {
     "data": {
      "text/latex": [
       "$3 \\times 10^{12} \\; \\mathrm{\\frac{kg}{km^{3}}}$"
      ],
      "text/plain": [
       "<Quantity 2999999999999.9995 kg / km3>"
      ]
     },
     "execution_count": 20,
     "metadata": {},
     "output_type": "execute_result"
    }
   ],
   "source": [
    "density = 3000 * (u.kg / u.m**3)     # From last week's homework\n",
    "\n",
    "density.to(u.kg / u.km**3)"
   ]
  },
  {
   "cell_type": "markdown",
   "metadata": {},
   "source": [
    "### Units make math with Time easy!"
   ]
  },
  {
   "cell_type": "code",
   "execution_count": 21,
   "metadata": {},
   "outputs": [
    {
     "data": {
      "text/plain": [
       "  Primary name | Unit definition | Aliases \n",
       "[\n",
       "  a            | 3.15576e+07 s   | annum    ,\n",
       "  d            | 86400 s         | day      ,\n",
       "  fortnight    | 1.2096e+06 s    |          ,\n",
       "  h            | 3600 s          | hour, hr ,\n",
       "  min          | 60 s            | minute   ,\n",
       "  s            | irreducible     | second   ,\n",
       "  sday         | 86164.1 s       |          ,\n",
       "  wk           | 604800 s        | week     ,\n",
       "  yr           | 3.15576e+07 s   | year     ,\n",
       "]"
      ]
     },
     "execution_count": 21,
     "metadata": {},
     "output_type": "execute_result"
    }
   ],
   "source": [
    "u.s.find_equivalent_units()"
   ]
  },
  {
   "cell_type": "code",
   "execution_count": 22,
   "metadata": {
    "collapsed": true
   },
   "outputs": [],
   "source": [
    "time_3 = 29 * u.day + 7 * u.h + 56 * u.min + 12 * u.s\n",
    "time_4 = 2 * u.fortnight + 1.33 * u.day"
   ]
  },
  {
   "cell_type": "code",
   "execution_count": 23,
   "metadata": {},
   "outputs": [
    {
     "data": {
      "text/latex": [
       "$0.00069444444 \\; \\mathrm{d}$"
      ],
      "text/plain": [
       "<Quantity 0.0006944444444414444 d>"
      ]
     },
     "execution_count": 23,
     "metadata": {},
     "output_type": "execute_result"
    }
   ],
   "source": [
    "time_3 - time_4"
   ]
  },
  {
   "cell_type": "code",
   "execution_count": 24,
   "metadata": {},
   "outputs": [
    {
     "data": {
      "text/latex": [
       "$1 \\; \\mathrm{min}$"
      ],
      "text/plain": [
       "<Quantity 0.9999999999956799 min>"
      ]
     },
     "execution_count": 24,
     "metadata": {},
     "output_type": "execute_result"
    }
   ],
   "source": [
    "(time_3 - time_4).to(u.min)"
   ]
  },
  {
   "cell_type": "markdown",
   "metadata": {},
   "source": [
    "### You can define your own units"
   ]
  },
  {
   "cell_type": "code",
   "execution_count": 25,
   "metadata": {
    "collapsed": true
   },
   "outputs": [],
   "source": [
    "ringo = u.def_unit('Ringos', 3.712 * imperial.yd)"
   ]
  },
  {
   "cell_type": "code",
   "execution_count": 26,
   "metadata": {},
   "outputs": [
    {
     "data": {
      "text/latex": [
       "$[0.29461565,~0.5892313,~0.88384695,~1.1784626,~1.4730783] \\; \\mathrm{Ringos}$"
      ],
      "text/plain": [
       "<Quantity [ 0.29461565, 0.5892313 , 0.88384695, 1.17846261, 1.47307826] Ringos>"
      ]
     },
     "execution_count": 26,
     "metadata": {},
     "output_type": "execute_result"
    }
   ],
   "source": [
    "position.to(ringo)"
   ]
  },
  {
   "cell_type": "code",
   "execution_count": 27,
   "metadata": {},
   "outputs": [
    {
     "data": {
      "text/latex": [
       "$[1.1784626,~2.3569252,~3.5353878,~4.7138504,~5.892313] \\; \\mathrm{\\frac{Ringos}{s}}$"
      ],
      "text/plain": [
       "<Quantity [ 1.17846261, 2.35692521, 3.53538782, 4.71385042, 5.89231303] Ringos / s>"
      ]
     },
     "execution_count": 27,
     "metadata": {},
     "output_type": "execute_result"
    }
   ],
   "source": [
    "velocity.to(ringo / u.s)"
   ]
  },
  {
   "cell_type": "markdown",
   "metadata": {},
   "source": [
    "### Dimentionless Units"
   ]
  },
  {
   "cell_type": "code",
   "execution_count": 28,
   "metadata": {},
   "outputs": [
    {
     "data": {
      "text/latex": [
       "$1 \\; \\mathrm{\\frac{m}{km}}$"
      ],
      "text/plain": [
       "<Quantity 1.0 m / km>"
      ]
     },
     "execution_count": 28,
     "metadata": {},
     "output_type": "execute_result"
    }
   ],
   "source": [
    "dimless_y = (1 * u.m) / (1 * u.km)\n",
    "\n",
    "dimless_y"
   ]
  },
  {
   "cell_type": "code",
   "execution_count": 29,
   "metadata": {},
   "outputs": [
    {
     "data": {
      "text/latex": [
       "$\\mathrm{\\frac{m}{km}}$"
      ],
      "text/plain": [
       "Unit(\"m / km\")"
      ]
     },
     "execution_count": 29,
     "metadata": {},
     "output_type": "execute_result"
    }
   ],
   "source": [
    "dimless_y.unit"
   ]
  },
  {
   "cell_type": "code",
   "execution_count": 30,
   "metadata": {},
   "outputs": [
    {
     "data": {
      "text/latex": [
       "$0.001 \\; \\mathrm{}$"
      ],
      "text/plain": [
       "<Quantity 0.001>"
      ]
     },
     "execution_count": 30,
     "metadata": {},
     "output_type": "execute_result"
    }
   ],
   "source": [
    "dimless_y.decompose()   # returns the scale of the dimentionless quanity"
   ]
  },
  {
   "cell_type": "markdown",
   "metadata": {},
   "source": [
    "### Some math functions only make sense with dimentionless quanities"
   ]
  },
  {
   "cell_type": "code",
   "execution_count": 31,
   "metadata": {},
   "outputs": [
    {
     "ename": "UnitTypeError",
     "evalue": "Can only apply 'log' function to dimensionless quantities",
     "output_type": "error",
     "traceback": [
      "\u001b[1;31m---------------------------------------------------------------------------\u001b[0m",
      "\u001b[1;31mUnitConversionError\u001b[0m                       Traceback (most recent call last)",
      "\u001b[1;32m~\\Miniconda3\\lib\\site-packages\\astropy\\units\\quantity_helper.py\u001b[0m in \u001b[0;36mget_converter\u001b[1;34m(from_unit, to_unit)\u001b[0m\n\u001b[0;32m     21\u001b[0m     \u001b[1;32mtry\u001b[0m\u001b[1;33m:\u001b[0m\u001b[1;33m\u001b[0m\u001b[0m\n\u001b[1;32m---> 22\u001b[1;33m         \u001b[0mscale\u001b[0m \u001b[1;33m=\u001b[0m \u001b[0mfrom_unit\u001b[0m\u001b[1;33m.\u001b[0m\u001b[0m_to\u001b[0m\u001b[1;33m(\u001b[0m\u001b[0mto_unit\u001b[0m\u001b[1;33m)\u001b[0m\u001b[1;33m\u001b[0m\u001b[0m\n\u001b[0m\u001b[0;32m     23\u001b[0m     \u001b[1;32mexcept\u001b[0m \u001b[0mUnitsError\u001b[0m\u001b[1;33m:\u001b[0m\u001b[1;33m\u001b[0m\u001b[0m\n",
      "\u001b[1;32m~\\Miniconda3\\lib\\site-packages\\astropy\\units\\core.py\u001b[0m in \u001b[0;36m_to\u001b[1;34m(self, other)\u001b[0m\n\u001b[0;32m    943\u001b[0m         raise UnitConversionError(\n\u001b[1;32m--> 944\u001b[1;33m             \"'{0!r}' is not a scaled version of '{1!r}'\".format(self, other))\n\u001b[0m\u001b[0;32m    945\u001b[0m \u001b[1;33m\u001b[0m\u001b[0m\n",
      "\u001b[1;31mUnitConversionError\u001b[0m: 'Unit(\"m\")' is not a scaled version of 'Unit(dimensionless)'",
      "\nDuring handling of the above exception, another exception occurred:\n",
      "\u001b[1;31mUnitConversionError\u001b[0m                       Traceback (most recent call last)",
      "\u001b[1;32m~\\Miniconda3\\lib\\site-packages\\astropy\\units\\quantity_helper.py\u001b[0m in \u001b[0;36mhelper_dimensionless_to_dimensionless\u001b[1;34m(f, unit)\u001b[0m\n\u001b[0;32m    107\u001b[0m     \u001b[1;32mtry\u001b[0m\u001b[1;33m:\u001b[0m\u001b[1;33m\u001b[0m\u001b[0m\n\u001b[1;32m--> 108\u001b[1;33m         return ([get_converter(unit, dimensionless_unscaled)],\n\u001b[0m\u001b[0;32m    109\u001b[0m                 dimensionless_unscaled)\n",
      "\u001b[1;32m~\\Miniconda3\\lib\\site-packages\\astropy\\units\\quantity_helper.py\u001b[0m in \u001b[0;36mget_converter\u001b[1;34m(from_unit, to_unit)\u001b[0m\n\u001b[0;32m     24\u001b[0m         return from_unit._apply_equivalencies(\n\u001b[1;32m---> 25\u001b[1;33m                 from_unit, to_unit, get_current_unit_registry().equivalencies)\n\u001b[0m\u001b[0;32m     26\u001b[0m     \u001b[1;32mexcept\u001b[0m \u001b[0mAttributeError\u001b[0m\u001b[1;33m:\u001b[0m\u001b[1;33m\u001b[0m\u001b[0m\n",
      "\u001b[1;32m~\\Miniconda3\\lib\\site-packages\\astropy\\units\\core.py\u001b[0m in \u001b[0;36m_apply_equivalencies\u001b[1;34m(self, unit, other, equivalencies)\u001b[0m\n\u001b[0;32m    880\u001b[0m             \"{0} and {1} are not convertible\".format(\n\u001b[1;32m--> 881\u001b[1;33m                 unit_str, other_str))\n\u001b[0m\u001b[0;32m    882\u001b[0m \u001b[1;33m\u001b[0m\u001b[0m\n",
      "\u001b[1;31mUnitConversionError\u001b[0m: 'm' (length) and '' (dimensionless) are not convertible",
      "\nDuring handling of the above exception, another exception occurred:\n",
      "\u001b[1;31mUnitTypeError\u001b[0m                             Traceback (most recent call last)",
      "\u001b[1;32m<ipython-input-31-ce3799803f4d>\u001b[0m in \u001b[0;36m<module>\u001b[1;34m()\u001b[0m\n\u001b[1;32m----> 1\u001b[1;33m \u001b[0mnp\u001b[0m\u001b[1;33m.\u001b[0m\u001b[0mlog\u001b[0m\u001b[1;33m(\u001b[0m\u001b[1;36m2\u001b[0m \u001b[1;33m*\u001b[0m \u001b[0mu\u001b[0m\u001b[1;33m.\u001b[0m\u001b[0mm\u001b[0m\u001b[1;33m)\u001b[0m\u001b[1;33m\u001b[0m\u001b[0m\n\u001b[0m",
      "\u001b[1;32m~\\Miniconda3\\lib\\site-packages\\astropy\\units\\quantity.py\u001b[0m in \u001b[0;36m__array_ufunc__\u001b[1;34m(self, function, method, *inputs, **kwargs)\u001b[0m\n\u001b[0;32m    619\u001b[0m         \u001b[1;31m# consistent units between two inputs (e.g., in np.add) --\u001b[0m\u001b[1;33m\u001b[0m\u001b[1;33m\u001b[0m\u001b[0m\n\u001b[0;32m    620\u001b[0m         \u001b[1;31m# and the unit of the result (or tuple of units for nout > 1).\u001b[0m\u001b[1;33m\u001b[0m\u001b[1;33m\u001b[0m\u001b[0m\n\u001b[1;32m--> 621\u001b[1;33m         \u001b[0mconverters\u001b[0m\u001b[1;33m,\u001b[0m \u001b[0munit\u001b[0m \u001b[1;33m=\u001b[0m \u001b[0mconverters_and_unit\u001b[0m\u001b[1;33m(\u001b[0m\u001b[0mfunction\u001b[0m\u001b[1;33m,\u001b[0m \u001b[0mmethod\u001b[0m\u001b[1;33m,\u001b[0m \u001b[1;33m*\u001b[0m\u001b[0minputs\u001b[0m\u001b[1;33m)\u001b[0m\u001b[1;33m\u001b[0m\u001b[0m\n\u001b[0m\u001b[0;32m    622\u001b[0m \u001b[1;33m\u001b[0m\u001b[0m\n\u001b[0;32m    623\u001b[0m         \u001b[0mout\u001b[0m \u001b[1;33m=\u001b[0m \u001b[0mkwargs\u001b[0m\u001b[1;33m.\u001b[0m\u001b[0mget\u001b[0m\u001b[1;33m(\u001b[0m\u001b[1;34m'out'\u001b[0m\u001b[1;33m,\u001b[0m \u001b[1;32mNone\u001b[0m\u001b[1;33m)\u001b[0m\u001b[1;33m\u001b[0m\u001b[0m\n",
      "\u001b[1;32m~\\Miniconda3\\lib\\site-packages\\astropy\\units\\quantity_helper.py\u001b[0m in \u001b[0;36mconverters_and_unit\u001b[1;34m(function, method, *args)\u001b[0m\n\u001b[0;32m    459\u001b[0m         \u001b[1;31m# will have (this is a tuple of units if there are multiple outputs).\u001b[0m\u001b[1;33m\u001b[0m\u001b[1;33m\u001b[0m\u001b[0m\n\u001b[0;32m    460\u001b[0m         \u001b[1;32mif\u001b[0m \u001b[0mfunction\u001b[0m \u001b[1;32min\u001b[0m \u001b[0mUFUNC_HELPERS\u001b[0m\u001b[1;33m:\u001b[0m\u001b[1;33m\u001b[0m\u001b[0m\n\u001b[1;32m--> 461\u001b[1;33m             \u001b[0mconverters\u001b[0m\u001b[1;33m,\u001b[0m \u001b[0mresult_unit\u001b[0m \u001b[1;33m=\u001b[0m \u001b[0mUFUNC_HELPERS\u001b[0m\u001b[1;33m[\u001b[0m\u001b[0mfunction\u001b[0m\u001b[1;33m]\u001b[0m\u001b[1;33m(\u001b[0m\u001b[0mfunction\u001b[0m\u001b[1;33m,\u001b[0m \u001b[1;33m*\u001b[0m\u001b[0munits\u001b[0m\u001b[1;33m)\u001b[0m\u001b[1;33m\u001b[0m\u001b[0m\n\u001b[0m\u001b[0;32m    462\u001b[0m         \u001b[1;32melse\u001b[0m\u001b[1;33m:\u001b[0m\u001b[1;33m\u001b[0m\u001b[0m\n\u001b[0;32m    463\u001b[0m             raise TypeError(\"Unknown ufunc {0}.  Please raise issue on \"\n",
      "\u001b[1;32m~\\Miniconda3\\lib\\site-packages\\astropy\\units\\quantity_helper.py\u001b[0m in \u001b[0;36mhelper_dimensionless_to_dimensionless\u001b[1;34m(f, unit)\u001b[0m\n\u001b[0;32m    111\u001b[0m         raise UnitTypeError(\"Can only apply '{0}' function to \"\n\u001b[0;32m    112\u001b[0m                             \u001b[1;34m\"dimensionless quantities\"\u001b[0m\u001b[1;33m\u001b[0m\u001b[0m\n\u001b[1;32m--> 113\u001b[1;33m                             .format(f.__name__))\n\u001b[0m\u001b[0;32m    114\u001b[0m \u001b[1;33m\u001b[0m\u001b[0m\n\u001b[0;32m    115\u001b[0m \u001b[1;33m\u001b[0m\u001b[0m\n",
      "\u001b[1;31mUnitTypeError\u001b[0m: Can only apply 'log' function to dimensionless quantities"
     ]
    }
   ],
   "source": [
    "np.log(2 * u.m)"
   ]
  },
  {
   "cell_type": "code",
   "execution_count": 32,
   "metadata": {},
   "outputs": [
    {
     "data": {
      "text/latex": [
       "$7.6009025 \\; \\mathrm{}$"
      ],
      "text/plain": [
       "<Quantity 7.600902459542082>"
      ]
     },
     "execution_count": 32,
     "metadata": {},
     "output_type": "execute_result"
    }
   ],
   "source": [
    "np.log((2 * u.km) / (1 * u.m))"
   ]
  },
  {
   "cell_type": "code",
   "execution_count": 33,
   "metadata": {},
   "outputs": [
    {
     "data": {
      "text/latex": [
       "$3.30103 \\; \\mathrm{}$"
      ],
      "text/plain": [
       "<Quantity 3.3010299956639813>"
      ]
     },
     "execution_count": 33,
     "metadata": {},
     "output_type": "execute_result"
    }
   ],
   "source": [
    "np.log10((2 * u.km) / (1 * u.m))"
   ]
  },
  {
   "cell_type": "markdown",
   "metadata": {},
   "source": [
    "### Or they expect the correct type of unit!"
   ]
  },
  {
   "cell_type": "code",
   "execution_count": 34,
   "metadata": {},
   "outputs": [
    {
     "ename": "UnitTypeError",
     "evalue": "Can only apply 'sin' function to quantities with angle units",
     "output_type": "error",
     "traceback": [
      "\u001b[1;31m---------------------------------------------------------------------------\u001b[0m",
      "\u001b[1;31mUnitConversionError\u001b[0m                       Traceback (most recent call last)",
      "\u001b[1;32m~\\Miniconda3\\lib\\site-packages\\astropy\\units\\quantity_helper.py\u001b[0m in \u001b[0;36mget_converter\u001b[1;34m(from_unit, to_unit)\u001b[0m\n\u001b[0;32m     21\u001b[0m     \u001b[1;32mtry\u001b[0m\u001b[1;33m:\u001b[0m\u001b[1;33m\u001b[0m\u001b[0m\n\u001b[1;32m---> 22\u001b[1;33m         \u001b[0mscale\u001b[0m \u001b[1;33m=\u001b[0m \u001b[0mfrom_unit\u001b[0m\u001b[1;33m.\u001b[0m\u001b[0m_to\u001b[0m\u001b[1;33m(\u001b[0m\u001b[0mto_unit\u001b[0m\u001b[1;33m)\u001b[0m\u001b[1;33m\u001b[0m\u001b[0m\n\u001b[0m\u001b[0;32m     23\u001b[0m     \u001b[1;32mexcept\u001b[0m \u001b[0mUnitsError\u001b[0m\u001b[1;33m:\u001b[0m\u001b[1;33m\u001b[0m\u001b[0m\n",
      "\u001b[1;32m~\\Miniconda3\\lib\\site-packages\\astropy\\units\\core.py\u001b[0m in \u001b[0;36m_to\u001b[1;34m(self, other)\u001b[0m\n\u001b[0;32m    943\u001b[0m         raise UnitConversionError(\n\u001b[1;32m--> 944\u001b[1;33m             \"'{0!r}' is not a scaled version of '{1!r}'\".format(self, other))\n\u001b[0m\u001b[0;32m    945\u001b[0m \u001b[1;33m\u001b[0m\u001b[0m\n",
      "\u001b[1;31mUnitConversionError\u001b[0m: 'Unit(\"m\")' is not a scaled version of 'Unit(\"rad\")'",
      "\nDuring handling of the above exception, another exception occurred:\n",
      "\u001b[1;31mUnitConversionError\u001b[0m                       Traceback (most recent call last)",
      "\u001b[1;32m~\\Miniconda3\\lib\\site-packages\\astropy\\units\\quantity_helper.py\u001b[0m in \u001b[0;36mhelper_radian_to_dimensionless\u001b[1;34m(f, unit)\u001b[0m\n\u001b[0;32m    196\u001b[0m     \u001b[1;32mtry\u001b[0m\u001b[1;33m:\u001b[0m\u001b[1;33m\u001b[0m\u001b[0m\n\u001b[1;32m--> 197\u001b[1;33m         \u001b[1;32mreturn\u001b[0m \u001b[1;33m[\u001b[0m\u001b[0mget_converter\u001b[0m\u001b[1;33m(\u001b[0m\u001b[0munit\u001b[0m\u001b[1;33m,\u001b[0m \u001b[0mradian\u001b[0m\u001b[1;33m)\u001b[0m\u001b[1;33m]\u001b[0m\u001b[1;33m,\u001b[0m \u001b[0mdimensionless_unscaled\u001b[0m\u001b[1;33m\u001b[0m\u001b[0m\n\u001b[0m\u001b[0;32m    198\u001b[0m     \u001b[1;32mexcept\u001b[0m \u001b[0mUnitsError\u001b[0m\u001b[1;33m:\u001b[0m\u001b[1;33m\u001b[0m\u001b[0m\n",
      "\u001b[1;32m~\\Miniconda3\\lib\\site-packages\\astropy\\units\\quantity_helper.py\u001b[0m in \u001b[0;36mget_converter\u001b[1;34m(from_unit, to_unit)\u001b[0m\n\u001b[0;32m     24\u001b[0m         return from_unit._apply_equivalencies(\n\u001b[1;32m---> 25\u001b[1;33m                 from_unit, to_unit, get_current_unit_registry().equivalencies)\n\u001b[0m\u001b[0;32m     26\u001b[0m     \u001b[1;32mexcept\u001b[0m \u001b[0mAttributeError\u001b[0m\u001b[1;33m:\u001b[0m\u001b[1;33m\u001b[0m\u001b[0m\n",
      "\u001b[1;32m~\\Miniconda3\\lib\\site-packages\\astropy\\units\\core.py\u001b[0m in \u001b[0;36m_apply_equivalencies\u001b[1;34m(self, unit, other, equivalencies)\u001b[0m\n\u001b[0;32m    880\u001b[0m             \"{0} and {1} are not convertible\".format(\n\u001b[1;32m--> 881\u001b[1;33m                 unit_str, other_str))\n\u001b[0m\u001b[0;32m    882\u001b[0m \u001b[1;33m\u001b[0m\u001b[0m\n",
      "\u001b[1;31mUnitConversionError\u001b[0m: 'm' (length) and 'rad' (angle) are not convertible",
      "\nDuring handling of the above exception, another exception occurred:\n",
      "\u001b[1;31mUnitTypeError\u001b[0m                             Traceback (most recent call last)",
      "\u001b[1;32m<ipython-input-34-bcdbab9a5a33>\u001b[0m in \u001b[0;36m<module>\u001b[1;34m()\u001b[0m\n\u001b[1;32m----> 1\u001b[1;33m \u001b[0mnp\u001b[0m\u001b[1;33m.\u001b[0m\u001b[0msin\u001b[0m\u001b[1;33m(\u001b[0m\u001b[1;36m2\u001b[0m \u001b[1;33m*\u001b[0m \u001b[0mu\u001b[0m\u001b[1;33m.\u001b[0m\u001b[0mm\u001b[0m\u001b[1;33m)\u001b[0m\u001b[1;33m\u001b[0m\u001b[0m\n\u001b[0m",
      "\u001b[1;32m~\\Miniconda3\\lib\\site-packages\\astropy\\units\\quantity.py\u001b[0m in \u001b[0;36m__array_ufunc__\u001b[1;34m(self, function, method, *inputs, **kwargs)\u001b[0m\n\u001b[0;32m    619\u001b[0m         \u001b[1;31m# consistent units between two inputs (e.g., in np.add) --\u001b[0m\u001b[1;33m\u001b[0m\u001b[1;33m\u001b[0m\u001b[0m\n\u001b[0;32m    620\u001b[0m         \u001b[1;31m# and the unit of the result (or tuple of units for nout > 1).\u001b[0m\u001b[1;33m\u001b[0m\u001b[1;33m\u001b[0m\u001b[0m\n\u001b[1;32m--> 621\u001b[1;33m         \u001b[0mconverters\u001b[0m\u001b[1;33m,\u001b[0m \u001b[0munit\u001b[0m \u001b[1;33m=\u001b[0m \u001b[0mconverters_and_unit\u001b[0m\u001b[1;33m(\u001b[0m\u001b[0mfunction\u001b[0m\u001b[1;33m,\u001b[0m \u001b[0mmethod\u001b[0m\u001b[1;33m,\u001b[0m \u001b[1;33m*\u001b[0m\u001b[0minputs\u001b[0m\u001b[1;33m)\u001b[0m\u001b[1;33m\u001b[0m\u001b[0m\n\u001b[0m\u001b[0;32m    622\u001b[0m \u001b[1;33m\u001b[0m\u001b[0m\n\u001b[0;32m    623\u001b[0m         \u001b[0mout\u001b[0m \u001b[1;33m=\u001b[0m \u001b[0mkwargs\u001b[0m\u001b[1;33m.\u001b[0m\u001b[0mget\u001b[0m\u001b[1;33m(\u001b[0m\u001b[1;34m'out'\u001b[0m\u001b[1;33m,\u001b[0m \u001b[1;32mNone\u001b[0m\u001b[1;33m)\u001b[0m\u001b[1;33m\u001b[0m\u001b[0m\n",
      "\u001b[1;32m~\\Miniconda3\\lib\\site-packages\\astropy\\units\\quantity_helper.py\u001b[0m in \u001b[0;36mconverters_and_unit\u001b[1;34m(function, method, *args)\u001b[0m\n\u001b[0;32m    459\u001b[0m         \u001b[1;31m# will have (this is a tuple of units if there are multiple outputs).\u001b[0m\u001b[1;33m\u001b[0m\u001b[1;33m\u001b[0m\u001b[0m\n\u001b[0;32m    460\u001b[0m         \u001b[1;32mif\u001b[0m \u001b[0mfunction\u001b[0m \u001b[1;32min\u001b[0m \u001b[0mUFUNC_HELPERS\u001b[0m\u001b[1;33m:\u001b[0m\u001b[1;33m\u001b[0m\u001b[0m\n\u001b[1;32m--> 461\u001b[1;33m             \u001b[0mconverters\u001b[0m\u001b[1;33m,\u001b[0m \u001b[0mresult_unit\u001b[0m \u001b[1;33m=\u001b[0m \u001b[0mUFUNC_HELPERS\u001b[0m\u001b[1;33m[\u001b[0m\u001b[0mfunction\u001b[0m\u001b[1;33m]\u001b[0m\u001b[1;33m(\u001b[0m\u001b[0mfunction\u001b[0m\u001b[1;33m,\u001b[0m \u001b[1;33m*\u001b[0m\u001b[0munits\u001b[0m\u001b[1;33m)\u001b[0m\u001b[1;33m\u001b[0m\u001b[0m\n\u001b[0m\u001b[0;32m    462\u001b[0m         \u001b[1;32melse\u001b[0m\u001b[1;33m:\u001b[0m\u001b[1;33m\u001b[0m\u001b[0m\n\u001b[0;32m    463\u001b[0m             raise TypeError(\"Unknown ufunc {0}.  Please raise issue on \"\n",
      "\u001b[1;32m~\\Miniconda3\\lib\\site-packages\\astropy\\units\\quantity_helper.py\u001b[0m in \u001b[0;36mhelper_radian_to_dimensionless\u001b[1;34m(f, unit)\u001b[0m\n\u001b[0;32m    199\u001b[0m         raise UnitTypeError(\"Can only apply '{0}' function to \"\n\u001b[0;32m    200\u001b[0m                             \u001b[1;34m\"quantities with angle units\"\u001b[0m\u001b[1;33m\u001b[0m\u001b[0m\n\u001b[1;32m--> 201\u001b[1;33m                             .format(f.__name__))\n\u001b[0m\u001b[0;32m    202\u001b[0m \u001b[1;33m\u001b[0m\u001b[0m\n\u001b[0;32m    203\u001b[0m \u001b[1;33m\u001b[0m\u001b[0m\n",
      "\u001b[1;31mUnitTypeError\u001b[0m: Can only apply 'sin' function to quantities with angle units"
     ]
    }
   ],
   "source": [
    "np.sin(2 * u.m)"
   ]
  },
  {
   "cell_type": "code",
   "execution_count": 35,
   "metadata": {},
   "outputs": [
    {
     "data": {
      "text/latex": [
       "$0.034899497 \\; \\mathrm{}$"
      ],
      "text/plain": [
       "<Quantity 0.03489949670250097>"
      ]
     },
     "execution_count": 35,
     "metadata": {},
     "output_type": "execute_result"
    }
   ],
   "source": [
    "np.sin(2 * u.deg)"
   ]
  },
  {
   "cell_type": "markdown",
   "metadata": {},
   "source": [
    "## Using units can save you headaches. \n",
    "\n",
    "* All of the trig functions expect all angles to be in radians. \n",
    "* If you forget this, it can lead to problems that are hard to debug"
   ]
  },
  {
   "cell_type": "code",
   "execution_count": 36,
   "metadata": {},
   "outputs": [
    {
     "data": {
      "text/plain": [
       "0.89399666360055785"
      ]
     },
     "execution_count": 36,
     "metadata": {},
     "output_type": "execute_result"
    }
   ],
   "source": [
    "np.sin(90)               # not really what I expected"
   ]
  },
  {
   "cell_type": "code",
   "execution_count": 37,
   "metadata": {},
   "outputs": [
    {
     "data": {
      "text/latex": [
       "$1 \\; \\mathrm{}$"
      ],
      "text/plain": [
       "<Quantity 1.0>"
      ]
     },
     "execution_count": 37,
     "metadata": {},
     "output_type": "execute_result"
    }
   ],
   "source": [
    "np.sin(90 * u.deg)       # better"
   ]
  },
  {
   "cell_type": "markdown",
   "metadata": {},
   "source": [
    "# QTables vs. DataFrames\n",
    "\n",
    "* Astropy tables are constructed to use units.\n",
    "* The units of the column will be saved with the table\n",
    "\n",
    "\n",
    "# Part II - Advantage Astropy"
   ]
  },
  {
   "cell_type": "code",
   "execution_count": 38,
   "metadata": {
    "collapsed": true
   },
   "outputs": [],
   "source": [
    "planet_table = QTable.read('Planets.csv', format='ascii.csv')"
   ]
  },
  {
   "cell_type": "code",
   "execution_count": 39,
   "metadata": {},
   "outputs": [
    {
     "data": {
      "text/html": [
       "&lt;QTable length=3&gt;\n",
       "<table id=\"table2228477376776\" class=\"table-striped table-bordered table-condensed\">\n",
       "<thead><tr><th>Name</th><th>a</th><th>col2</th></tr></thead>\n",
       "<thead><tr><th>str7</th><th>float64</th><th>float64</th></tr></thead>\n",
       "<tr><td>Mercury</td><td>0.3871</td><td>0.2056</td></tr>\n",
       "<tr><td>Venus</td><td>0.7233</td><td>0.0068</td></tr>\n",
       "<tr><td>Earth</td><td>0.9991</td><td>0.0166</td></tr>\n",
       "</table>"
      ],
      "text/plain": [
       "<QTable length=3>\n",
       "  Name     a      col2 \n",
       "  str7  float64 float64\n",
       "------- ------- -------\n",
       "Mercury  0.3871  0.2056\n",
       "  Venus  0.7233  0.0068\n",
       "  Earth  0.9991  0.0166"
      ]
     },
     "execution_count": 39,
     "metadata": {},
     "output_type": "execute_result"
    }
   ],
   "source": [
    "planet_table[0:3]"
   ]
  },
  {
   "cell_type": "code",
   "execution_count": 40,
   "metadata": {},
   "outputs": [
    {
     "data": {
      "text/html": [
       "&lt;QTable length=3&gt;\n",
       "<table id=\"table2228477377728\" class=\"table-striped table-bordered table-condensed\">\n",
       "<thead><tr><th>Name</th><th>a</th><th>col2</th></tr></thead>\n",
       "<thead><tr><th></th><th>AU</th><th></th></tr></thead>\n",
       "<thead><tr><th>str7</th><th>float64</th><th>float64</th></tr></thead>\n",
       "<tr><td>Mercury</td><td>0.3871</td><td>0.2056</td></tr>\n",
       "<tr><td>Venus</td><td>0.7233</td><td>0.0068</td></tr>\n",
       "<tr><td>Earth</td><td>0.9991</td><td>0.0166</td></tr>\n",
       "</table>"
      ],
      "text/plain": [
       "<QTable length=3>\n",
       "  Name     a      col2 \n",
       "           AU          \n",
       "  str7  float64 float64\n",
       "------- ------- -------\n",
       "Mercury  0.3871  0.2056\n",
       "  Venus  0.7233  0.0068\n",
       "  Earth  0.9991  0.0166"
      ]
     },
     "execution_count": 40,
     "metadata": {},
     "output_type": "execute_result"
    }
   ],
   "source": [
    "planet_table['a'].unit = u.AU\n",
    "planet_table[0:3]"
   ]
  },
  {
   "cell_type": "markdown",
   "metadata": {},
   "source": [
    "### The unit is now part of the structure of the table, and will be saved when the table is saved."
   ]
  },
  {
   "cell_type": "code",
   "execution_count": 41,
   "metadata": {},
   "outputs": [
    {
     "data": {
      "text/latex": [
       "$[57909336,~1.0820414 \\times 10^{8},~1.4946323 \\times 10^{8},~2.2794228 \\times 10^{8},~7.7814828 \\times 10^{8},~1.4275227 \\times 10^{9},~2.8681951 \\times 10^{9},~4.4844804 \\times 10^{9},~2.6716534 \\times 10^{9}] \\; \\mathrm{km}$"
      ],
      "text/plain": [
       "<Quantity [  5.79093357e+07,  1.08204140e+08,  1.49463233e+08,\n",
       "             2.27942276e+08,  7.78148284e+08,  1.42752272e+09,\n",
       "             2.86819510e+09,  4.48448041e+09,  2.67165341e+09] km>"
      ]
     },
     "execution_count": 41,
     "metadata": {},
     "output_type": "execute_result"
    }
   ],
   "source": [
    "planet_table['a'].to(u.km)"
   ]
  },
  {
   "cell_type": "code",
   "execution_count": 42,
   "metadata": {},
   "outputs": [
    {
     "data": {
      "text/latex": [
       "$1.4946323 \\times 10^{8} \\; \\mathrm{km}$"
      ],
      "text/plain": [
       "<Quantity 149463232.61637 km>"
      ]
     },
     "execution_count": 42,
     "metadata": {},
     "output_type": "execute_result"
    }
   ],
   "source": [
    "planet_table['a'].to(u.km)[2]"
   ]
  },
  {
   "cell_type": "markdown",
   "metadata": {},
   "source": [
    "### You can use  `pandas` to read in tables and then convert them to `QTables`"
   ]
  },
  {
   "cell_type": "code",
   "execution_count": 43,
   "metadata": {
    "collapsed": true
   },
   "outputs": [],
   "source": [
    "planet_table2 = pd.read_csv('Planets.csv')"
   ]
  },
  {
   "cell_type": "code",
   "execution_count": 44,
   "metadata": {},
   "outputs": [
    {
     "data": {
      "text/html": [
       "<div>\n",
       "<style>\n",
       "    .dataframe thead tr:only-child th {\n",
       "        text-align: right;\n",
       "    }\n",
       "\n",
       "    .dataframe thead th {\n",
       "        text-align: left;\n",
       "    }\n",
       "\n",
       "    .dataframe tbody tr th {\n",
       "        vertical-align: top;\n",
       "    }\n",
       "</style>\n",
       "<table border=\"1\" class=\"dataframe\">\n",
       "  <thead>\n",
       "    <tr style=\"text-align: right;\">\n",
       "      <th></th>\n",
       "      <th>Name</th>\n",
       "      <th>a</th>\n",
       "      <th>Unnamed: 2</th>\n",
       "    </tr>\n",
       "  </thead>\n",
       "  <tbody>\n",
       "    <tr>\n",
       "      <th>0</th>\n",
       "      <td>Mercury</td>\n",
       "      <td>0.3871</td>\n",
       "      <td>0.2056</td>\n",
       "    </tr>\n",
       "    <tr>\n",
       "      <th>1</th>\n",
       "      <td>Venus</td>\n",
       "      <td>0.7233</td>\n",
       "      <td>0.0068</td>\n",
       "    </tr>\n",
       "    <tr>\n",
       "      <th>2</th>\n",
       "      <td>Earth</td>\n",
       "      <td>0.9991</td>\n",
       "      <td>0.0166</td>\n",
       "    </tr>\n",
       "  </tbody>\n",
       "</table>\n",
       "</div>"
      ],
      "text/plain": [
       "      Name       a  Unnamed: 2\n",
       "0  Mercury  0.3871      0.2056\n",
       "1    Venus  0.7233      0.0068\n",
       "2    Earth  0.9991      0.0166"
      ]
     },
     "execution_count": 44,
     "metadata": {},
     "output_type": "execute_result"
    }
   ],
   "source": [
    "planet_table2[0:3]"
   ]
  },
  {
   "cell_type": "code",
   "execution_count": 45,
   "metadata": {
    "collapsed": true
   },
   "outputs": [],
   "source": [
    "planet_table3 = QTable.from_pandas(planet_table2)"
   ]
  },
  {
   "cell_type": "code",
   "execution_count": 46,
   "metadata": {
    "collapsed": true
   },
   "outputs": [],
   "source": [
    "planet_table3['a'].unit = u.AU"
   ]
  },
  {
   "cell_type": "code",
   "execution_count": 47,
   "metadata": {},
   "outputs": [
    {
     "data": {
      "text/html": [
       "&lt;QTable length=3&gt;\n",
       "<table id=\"table2228478132800\" class=\"table-striped table-bordered table-condensed\">\n",
       "<thead><tr><th>Name</th><th>a</th><th>Unnamed: 2</th></tr></thead>\n",
       "<thead><tr><th></th><th>AU</th><th></th></tr></thead>\n",
       "<thead><tr><th>str7</th><th>float64</th><th>float64</th></tr></thead>\n",
       "<tr><td>Mercury</td><td>0.3871</td><td>0.2056</td></tr>\n",
       "<tr><td>Venus</td><td>0.7233</td><td>0.0068</td></tr>\n",
       "<tr><td>Earth</td><td>0.9991</td><td>0.0166</td></tr>\n",
       "</table>"
      ],
      "text/plain": [
       "<QTable length=3>\n",
       "  Name     a    Unnamed: 2\n",
       "           AU             \n",
       "  str7  float64  float64  \n",
       "------- ------- ----------\n",
       "Mercury  0.3871     0.2056\n",
       "  Venus  0.7233     0.0068\n",
       "  Earth  0.9991     0.0166"
      ]
     },
     "execution_count": 47,
     "metadata": {},
     "output_type": "execute_result"
    }
   ],
   "source": [
    "planet_table3[0:3]"
   ]
  },
  {
   "cell_type": "code",
   "execution_count": 48,
   "metadata": {},
   "outputs": [
    {
     "data": {
      "text/latex": [
       "$[0.3871,~0.7233,~0.9991,~1.5237,~5.2016,~9.5424,~19.1727,~29.9769,~17.8589] \\; \\mathrm{AU}$"
      ],
      "text/plain": [
       "<Quantity [  0.3871,  0.7233,  0.9991,  1.5237,  5.2016,  9.5424, 19.1727,\n",
       "            29.9769, 17.8589] AU>"
      ]
     },
     "execution_count": 48,
     "metadata": {},
     "output_type": "execute_result"
    }
   ],
   "source": [
    "planet_table3['a']"
   ]
  },
  {
   "cell_type": "code",
   "execution_count": 49,
   "metadata": {},
   "outputs": [
    {
     "data": {
      "text/latex": [
       "$[57909336,~1.0820414 \\times 10^{8},~1.4946323 \\times 10^{8},~2.2794228 \\times 10^{8},~7.7814828 \\times 10^{8},~1.4275227 \\times 10^{9},~2.8681951 \\times 10^{9},~4.4844804 \\times 10^{9},~2.6716534 \\times 10^{9}] \\; \\mathrm{km}$"
      ],
      "text/plain": [
       "<Quantity [  5.79093357e+07,  1.08204140e+08,  1.49463233e+08,\n",
       "             2.27942276e+08,  7.78148284e+08,  1.42752272e+09,\n",
       "             2.86819510e+09,  4.48448041e+09,  2.67165341e+09] km>"
      ]
     },
     "execution_count": 49,
     "metadata": {},
     "output_type": "execute_result"
    }
   ],
   "source": [
    "planet_table3['a'].to(u.km)"
   ]
  },
  {
   "cell_type": "markdown",
   "metadata": {},
   "source": [
    "# Constants"
   ]
  },
  {
   "cell_type": "markdown",
   "metadata": {},
   "source": [
    "The `Astropy` package also includes a whole bunch of built-in constants to make your life easier.\n",
    "\n",
    "A complete list of the built-in constants can be found [here.](http://docs.astropy.org/en/stable/constants/index.html#reference-api)"
   ]
  },
  {
   "cell_type": "code",
   "execution_count": 50,
   "metadata": {},
   "outputs": [
    {
     "data": {
      "text/latex": [
       "$6.67408 \\times 10^{-11} \\; \\mathrm{\\frac{m^{3}}{kg\\,s^{2}}}$"
      ],
      "text/plain": [
       "<<class 'astropy.constants.codata2014.CODATA2014'> name='Gravitational constant' value=6.67408e-11 uncertainty=3.1e-15 unit='m3 / (kg s2)' reference='CODATA 2014'>"
      ]
     },
     "execution_count": 50,
     "metadata": {},
     "output_type": "execute_result"
    }
   ],
   "source": [
    "const.G"
   ]
  },
  {
   "cell_type": "code",
   "execution_count": 51,
   "metadata": {},
   "outputs": [
    {
     "data": {
      "text/latex": [
       "$1.9884754 \\times 10^{30} \\; \\mathrm{kg}$"
      ],
      "text/plain": [
       "<<class 'astropy.constants.iau2015.IAU2015'> name='Solar mass' value=1.9884754153381438e+30 uncertainty=9.236140093538353e+25 unit='kg' reference='IAU 2015 Resolution B 3 + CODATA 2014'>"
      ]
     },
     "execution_count": 51,
     "metadata": {},
     "output_type": "execute_result"
    }
   ],
   "source": [
    "const.M_sun"
   ]
  },
  {
   "cell_type": "markdown",
   "metadata": {},
   "source": [
    "---\n",
    "\n",
    "### An Example: The velocity of an object in circular orbit around the Sun is"
   ]
  },
  {
   "cell_type": "markdown",
   "metadata": {},
   "source": [
    "$$ v=\\sqrt{GM_{\\odot}\\over d} $$"
   ]
  },
  {
   "cell_type": "code",
   "execution_count": 52,
   "metadata": {
    "collapsed": true
   },
   "outputs": [],
   "source": [
    "distance = planet_table['a'][0:3]  # Mercury, Venus, Earth"
   ]
  },
  {
   "cell_type": "code",
   "execution_count": 53,
   "metadata": {},
   "outputs": [
    {
     "data": {
      "text/latex": [
       "$[1.8515875 \\times 10^{10},~1.3545548 \\times 10^{10},~1.1525276 \\times 10^{10}] \\; \\mathrm{\\frac{m^{3/2}}{AU^{1/2}\\,s}}$"
      ],
      "text/plain": [
       "<Quantity [  1.85158746e+10,  1.35455482e+10,  1.15252761e+10] m(3/2) / (AU(1/2) s)>"
      ]
     },
     "execution_count": 53,
     "metadata": {},
     "output_type": "execute_result"
    }
   ],
   "source": [
    "orbit_v = np.sqrt(const.G * const.M_sun / distance)\n",
    "\n",
    "orbit_v"
   ]
  },
  {
   "cell_type": "code",
   "execution_count": 54,
   "metadata": {},
   "outputs": [
    {
     "data": {
      "text/latex": [
       "$[47871.995,~35021.43,~29798.104] \\; \\mathrm{\\frac{m}{s}}$"
      ],
      "text/plain": [
       "<Quantity [ 47871.99487197, 35021.43025437, 29798.10399489] m / s>"
      ]
     },
     "execution_count": 54,
     "metadata": {},
     "output_type": "execute_result"
    }
   ],
   "source": [
    "orbit_v.decompose()"
   ]
  },
  {
   "cell_type": "code",
   "execution_count": 55,
   "metadata": {},
   "outputs": [
    {
     "data": {
      "text/latex": [
       "$[47.871995,~35.02143,~29.798104] \\; \\mathrm{\\frac{km}{s}}$"
      ],
      "text/plain": [
       "<Quantity [ 47.87199487, 35.02143025, 29.79810399] km / s>"
      ]
     },
     "execution_count": 55,
     "metadata": {},
     "output_type": "execute_result"
    }
   ],
   "source": [
    "orbit_v.to(u.km/u.s)"
   ]
  },
  {
   "cell_type": "code",
   "execution_count": 56,
   "metadata": {},
   "outputs": [
    {
     "data": {
      "text/latex": [
       "$[14.103839,~10.317861,~8.7789878] \\; \\mathrm{\\frac{Ringos}{ms}}$"
      ],
      "text/plain": [
       "<Quantity [ 14.10383896, 10.31786149,  8.77898782] Ringos / ms>"
      ]
     },
     "execution_count": 56,
     "metadata": {},
     "output_type": "execute_result"
    }
   ],
   "source": [
    "orbit_v.to(ringo/u.ms)"
   ]
  },
  {
   "cell_type": "markdown",
   "metadata": {},
   "source": [
    "## Functions and Units - (Last week's homework)"
   ]
  },
  {
   "cell_type": "code",
   "execution_count": 57,
   "metadata": {
    "collapsed": true
   },
   "outputs": [],
   "source": [
    "def find_diameter(H,A):\n",
    "    result = (1329 / np.sqrt(A)) * (10 ** (-0.2 * H))\n",
    "    return result * u.km"
   ]
  },
  {
   "cell_type": "code",
   "execution_count": 58,
   "metadata": {},
   "outputs": [
    {
     "data": {
      "text/latex": [
       "$951.4889 \\; \\mathrm{km}$"
      ],
      "text/plain": [
       "<Quantity 951.4889000398265 km>"
      ]
     },
     "execution_count": 58,
     "metadata": {},
     "output_type": "execute_result"
    }
   ],
   "source": [
    "H = 3.34\n",
    "A = 0.09\n",
    "\n",
    "asteroid_diameter = find_diameter(H,A)\n",
    "asteroid_diameter"
   ]
  },
  {
   "cell_type": "code",
   "execution_count": 59,
   "metadata": {
    "collapsed": true
   },
   "outputs": [],
   "source": [
    "def find_mass(D):\n",
    "    p = 3000 * (u.kg / u.m**3)\n",
    "    result = p * (1/6) * np.pi * D**3\n",
    "    return result"
   ]
  },
  {
   "cell_type": "code",
   "execution_count": 60,
   "metadata": {},
   "outputs": [
    {
     "data": {
      "text/latex": [
       "$1.3531036 \\times 10^{12} \\; \\mathrm{\\frac{km^{3}\\,kg}{m^{3}}}$"
      ],
      "text/plain": [
       "<Quantity 1353103619294.39 kg km3 / m3>"
      ]
     },
     "execution_count": 60,
     "metadata": {},
     "output_type": "execute_result"
    }
   ],
   "source": [
    "asteroid_mass = find_mass(asteroid_diameter)\n",
    "asteroid_mass"
   ]
  },
  {
   "cell_type": "code",
   "execution_count": 61,
   "metadata": {},
   "outputs": [
    {
     "data": {
      "text/latex": [
       "$1.3531036 \\times 10^{21} \\; \\mathrm{kg}$"
      ],
      "text/plain": [
       "<Quantity 1.3531036192943899e+21 kg>"
      ]
     },
     "execution_count": 61,
     "metadata": {},
     "output_type": "execute_result"
    }
   ],
   "source": [
    "asteroid_mass.decompose()"
   ]
  },
  {
   "cell_type": "code",
   "execution_count": 62,
   "metadata": {
    "collapsed": true
   },
   "outputs": [],
   "source": [
    "moon_mass = u.def_unit('Lunar\\ Masses', 7.34767309e22 * u.kg)"
   ]
  },
  {
   "cell_type": "code",
   "execution_count": 63,
   "metadata": {},
   "outputs": [
    {
     "data": {
      "text/latex": [
       "$0.018415403 \\; \\mathrm{Lunar\\ Masses}$"
      ],
      "text/plain": [
       "<Quantity 0.018415403117701713 Lunar\\ Masses>"
      ]
     },
     "execution_count": 63,
     "metadata": {},
     "output_type": "execute_result"
    }
   ],
   "source": [
    "asteroid_mass.to(moon_mass)"
   ]
  },
  {
   "cell_type": "code",
   "execution_count": null,
   "metadata": {
    "collapsed": true
   },
   "outputs": [],
   "source": []
  }
 ],
 "metadata": {
  "kernelspec": {
   "display_name": "Python 3",
   "language": "python",
   "name": "python3"
  },
  "language_info": {
   "codemirror_mode": {
    "name": "ipython",
    "version": 3
   },
   "file_extension": ".py",
   "mimetype": "text/x-python",
   "name": "python",
   "nbconvert_exporter": "python",
   "pygments_lexer": "ipython3",
   "version": "3.6.2"
  }
 },
 "nbformat": 4,
 "nbformat_minor": 1
}
