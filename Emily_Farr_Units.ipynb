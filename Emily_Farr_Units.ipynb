{
 "cells": [
  {
   "cell_type": "markdown",
   "metadata": {},
   "source": [
    "Emily_Farr"
   ]
  },
  {
   "cell_type": "markdown",
   "metadata": {},
   "source": [
    "* Use the `Astropy` units and constants packages to solve the following problems.\n",
    "* Do not hardcode any constants!\n",
    "* Unless asked, your units should be in the simplest SI units possible.\n",
    "* Your answers should be as sentences. For example:\n",
    "  * `The impuse would be VALUE UNITS.`"
   ]
  },
  {
   "cell_type": "code",
   "execution_count": 33,
   "metadata": {},
   "outputs": [
    {
     "data": {
      "text/plain": [
       "<astropy.units.core._UnitContext at 0x20d664e3b38>"
      ]
     },
     "execution_count": 33,
     "metadata": {},
     "output_type": "execute_result"
    }
   ],
   "source": [
    "import numpy as np\n",
    "\n",
    "from astropy import units as u\n",
    "from astropy import constants as const\n",
    "from astropy.units import imperial\n",
    "imperial.enable()"
   ]
  },
  {
   "cell_type": "markdown",
   "metadata": {},
   "source": [
    "### Impulse is a change in momentum\n",
    "\n",
    "$$ I = \\Delta\\ p\\ =\\ m\\Delta v $$"
   ]
  },
  {
   "cell_type": "markdown",
   "metadata": {},
   "source": [
    "**Problem 1** - Calculate the $\\Delta$v that would be the result of an impuse of 700 (N * s) for M = 338 kg."
   ]
  },
  {
   "cell_type": "code",
   "execution_count": 30,
   "metadata": {},
   "outputs": [],
   "source": [
    "impulse = 700 * u.N * u.s\n",
    "Mass = 338 * u.kg\n",
    "Δv = (impulse / Mass).si\n",
    "Δv_value = Δv.value\n",
    "Δv_units = Δv.unit"
   ]
  },
  {
   "cell_type": "code",
   "execution_count": 29,
   "metadata": {},
   "outputs": [
    {
     "name": "stdout",
     "output_type": "stream",
     "text": [
      "The change in v is due to the impulse is 2.071 in units of m / s\n"
     ]
    }
   ],
   "source": [
    "change_of_v_SI = \"The change in v is due to the impulse is {0:.3f} in units of {1:s}\".format(Δv_value,Δv_units)\n",
    "print(change_of_v_SI)"
   ]
  },
  {
   "cell_type": "markdown",
   "metadata": {},
   "source": [
    "**Problem 2** - Calculate the $\\Delta$v that would be the result of an impuse of 700 (lbf * s) for M = 338 kg."
   ]
  },
  {
   "cell_type": "code",
   "execution_count": 37,
   "metadata": {},
   "outputs": [],
   "source": [
    "impulse = 700 * imperial.lbf * u.s\n",
    "Mass = 338 * u.kg\n",
    "Δv = (impulse / Mass).si\n",
    "Δv_value = Δv.value\n",
    "Δv_units = Δv.unit"
   ]
  },
  {
   "cell_type": "code",
   "execution_count": 38,
   "metadata": {},
   "outputs": [
    {
     "name": "stdout",
     "output_type": "stream",
     "text": [
      "The change in v is due to the impulse is 9.212 in units of m / s\n"
     ]
    }
   ],
   "source": [
    "change_of_v = \"The change in v is due to the impulse is {0:.3f} in units of {1:s}\".format(Δv_value,Δv_units)\n",
    "print(change_of_v)"
   ]
  },
  {
   "cell_type": "markdown",
   "metadata": {},
   "source": [
    "This is the unit conversion error that doomed the [Mars Climate Orbiter](https://en.wikipedia.org/wiki/Mars_Climate_Orbiter)"
   ]
  },
  {
   "cell_type": "markdown",
   "metadata": {},
   "source": [
    "### The range of a projectile launched with a velocity (v) at and angle ($\\theta$) is\n",
    "\n",
    "$$R\\ =\\  {v^2 \\over g}\\ sin(2\\theta)$$"
   ]
  },
  {
   "cell_type": "markdown",
   "metadata": {},
   "source": [
    "**Problem 3** - Find R for v = 123 mph and $\\theta$ = 1000 arc minutes"
   ]
  },
  {
   "cell_type": "code",
   "execution_count": 42,
   "metadata": {},
   "outputs": [],
   "source": [
    "θ = 1000 * u.arcmin\n",
    "v = 123 * imperial.mi / u.h\n",
    "Range = (v / (const.g0)) * np.sin(2 * θ)"
   ]
  },
  {
   "cell_type": "code",
   "execution_count": 44,
   "metadata": {},
   "outputs": [
    {
     "name": "stdout",
     "output_type": "stream",
     "text": [
      "The range of the projectile is 6.892222 in units of mi s2 / (h m)\n"
     ]
    }
   ],
   "source": [
    "Range = \"The range of the projectile is {0.value:f} in units of {0.unit:s}\".format(Range)\n",
    "print(Range)"
   ]
  },
  {
   "cell_type": "markdown",
   "metadata": {},
   "source": [
    "**Problem 4** - How fast to you have to throw a football at 33.3 degrees so that is goes exactly 100 yards? Express your answer in mph"
   ]
  },
  {
   "cell_type": "code",
   "execution_count": 45,
   "metadata": {
    "collapsed": true
   },
   "outputs": [],
   "source": [
    "distance = 100 * imperial.yd\n",
    "θ = 33.3 * u.degree\n",
    "rate = (distance * const.g0 / np.sin(2 * θ)) ** .5\n",
    "rate = rate.to(imperial.mi / u.h)"
   ]
  },
  {
   "cell_type": "code",
   "execution_count": 47,
   "metadata": {},
   "outputs": [
    {
     "name": "stdout",
     "output_type": "stream",
     "text": [
      "The rate that the football must thrown is 69.923 with units of mi / h\n"
     ]
    }
   ],
   "source": [
    "rate = \"The rate that the football must thrown is {0.value:.3f} with units of {0.unit:s}\".format(rate)\n",
    "print(rate)"
   ]
  },
  {
   "cell_type": "markdown",
   "metadata": {},
   "source": [
    "### Kepler's third law can be expressed as:\n",
    "\n",
    "$$ T^2 = \\left( {{4\\pi^2} \\over {GM}} \\right)\\ r^3 $$\n",
    "\n",
    "Where **T** is the orbial period of an object at distance (**r**) from the center of an object of mass (**M**).\n",
    "\n",
    "It assumes the mass of the orbiting object is small compared to the mass of the central object."
   ]
  },
  {
   "cell_type": "markdown",
   "metadata": {},
   "source": [
    "**Problem 5** - Calculate the orbital period of International Space Station (ISS). ISS orbits 254 miles above the **surface** of the Earth. Expess your answer in minutes."
   ]
  },
  {
   "cell_type": "code",
   "execution_count": 49,
   "metadata": {},
   "outputs": [],
   "source": [
    "radius = 4213 * imperial.mi\n",
    "period = ((4 * np.pi ** 2) / (const.G * const.M_earth) * radius ** 3) ** 1/2"
   ]
  },
  {
   "cell_type": "code",
   "execution_count": 50,
   "metadata": {
    "scrolled": true
   },
   "outputs": [
    {
     "name": "stdout",
     "output_type": "stream",
     "text": [
      "The orbital period is 0.004 with units of mi3 s2 / m3\n"
     ]
    }
   ],
   "source": [
    "period = \"The orbital period is {0.value:.3f} with units of {0.unit:s}\".format(period)\n",
    "print(period)"
   ]
  },
  {
   "cell_type": "markdown",
   "metadata": {},
   "source": [
    "** Problem 6 ** - An exoplanet orbits the star Epsilon Tauri in 595 days at a distance of 1.93 AU. Calculate the mass of Epsilon Tauri in terms of solar masses."
   ]
  },
  {
   "cell_type": "code",
   "execution_count": 55,
   "metadata": {},
   "outputs": [],
   "source": [
    "period = (595 * u.day).to(u.s)\n",
    "radius = (1.93 * u.au).to(u.m)\n",
    "mass_epsilon = ((4 * np.pi ** 2) * radius ** 3 / (period ** 2 * const.G)).to(u.M_sun)"
   ]
  },
  {
   "cell_type": "code",
   "execution_count": 58,
   "metadata": {},
   "outputs": [
    {
     "name": "stdout",
     "output_type": "stream",
     "text": [
      "The mass of Epsilon Tauri 2.71 with units of solMass\n"
     ]
    }
   ],
   "source": [
    "mass_epsilon = \"The mass of Epsilon Tauri {0.value:.2f} with units of {0.unit:s}\".format(mass_epsilon)\n",
    "print(mass_epsilon)"
   ]
  },
  {
   "cell_type": "markdown",
   "metadata": {},
   "source": [
    "### The velocity of an object in orbit is\n",
    "\n",
    "$$ v=\\sqrt{GM\\over r} $$\n",
    "\n",
    "Where the object is at a distance (**r**) around a central object of mass (**M**)."
   ]
  },
  {
   "cell_type": "markdown",
   "metadata": {},
   "source": [
    "**Problem 7** - Calculate the velocity of ISS. Expess your answer in km/s and mph."
   ]
  },
  {
   "cell_type": "code",
   "execution_count": 61,
   "metadata": {},
   "outputs": [],
   "source": [
    "radius = 4213 * imperial.mi\n",
    "velocity = ((const.G * const.M_earth) / radius) ** .5\n",
    "velocity = velocity.to(imperial.mi / u.h)"
   ]
  },
  {
   "cell_type": "code",
   "execution_count": 62,
   "metadata": {},
   "outputs": [
    {
     "name": "stdout",
     "output_type": "stream",
     "text": [
      "The velocity of the ISS is 17151.508 in units of mi / h\n"
     ]
    }
   ],
   "source": [
    "velocity = \"The velocity of the ISS is {0.value:.3f} in units of {0.unit:s}\".format(velocity)\n",
    "print(velocity)"
   ]
  },
  {
   "cell_type": "code",
   "execution_count": 65,
   "metadata": {
    "collapsed": true
   },
   "outputs": [],
   "source": [
    "radius = 4213 * u.km\n",
    "velocity_SI = ((const.G * const.M_earth) / radius) ** .5\n",
    "velocity_SI = velocity_SI.to(u.km / u.s)"
   ]
  },
  {
   "cell_type": "code",
   "execution_count": 66,
   "metadata": {},
   "outputs": [
    {
     "name": "stdout",
     "output_type": "stream",
     "text": [
      "The velocity of the ISS is 9.727 in units of km / s\n"
     ]
    }
   ],
   "source": [
    "velocity_SI = \"The velocity of the ISS is {0.value:.3f} in units of {0.unit:s}\".format(velocity_SI)\n",
    "print(velocity_SI)"
   ]
  },
  {
   "cell_type": "markdown",
   "metadata": {},
   "source": [
    "**Problem 8** - The Procliamer's song [500 miles](https://youtu.be/MJuyn0WAYNI?t=27s) has a duration of 3 minutes and 33 seconds. Calculate at what altitude, above the Earth's surface, you would have to orbit to go 1000 miles in this time. Express your answer in units of the alititude of the ISS."
   ]
  },
  {
   "cell_type": "code",
   "execution_count": 92,
   "metadata": {},
   "outputs": [],
   "source": [
    "distance = (1000 * imperial.mi).to(u.m)\n",
    "time = (3 * u.min + 33 * u.s).to(u.s)\n",
    "velocity = distance / time\n",
    "radius_all = (const.G * const.M_earth) / (velocity ** 2)\n",
    "altitude = (radius_all - const.R_earth).to(imperial.mi)"
   ]
  },
  {
   "cell_type": "code",
   "execution_count": 97,
   "metadata": {},
   "outputs": [],
   "source": [
    "altitude_ISS = u.def_unit('Altitude_ISS', 254 * imperial.mi)\n",
    "Altitude = altitude.to(altitude_ISS)"
   ]
  },
  {
   "cell_type": "code",
   "execution_count": 98,
   "metadata": {},
   "outputs": [
    {
     "name": "stdout",
     "output_type": "stream",
     "text": [
      "The height of the ISS would need to be 1.478 in units of Altitude_ISS\n"
     ]
    }
   ],
   "source": [
    "ISS_altitude = \"The height of the ISS would need to be {0.value:.3f} in units of {0.unit:s}\".format(Altitude)\n",
    "print(ISS_altitude)"
   ]
  },
  {
   "cell_type": "markdown",
   "metadata": {},
   "source": [
    "### The Power being received by a solar panel in space can be expressed as:\n",
    "\n",
    "$$ I\\  =\\ {{L_{\\odot}} \\over {4 \\pi d^2}}\\ \\varepsilon$$\n",
    "\n",
    "Where **I** is the power **per unit area** at a distance (**d**) from the Sun, and $\\varepsilon$ is the efficiency of the solar panel.\n",
    "\n",
    "The solar panels that power spacecraft have an efficiency of about 40%."
   ]
  },
  {
   "cell_type": "markdown",
   "metadata": {},
   "source": [
    "** Problem 9 ** -  The [New Horizons](http://pluto.jhuapl.edu/) spacecraft requires 220 Watts of power.\n",
    "\n",
    "Calculate the area of a solar panel that would be needed to power New Horizons at a distance of 1 AU from the Sun."
   ]
  },
  {
   "cell_type": "code",
   "execution_count": 118,
   "metadata": {},
   "outputs": [],
   "source": [
    "area_solar = ((4 * np.pi * (1 * u.au) ** 2 * (220 * u.watt)) / (0.4 * u.L_sun)).to(u.m ** 2)"
   ]
  },
  {
   "cell_type": "code",
   "execution_count": 119,
   "metadata": {},
   "outputs": [
    {
     "name": "stdout",
     "output_type": "stream",
     "text": [
      "The area of the solar panel would need to be 0.404 in units of m2\n"
     ]
    }
   ],
   "source": [
    "area = \"The area of the solar panel would need to be {0.value:.3f} in units of {0.unit:s}\".format(area_solar)\n",
    "print(area)"
   ]
  },
  {
   "cell_type": "markdown",
   "metadata": {},
   "source": [
    "** Problem 10 ** - Express your answer in units of the area of a piece of US letter sized paper (8.5 in x 11 in)."
   ]
  },
  {
   "cell_type": "code",
   "execution_count": 124,
   "metadata": {},
   "outputs": [],
   "source": [
    "paper = u.def_unit('letters', 8.5 * imperial.inch * 11 * imperial.inch)\n",
    "letter_us = area_solar.to(paper)"
   ]
  },
  {
   "cell_type": "code",
   "execution_count": 127,
   "metadata": {
    "scrolled": true
   },
   "outputs": [
    {
     "name": "stdout",
     "output_type": "stream",
     "text": [
      "The area of the solar panel would need to be 6.698 in units of letters\n"
     ]
    }
   ],
   "source": [
    "area_in_letters = \"The area of the solar panel would need to be {0.value:.3f} in units of {0.unit:s}\".format(letter_us)\n",
    "print(area_in_letters)"
   ]
  },
  {
   "cell_type": "markdown",
   "metadata": {},
   "source": [
    "** Problem 11 ** - Same question as above but now a d = 30 AU.\n",
    "\n",
    "Express you answer in both sq meters and US letter sized paper"
   ]
  },
  {
   "cell_type": "code",
   "execution_count": 130,
   "metadata": {},
   "outputs": [
    {
     "name": "stdout",
     "output_type": "stream",
     "text": [
      "The area of the solar panel would need to be 363.659 in units of m2\n"
     ]
    }
   ],
   "source": [
    "area_solar = ((4 * np.pi * (30 * u.au) ** 2 * (220 * u.watt)) / (0.4 * u.L_sun)).to(u.m ** 2)\n",
    "area_solar_30 = \"The area of the solar panel would need to be {0.value:.3f} in units of {0.unit:s}\".format(area_solar)\n",
    "print(area_solar_30)"
   ]
  },
  {
   "cell_type": "code",
   "execution_count": 132,
   "metadata": {},
   "outputs": [
    {
     "name": "stdout",
     "output_type": "stream",
     "text": [
      "The area of the solar panel would need to be 6028.578 in units of letters\n"
     ]
    }
   ],
   "source": [
    "paper = u.def_unit('letters', 8.5 * imperial.inch * 11 * imperial.inch)\n",
    "letter_us = area_solar.to(paper)\n",
    "area_in_letters = \"The area of the solar panel would need to be {0.value:.3f} in units of {0.unit:s}\".format(letter_us)\n",
    "print(area_in_letters)"
   ]
  },
  {
   "cell_type": "markdown",
   "metadata": {},
   "source": [
    "** Problem 12 ** - The main part of the Oort cloud is thought to be at a distance of about 10,000 AU.\n",
    "\n",
    "Calculate the size of the solar panel New Horizons would need to operate in the Oort cloud.\n",
    "\n",
    "Express your answer in units of the area of an American football field (120 yd x 53.3 yd)."
   ]
  },
  {
   "cell_type": "code",
   "execution_count": 134,
   "metadata": {},
   "outputs": [
    {
     "name": "stdout",
     "output_type": "stream",
     "text": [
      "The area of the solar panel would need to be 7555.628 in units of Football fields\n"
     ]
    }
   ],
   "source": [
    "area_solar = ((4 * np.pi * (10000 * u.au) ** 2 * (220 * u.watt)) / (0.4 * u.L_sun)).to(u.m ** 2)\n",
    "ridiculous_area = u.def_unit('Football fields', 120 * imperial.yd * 53.3 * imperial.yd)\n",
    "football_field = area_solar.to(ridiculous_area)\n",
    "area_in_fields = \"The area of the solar panel would need to be {0.value:.3f} in units of {0.unit:s}\".format(football_field)\n",
    "print(area_in_fields)"
   ]
  },
  {
   "cell_type": "markdown",
   "metadata": {},
   "source": [
    "** Problem 13 ** - Calculate the maximum distance from the Sun where a solar panel of 1 football field can power the New Horizons spacecraft. Express your answer in AU."
   ]
  },
  {
   "cell_type": "code",
   "execution_count": 153,
   "metadata": {},
   "outputs": [
    {
     "name": "stdout",
     "output_type": "stream",
     "text": [
      "The the farthest distance would be 115.044 in units of AU\n"
     ]
    }
   ],
   "source": [
    "ridiculous_area = u.def_unit('Football fields', 120 * imperial.yd * 53.3 * imperial.yd)\n",
    "Distance_of_NH = np.sqrt((u.L_sun * 0.4 * (1 * ridiculous_area) / ((220 * u.watt) * 4 * np.pi))).decompose()\n",
    "distance_of_NH = Distance_of_NH.to(u.au)\n",
    "distance = \"The the farthest distance would be {0.value:.3f} in units of {0.unit:s}\".format(distance_of_NH)\n",
    "print(distance)"
   ]
  },
  {
   "cell_type": "markdown",
   "metadata": {},
   "source": [
    "### Due Tues Oct 24 - 5pm\n",
    "- `Make sure to change the filename to your name!`\n",
    "- `Make sure to change the Title to your name!`\n",
    "- `File -> Download as -> HTML (.html)`\n",
    "- `upload your .html and .ipynb file to the class Canvas page`  "
   ]
  }
 ],
 "metadata": {
  "kernelspec": {
   "display_name": "Python 3",
   "language": "python",
   "name": "python3"
  },
  "language_info": {
   "codemirror_mode": {
    "name": "ipython",
    "version": 3
   },
   "file_extension": ".py",
   "mimetype": "text/x-python",
   "name": "python",
   "nbconvert_exporter": "python",
   "pygments_lexer": "ipython3",
   "version": "3.6.2"
  }
 },
 "nbformat": 4,
 "nbformat_minor": 1
}
