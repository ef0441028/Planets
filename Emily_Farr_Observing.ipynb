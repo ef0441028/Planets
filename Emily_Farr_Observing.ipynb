{
 "cells": [
  {
   "cell_type": "markdown",
   "metadata": {},
   "source": [
    "# Emily Farr - Observing with `astroplan`"
   ]
  },
  {
   "cell_type": "markdown",
   "metadata": {},
   "source": [
    "* I have given you three locations, some constraints, and list of targets: `TargetStars.csv`.\n",
    "* You are observing on June 21, 2018.\n",
    "* Your job is to determine which of the three locations can see the most targets, given the constraints.\n",
    "* Points awarded will depend on how clearly you support your answer."
   ]
  },
  {
   "cell_type": "markdown",
   "metadata": {},
   "source": [
    "# Date: June 21, 2018.\n",
    "\n",
    "---\n",
    "\n",
    "# Locations\n",
    "\n",
    "- Grytviken, South Georgia Island\n",
    "- Bairiki, South Tarawa, Kiribati\n",
    "- Lochboisdale, Outer Hebrides, Scotland\n",
    "\n",
    "---\n",
    "\n",
    "# Constraints\n",
    "\n",
    "- Observing at (local) night\n",
    "- Airmass < 2\n",
    "- Moon Separation > 30 degrees\n",
    "\n",
    "---"
   ]
  },
  {
   "cell_type": "code",
   "execution_count": 1,
   "metadata": {},
   "outputs": [
    {
     "name": "stderr",
     "output_type": "stream",
     "text": [
      "WARNING: OldEarthOrientationDataWarning: Your version of the IERS Bulletin A is 27.9 days old. For best precision (on the order of arcseconds), you must download an up-to-date IERS Bulletin A table. To do so, run:\n",
      "\n",
      ">>> from astroplan import download_IERS_A\n",
      ">>> download_IERS_A()\n",
      " [astroplan.utils]\n"
     ]
    }
   ],
   "source": [
    "import numpy as np\n",
    "from astropy.table import QTable\n",
    "import astropy.units as u\n",
    "from astropy.time import Time\n",
    "from astropy.coordinates import SkyCoord, EarthLocation\n",
    "import pytz\n",
    "\n",
    "from astroplan import Observer, FixedTarget\n",
    "\n",
    "import warnings\n",
    "warnings.filterwarnings('ignore', category=Warning)\n",
    "from astroplan import AltitudeConstraint, AirmassConstraint\n",
    "from astroplan import observability_table\n",
    "from astroplan import moon_illumination\n",
    "from astroplan import MoonSeparationConstraint\n",
    "%matplotlib inline\n",
    "from astroplan import time_grid_from_range\n",
    "\n",
    "from astroplan.plots import plot_sky, plot_airmass\n",
    "import numpy as np\n",
    "import matplotlib.pyplot as plt"
   ]
  },
  {
   "cell_type": "code",
   "execution_count": 2,
   "metadata": {},
   "outputs": [
    {
     "data": {
      "text/html": [
       "&lt;QTable length=28&gt;\n",
       "<table id=\"table2556640077360\" class=\"table-striped table-bordered table-condensed\">\n",
       "<thead><tr><th>Name</th><th>RA</th><th>DEC</th></tr></thead>\n",
       "<thead><tr><th>str15</th><th>float64</th><th>float64</th></tr></thead>\n",
       "<tr><td>Mizar</td><td>13.39872773</td><td>54.92541525</td></tr>\n",
       "<tr><td>Spica</td><td>13.41989015</td><td>-11.16124491</td></tr>\n",
       "<tr><td>Alkaid</td><td>13.79237392</td><td>49.31330288</td></tr>\n",
       "<tr><td>Hadar</td><td>14.06373459</td><td>-60.3729784</td></tr>\n",
       "<tr><td>Arcturus</td><td>14.2612076</td><td>19.18726997</td></tr>\n",
       "<tr><td>RigelKentaurusB</td><td>14.66094188</td><td>-60.83947139</td></tr>\n",
       "<tr><td>RigelKentaurusA</td><td>14.66136068</td><td>-60.83514707</td></tr>\n",
       "<tr><td>Izar</td><td>14.74979191</td><td>27.07417383</td></tr>\n",
       "<tr><td>Kochab</td><td>14.84510983</td><td>74.15547596</td></tr>\n",
       "<tr><td>Alphekka</td><td>15.57810819</td><td>26.71491041</td></tr>\n",
       "<tr><td>...</td><td>...</td><td>...</td></tr>\n",
       "<tr><td>Nunki</td><td>18.92108797</td><td>-26.29659428</td></tr>\n",
       "<tr><td>Tarazed</td><td>19.77099171</td><td>10.61326869</td></tr>\n",
       "<tr><td>Altair</td><td>19.84630057</td><td>8.86738491</td></tr>\n",
       "<tr><td>Deneb</td><td>20.69053151</td><td>45.28033423</td></tr>\n",
       "<tr><td>Alderamin</td><td>21.30960598</td><td>62.58545529</td></tr>\n",
       "<tr><td>Enif</td><td>21.73642787</td><td>9.87500791</td></tr>\n",
       "<tr><td>Alnair</td><td>22.13718789</td><td>-46.96061593</td></tr>\n",
       "<tr><td>Fomalhaut</td><td>22.96078488</td><td>-29.62183701</td></tr>\n",
       "<tr><td>Scheat</td><td>23.06287038</td><td>28.08245462</td></tr>\n",
       "<tr><td>Markab</td><td>23.07933801</td><td>15.20536786</td></tr>\n",
       "</table>"
      ],
      "text/plain": [
       "<QTable length=28>\n",
       "      Name           RA         DEC     \n",
       "     str15        float64     float64   \n",
       "--------------- ----------- ------------\n",
       "          Mizar 13.39872773  54.92541525\n",
       "          Spica 13.41989015 -11.16124491\n",
       "         Alkaid 13.79237392  49.31330288\n",
       "          Hadar 14.06373459  -60.3729784\n",
       "       Arcturus  14.2612076  19.18726997\n",
       "RigelKentaurusB 14.66094188 -60.83947139\n",
       "RigelKentaurusA 14.66136068 -60.83514707\n",
       "           Izar 14.74979191  27.07417383\n",
       "         Kochab 14.84510983  74.15547596\n",
       "       Alphekka 15.57810819  26.71491041\n",
       "            ...         ...          ...\n",
       "          Nunki 18.92108797 -26.29659428\n",
       "        Tarazed 19.77099171  10.61326869\n",
       "         Altair 19.84630057   8.86738491\n",
       "          Deneb 20.69053151  45.28033423\n",
       "      Alderamin 21.30960598  62.58545529\n",
       "           Enif 21.73642787   9.87500791\n",
       "         Alnair 22.13718789 -46.96061593\n",
       "      Fomalhaut 22.96078488 -29.62183701\n",
       "         Scheat 23.06287038  28.08245462\n",
       "         Markab 23.07933801  15.20536786"
      ]
     },
     "execution_count": 2,
     "metadata": {},
     "output_type": "execute_result"
    }
   ],
   "source": [
    "target_table = QTable.read('TargetStars.csv', format='ascii.csv')\n",
    "target_table"
   ]
  },
  {
   "cell_type": "code",
   "execution_count": 48,
   "metadata": {
    "collapsed": true
   },
   "outputs": [],
   "source": [
    "observe_date= Time(\"2018-6-21 0:00:00\",format='iso')\n",
    "Grytviken = Observer(latitude = -54 * u.deg + 16 * u.arcmin + 53.4 * u.arcsec,\n",
    "                    longitude = -36 * u.deg + 30 * u.arcmin + 28.8 * u.arcsec,\n",
    "                    timezone = 'Atlantic/South_Georgia',\n",
    "                    name = \"Grytviken\"\n",
    "                    )\n",
    "Bairiki = Observer(longitude = 172.979,\n",
    "                    latitude = 1.3291,\n",
    "                    timezone = 'Pacific/Tarawa',\n",
    "                    name = \"Bairiki\"\n",
    "                    )\n",
    "Lochboisdale = Observer(longitude = -7.3167 * u.deg + 154 * u.arcmin + 53.4 * u.arcsec,\n",
    "                    latitude = 57.1667 * u.deg + 30 * u.arcmin + 28.8 * u.arcsec,\n",
    "                    timezone = 'GMT',\n",
    "                    name = \"Lochboisdale\"\n",
    "                    )"
   ]
  },
  {
   "cell_type": "code",
   "execution_count": 49,
   "metadata": {
    "collapsed": true
   },
   "outputs": [],
   "source": [
    "targets = [FixedTarget(coord=SkyCoord(ra = RA*u.hourangle, dec = DEC*u.deg), name=Name)\n",
    "           for Name, RA, DEC in target_table]"
   ]
  },
  {
   "cell_type": "code",
   "execution_count": 61,
   "metadata": {},
   "outputs": [
    {
     "name": "stdout",
     "output_type": "stream",
     "text": [
      "You can observe for 16.8 h that night at Grytviken, 11.9 h at Bairiki and 6.2 h at Lochboisdale.\n"
     ]
    }
   ],
   "source": [
    "Grytviken_start = Grytviken.sun_set_time(observe_date, which='nearest')\n",
    "Grytviken_end = Grytviken.sun_rise_time(observe_date, which='next')\n",
    "Bairiki_start = Bairiki.sun_set_time(observe_date, which='nearest')\n",
    "Bairiki_end = Bairiki.sun_rise_time(observe_date, which='next')\n",
    "Lochboisdale_start = Lochboisdale.sun_set_time(observe_date, which='nearest')\n",
    "Lochboisdale_end = Lochboisdale.sun_rise_time(observe_date, which='next')\n",
    "\n",
    "Grytviken_range = [Grytviken_start,Grytviken_end]\n",
    "Bairiki_range = [Bairiki_start,Bairiki_end]\n",
    "Lochboisdale_range = [Lochboisdale_start,Lochboisdale_end]\n",
    "\n",
    "a = Grytviken_observing_length = (Grytviken_end - Grytviken_start).to(u.h)\n",
    "b = Bairiki_observing_length = (Bairiki_end - Bairiki_start).to(u.h)\n",
    "c = Lochboisdale_observing_length = (Lochboisdale_end-Lochboisdale_start).to(u.h)\n",
    "\n",
    "print(\"You can observe for {0:.1f} that night at Grytviken, {1:.1f} at Bairiki and {2:.1f} at Lochboisdale.\".format(a,b,c))"
   ]
  },
  {
   "cell_type": "code",
   "execution_count": 59,
   "metadata": {
    "collapsed": true
   },
   "outputs": [],
   "source": [
    "constraints = [AltitudeConstraint(20*u.deg, 80*u.deg)]\n",
    "constraints.append(AirmassConstraint(2))\n",
    "moon_illumination(Grytviken_start)\n",
    "constraints.append(MoonSeparationConstraint(30*u.deg))"
   ]
  },
  {
   "cell_type": "code",
   "execution_count": 111,
   "metadata": {},
   "outputs": [
    {
     "data": {
      "text/plain": [
       "9"
      ]
     },
     "execution_count": 111,
     "metadata": {},
     "output_type": "execute_result"
    }
   ],
   "source": [
    "Grytviken_table = observability_table(constraints, Grytviken, targets, time_range=Grytviken_range)\n",
    "f = sum([Grytviken_table['ever observable']])\n",
    "f.sum()"
   ]
  },
  {
   "cell_type": "code",
   "execution_count": 112,
   "metadata": {},
   "outputs": [
    {
     "data": {
      "text/plain": [
       "21"
      ]
     },
     "execution_count": 112,
     "metadata": {},
     "output_type": "execute_result"
    }
   ],
   "source": [
    "Bairiki_table = observability_table(constraints, Bairiki, targets, time_range=Bairiki_range)\n",
    "e = sum([Bairiki_table['ever observable']])\n",
    "g = e.sum()\n",
    "g"
   ]
  },
  {
   "cell_type": "code",
   "execution_count": 99,
   "metadata": {},
   "outputs": [
    {
     "data": {
      "text/plain": [
       "18"
      ]
     },
     "execution_count": 99,
     "metadata": {},
     "output_type": "execute_result"
    }
   ],
   "source": [
    "Lochboisdale_table = observability_table(constraints, Lochboisdale, targets, time_range=Lochboisdale_range)\n",
    "d = sum([Lochboisdale_table['ever observable']])\n",
    "d.sum()"
   ]
  },
  {
   "cell_type": "code",
   "execution_count": 110,
   "metadata": {},
   "outputs": [
    {
     "name": "stdout",
     "output_type": "stream",
     "text": [
      "You can observe the most targets on June 21st 2018, 21.0, at Bairiki.\n"
     ]
    }
   ],
   "source": [
    "print(\"You can observe the most targets on June 21st 2018, {0:.1f}, at Bairiki.\".format(g))"
   ]
  },
  {
   "cell_type": "markdown",
   "metadata": {},
   "source": [
    "### Due Tue Nov 14 - 5pm\n",
    "- `Make sure to change the filename to your name!`\n",
    "- `Make sure to change the Title to your name!`\n",
    "- `File -> Download as -> HTML (.html)`\n",
    "- `upload your .html and .ipynb file to the class Canvas page`  "
   ]
  }
 ],
 "metadata": {
  "anaconda-cloud": {},
  "kernelspec": {
   "display_name": "Python 3",
   "language": "python",
   "name": "python3"
  },
  "language_info": {
   "codemirror_mode": {
    "name": "ipython",
    "version": 3
   },
   "file_extension": ".py",
   "mimetype": "text/x-python",
   "name": "python",
   "nbconvert_exporter": "python",
   "pygments_lexer": "ipython3",
   "version": "3.6.2"
  }
 },
 "nbformat": 4,
 "nbformat_minor": 1
}
