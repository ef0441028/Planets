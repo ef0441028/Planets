{
 "cells": [
  {
   "cell_type": "markdown",
   "metadata": {},
   "source": [
    "# Reading Data\n",
    "\n",
    "* Python has a large number of different ways to read data from external files. \n",
    "* Python supports almost any type of file you can think of, from simple text files to complex binary formats.\n",
    "* In this class we are going to mainly use the pakages `Astropy` and `Pandas` to load extrnal files.\n",
    "* Both of these packages create a python object called a **Table**.\n",
    "* **Tables** are very useful, since there are lots of built-in methods that allow us to easily manipulate the data."
   ]
  },
  {
   "cell_type": "code",
   "execution_count": 1,
   "metadata": {
    "collapsed": true
   },
   "outputs": [],
   "source": [
    "import os"
   ]
  },
  {
   "cell_type": "markdown",
   "metadata": {},
   "source": [
    "# The `AstroPy` package - `QTable`"
   ]
  },
  {
   "cell_type": "code",
   "execution_count": 2,
   "metadata": {
    "collapsed": true
   },
   "outputs": [],
   "source": [
    "import numpy as np\n",
    "\n",
    "from astropy.table import QTable"
   ]
  },
  {
   "cell_type": "code",
   "execution_count": 3,
   "metadata": {},
   "outputs": [
    {
     "data": {
      "text/plain": [
       "['.git',\n",
       " '.gitignore',\n",
       " '.ipynb_checkpoints',\n",
       " '00_UnixNotes.txt',\n",
       " 'Astro_Coordinates.pdf',\n",
       " 'Doctor.csv',\n",
       " 'Emily_Farr_IntroPython.ipynb',\n",
       " 'Emily_Farr_ReadingData-Copy1.ipynb',\n",
       " 'Emily_Farr_ReadingData.ipynb',\n",
       " 'FirstLast_IntroPython.ipynb',\n",
       " 'FirstLast_Strings.ipynb',\n",
       " 'FirstLast_Units.ipynb',\n",
       " 'GOLF',\n",
       " 'images',\n",
       " 'LICENSE',\n",
       " 'MainBelt.csv',\n",
       " 'Mess.csv',\n",
       " 'MyData',\n",
       " 'NewPlanets.csv',\n",
       " 'NewPlanets2.csv',\n",
       " 'Planets.csv',\n",
       " 'Python_Introduction.ipynb',\n",
       " 'Python_ReadingData.ipynb',\n",
       " 'Python_StringsAndStuff.ipynb',\n",
       " 'Python_Units.ipynb',\n",
       " 'README.md',\n",
       " 'RegEx.bash',\n",
       " 'RegExCheet.pdf',\n",
       " 'RegEx_Assignment.txt',\n",
       " 'RegEx_Notes.txt',\n",
       " 'Sillybus.pdf',\n",
       " 'StyleGuide.ipynb',\n",
       " 'TestMyComputer.ipynb',\n",
       " 'UnixCommands.pdf',\n",
       " 'words.txt']"
      ]
     },
     "execution_count": 3,
     "metadata": {},
     "output_type": "execute_result"
    }
   ],
   "source": [
    "os.listdir()"
   ]
  },
  {
   "cell_type": "code",
   "execution_count": 4,
   "metadata": {
    "collapsed": true
   },
   "outputs": [],
   "source": [
    "planet_table = QTable.read('Planets.csv', format='ascii.csv')"
   ]
  },
  {
   "cell_type": "code",
   "execution_count": 5,
   "metadata": {},
   "outputs": [
    {
     "data": {
      "text/html": [
       "&lt;QTable length=9&gt;\n",
       "<table id=\"table2273612783568\" class=\"table-striped table-bordered table-condensed\">\n",
       "<thead><tr><th>Name</th><th>a</th><th>col2</th></tr></thead>\n",
       "<thead><tr><th>str7</th><th>float64</th><th>float64</th></tr></thead>\n",
       "<tr><td>Mercury</td><td>0.3871</td><td>0.2056</td></tr>\n",
       "<tr><td>Venus</td><td>0.7233</td><td>0.0068</td></tr>\n",
       "<tr><td>Earth</td><td>0.9991</td><td>0.0166</td></tr>\n",
       "<tr><td>Mars</td><td>1.5237</td><td>0.0935</td></tr>\n",
       "<tr><td>Jupiter</td><td>5.2016</td><td>0.049</td></tr>\n",
       "<tr><td>Saturn</td><td>9.5424</td><td>0.0547</td></tr>\n",
       "<tr><td>Uranus</td><td>19.1727</td><td>0.0486</td></tr>\n",
       "<tr><td>Neptune</td><td>29.9769</td><td>0.0088</td></tr>\n",
       "<tr><td>Halley</td><td>17.8589</td><td>0.968</td></tr>\n",
       "</table>"
      ],
      "text/plain": [
       "<QTable length=9>\n",
       "  Name     a      col2 \n",
       "  str7  float64 float64\n",
       "------- ------- -------\n",
       "Mercury  0.3871  0.2056\n",
       "  Venus  0.7233  0.0068\n",
       "  Earth  0.9991  0.0166\n",
       "   Mars  1.5237  0.0935\n",
       "Jupiter  5.2016   0.049\n",
       " Saturn  9.5424  0.0547\n",
       " Uranus 19.1727  0.0486\n",
       "Neptune 29.9769  0.0088\n",
       " Halley 17.8589   0.968"
      ]
     },
     "execution_count": 5,
     "metadata": {},
     "output_type": "execute_result"
    }
   ],
   "source": [
    "planet_table"
   ]
  },
  {
   "cell_type": "code",
   "execution_count": 6,
   "metadata": {},
   "outputs": [
    {
     "name": "stdout",
     "output_type": "stream",
     "text": [
      "  Name     a     col2 \n",
      "------- ------- ------\n",
      "Mercury  0.3871 0.2056\n",
      "  Venus  0.7233 0.0068\n",
      "  Earth  0.9991 0.0166\n",
      "   Mars  1.5237 0.0935\n",
      "Jupiter  5.2016  0.049\n",
      " Saturn  9.5424 0.0547\n",
      " Uranus 19.1727 0.0486\n",
      "Neptune 29.9769 0.0088\n",
      " Halley 17.8589  0.968\n"
     ]
    }
   ],
   "source": [
    "print(planet_table)"
   ]
  },
  {
   "cell_type": "markdown",
   "metadata": {},
   "source": [
    "## Renaming columns"
   ]
  },
  {
   "cell_type": "code",
   "execution_count": 7,
   "metadata": {},
   "outputs": [
    {
     "name": "stdout",
     "output_type": "stream",
     "text": [
      "  Name     a     ecc  \n",
      "------- ------- ------\n",
      "Mercury  0.3871 0.2056\n",
      "  Venus  0.7233 0.0068\n",
      "  Earth  0.9991 0.0166\n",
      "   Mars  1.5237 0.0935\n",
      "Jupiter  5.2016  0.049\n",
      " Saturn  9.5424 0.0547\n",
      " Uranus 19.1727 0.0486\n",
      "Neptune 29.9769 0.0088\n",
      " Halley 17.8589  0.968\n"
     ]
    }
   ],
   "source": [
    "planet_table.rename_column('col2', 'ecc')\n",
    "print(planet_table)"
   ]
  },
  {
   "cell_type": "code",
   "execution_count": 8,
   "metadata": {},
   "outputs": [
    {
     "data": {
      "text/html": [
       "&lt;Column name=&apos;Name&apos; dtype=&apos;str7&apos; length=9&gt;\n",
       "<table>\n",
       "<tr><td>Mercury</td></tr>\n",
       "<tr><td>Venus</td></tr>\n",
       "<tr><td>Earth</td></tr>\n",
       "<tr><td>Mars</td></tr>\n",
       "<tr><td>Jupiter</td></tr>\n",
       "<tr><td>Saturn</td></tr>\n",
       "<tr><td>Uranus</td></tr>\n",
       "<tr><td>Neptune</td></tr>\n",
       "<tr><td>Halley</td></tr>\n",
       "</table>"
      ],
      "text/plain": [
       "<Column name='Name' dtype='str7' length=9>\n",
       "Mercury\n",
       "  Venus\n",
       "  Earth\n",
       "   Mars\n",
       "Jupiter\n",
       " Saturn\n",
       " Uranus\n",
       "Neptune\n",
       " Halley"
      ]
     },
     "execution_count": 8,
     "metadata": {},
     "output_type": "execute_result"
    }
   ],
   "source": [
    "planet_table['Name']"
   ]
  },
  {
   "cell_type": "code",
   "execution_count": 9,
   "metadata": {},
   "outputs": [
    {
     "data": {
      "text/plain": [
       "'Mercury'"
      ]
     },
     "execution_count": 9,
     "metadata": {},
     "output_type": "execute_result"
    }
   ],
   "source": [
    "planet_table['Name'][0]"
   ]
  },
  {
   "cell_type": "markdown",
   "metadata": {},
   "source": [
    "## Sorting"
   ]
  },
  {
   "cell_type": "code",
   "execution_count": 10,
   "metadata": {
    "collapsed": true
   },
   "outputs": [],
   "source": [
    "planet_table.sort(['ecc'])"
   ]
  },
  {
   "cell_type": "code",
   "execution_count": 11,
   "metadata": {},
   "outputs": [
    {
     "data": {
      "text/html": [
       "&lt;QTable length=9&gt;\n",
       "<table id=\"table2273612783568\" class=\"table-striped table-bordered table-condensed\">\n",
       "<thead><tr><th>Name</th><th>a</th><th>ecc</th></tr></thead>\n",
       "<thead><tr><th>str7</th><th>float64</th><th>float64</th></tr></thead>\n",
       "<tr><td>Venus</td><td>0.7233</td><td>0.0068</td></tr>\n",
       "<tr><td>Neptune</td><td>29.9769</td><td>0.0088</td></tr>\n",
       "<tr><td>Earth</td><td>0.9991</td><td>0.0166</td></tr>\n",
       "<tr><td>Uranus</td><td>19.1727</td><td>0.0486</td></tr>\n",
       "<tr><td>Jupiter</td><td>5.2016</td><td>0.049</td></tr>\n",
       "<tr><td>Saturn</td><td>9.5424</td><td>0.0547</td></tr>\n",
       "<tr><td>Mars</td><td>1.5237</td><td>0.0935</td></tr>\n",
       "<tr><td>Mercury</td><td>0.3871</td><td>0.2056</td></tr>\n",
       "<tr><td>Halley</td><td>17.8589</td><td>0.968</td></tr>\n",
       "</table>"
      ],
      "text/plain": [
       "<QTable length=9>\n",
       "  Name     a      ecc  \n",
       "  str7  float64 float64\n",
       "------- ------- -------\n",
       "  Venus  0.7233  0.0068\n",
       "Neptune 29.9769  0.0088\n",
       "  Earth  0.9991  0.0166\n",
       " Uranus 19.1727  0.0486\n",
       "Jupiter  5.2016   0.049\n",
       " Saturn  9.5424  0.0547\n",
       "   Mars  1.5237  0.0935\n",
       "Mercury  0.3871  0.2056\n",
       " Halley 17.8589   0.968"
      ]
     },
     "execution_count": 11,
     "metadata": {},
     "output_type": "execute_result"
    }
   ],
   "source": [
    "planet_table"
   ]
  },
  {
   "cell_type": "markdown",
   "metadata": {},
   "source": [
    "## Masking"
   ]
  },
  {
   "cell_type": "code",
   "execution_count": 12,
   "metadata": {
    "collapsed": true
   },
   "outputs": [],
   "source": [
    "planet_table.sort(['a'])    # re-sort our table"
   ]
  },
  {
   "cell_type": "code",
   "execution_count": 13,
   "metadata": {},
   "outputs": [
    {
     "data": {
      "text/plain": [
       "(array([4, 5, 6, 7, 8], dtype=int64),)"
      ]
     },
     "execution_count": 13,
     "metadata": {},
     "output_type": "execute_result"
    }
   ],
   "source": [
    "mask1 = np.where(planet_table['a'] > 5)\n",
    "\n",
    "mask1"
   ]
  },
  {
   "cell_type": "code",
   "execution_count": 14,
   "metadata": {},
   "outputs": [
    {
     "data": {
      "text/html": [
       "&lt;QTable length=5&gt;\n",
       "<table id=\"table2273612955208\" class=\"table-striped table-bordered table-condensed\">\n",
       "<thead><tr><th>Name</th><th>a</th><th>ecc</th></tr></thead>\n",
       "<thead><tr><th>str7</th><th>float64</th><th>float64</th></tr></thead>\n",
       "<tr><td>Jupiter</td><td>5.2016</td><td>0.049</td></tr>\n",
       "<tr><td>Saturn</td><td>9.5424</td><td>0.0547</td></tr>\n",
       "<tr><td>Halley</td><td>17.8589</td><td>0.968</td></tr>\n",
       "<tr><td>Uranus</td><td>19.1727</td><td>0.0486</td></tr>\n",
       "<tr><td>Neptune</td><td>29.9769</td><td>0.0088</td></tr>\n",
       "</table>"
      ],
      "text/plain": [
       "<QTable length=5>\n",
       "  Name     a      ecc  \n",
       "  str7  float64 float64\n",
       "------- ------- -------\n",
       "Jupiter  5.2016   0.049\n",
       " Saturn  9.5424  0.0547\n",
       " Halley 17.8589   0.968\n",
       " Uranus 19.1727  0.0486\n",
       "Neptune 29.9769  0.0088"
      ]
     },
     "execution_count": 14,
     "metadata": {},
     "output_type": "execute_result"
    }
   ],
   "source": [
    "planet_table[mask1]"
   ]
  },
  {
   "cell_type": "code",
   "execution_count": 15,
   "metadata": {
    "scrolled": true
   },
   "outputs": [
    {
     "data": {
      "text/html": [
       "&lt;QTable length=3&gt;\n",
       "<table id=\"table2273613173424\" class=\"table-striped table-bordered table-condensed\">\n",
       "<thead><tr><th>Name</th><th>a</th><th>ecc</th></tr></thead>\n",
       "<thead><tr><th>str7</th><th>float64</th><th>float64</th></tr></thead>\n",
       "<tr><td>Jupiter</td><td>5.2016</td><td>0.049</td></tr>\n",
       "<tr><td>Uranus</td><td>19.1727</td><td>0.0486</td></tr>\n",
       "<tr><td>Neptune</td><td>29.9769</td><td>0.0088</td></tr>\n",
       "</table>"
      ],
      "text/plain": [
       "<QTable length=3>\n",
       "  Name     a      ecc  \n",
       "  str7  float64 float64\n",
       "------- ------- -------\n",
       "Jupiter  5.2016   0.049\n",
       " Uranus 19.1727  0.0486\n",
       "Neptune 29.9769  0.0088"
      ]
     },
     "execution_count": 15,
     "metadata": {},
     "output_type": "execute_result"
    }
   ],
   "source": [
    "mask2 = ((planet_table['a'] > 5) &\n",
    "         (planet_table['ecc'] < 0.05))\n",
    "\n",
    "planet_table[mask2]"
   ]
  },
  {
   "cell_type": "markdown",
   "metadata": {},
   "source": [
    "## Adding a column to the Table"
   ]
  },
  {
   "cell_type": "code",
   "execution_count": 16,
   "metadata": {
    "collapsed": true
   },
   "outputs": [],
   "source": [
    "perihelion = planet_table['a'] * (1.0 - planet_table['ecc'])"
   ]
  },
  {
   "cell_type": "code",
   "execution_count": 17,
   "metadata": {},
   "outputs": [
    {
     "data": {
      "text/html": [
       "&lt;Column name=&apos;a&apos; dtype=&apos;float64&apos; length=9&gt;\n",
       "<table>\n",
       "<tr><td>0.30751224</td></tr>\n",
       "<tr><td>0.71838156</td></tr>\n",
       "<tr><td>0.98251494</td></tr>\n",
       "<tr><td>1.38123405</td></tr>\n",
       "<tr><td>4.9467216</td></tr>\n",
       "<tr><td>9.02043072</td></tr>\n",
       "<tr><td>0.5714848</td></tr>\n",
       "<tr><td>18.24090678</td></tr>\n",
       "<tr><td>29.71310328</td></tr>\n",
       "</table>"
      ],
      "text/plain": [
       "<Column name='a' dtype='float64' length=9>\n",
       " 0.30751224\n",
       " 0.71838156\n",
       " 0.98251494\n",
       " 1.38123405\n",
       "  4.9467216\n",
       " 9.02043072\n",
       "  0.5714848\n",
       "18.24090678\n",
       "29.71310328"
      ]
     },
     "execution_count": 17,
     "metadata": {},
     "output_type": "execute_result"
    }
   ],
   "source": [
    "perihelion"
   ]
  },
  {
   "cell_type": "code",
   "execution_count": 18,
   "metadata": {
    "collapsed": true
   },
   "outputs": [],
   "source": [
    "planet_table['Peri'] = perihelion"
   ]
  },
  {
   "cell_type": "code",
   "execution_count": 19,
   "metadata": {
    "scrolled": true
   },
   "outputs": [
    {
     "data": {
      "text/html": [
       "&lt;QTable length=9&gt;\n",
       "<table id=\"table2273612783568\" class=\"table-striped table-bordered table-condensed\">\n",
       "<thead><tr><th>Name</th><th>a</th><th>ecc</th><th>Peri</th></tr></thead>\n",
       "<thead><tr><th>str7</th><th>float64</th><th>float64</th><th>float64</th></tr></thead>\n",
       "<tr><td>Mercury</td><td>0.3871</td><td>0.2056</td><td>0.30751224</td></tr>\n",
       "<tr><td>Venus</td><td>0.7233</td><td>0.0068</td><td>0.71838156</td></tr>\n",
       "<tr><td>Earth</td><td>0.9991</td><td>0.0166</td><td>0.98251494</td></tr>\n",
       "<tr><td>Mars</td><td>1.5237</td><td>0.0935</td><td>1.38123405</td></tr>\n",
       "<tr><td>Jupiter</td><td>5.2016</td><td>0.049</td><td>4.9467216</td></tr>\n",
       "<tr><td>Saturn</td><td>9.5424</td><td>0.0547</td><td>9.02043072</td></tr>\n",
       "<tr><td>Halley</td><td>17.8589</td><td>0.968</td><td>0.5714848</td></tr>\n",
       "<tr><td>Uranus</td><td>19.1727</td><td>0.0486</td><td>18.24090678</td></tr>\n",
       "<tr><td>Neptune</td><td>29.9769</td><td>0.0088</td><td>29.71310328</td></tr>\n",
       "</table>"
      ],
      "text/plain": [
       "<QTable length=9>\n",
       "  Name     a      ecc       Peri   \n",
       "  str7  float64 float64   float64  \n",
       "------- ------- ------- -----------\n",
       "Mercury  0.3871  0.2056  0.30751224\n",
       "  Venus  0.7233  0.0068  0.71838156\n",
       "  Earth  0.9991  0.0166  0.98251494\n",
       "   Mars  1.5237  0.0935  1.38123405\n",
       "Jupiter  5.2016   0.049   4.9467216\n",
       " Saturn  9.5424  0.0547  9.02043072\n",
       " Halley 17.8589   0.968   0.5714848\n",
       " Uranus 19.1727  0.0486 18.24090678\n",
       "Neptune 29.9769  0.0088 29.71310328"
      ]
     },
     "execution_count": 19,
     "metadata": {},
     "output_type": "execute_result"
    }
   ],
   "source": [
    "planet_table"
   ]
  },
  {
   "cell_type": "markdown",
   "metadata": {},
   "source": [
    "## Saving a table"
   ]
  },
  {
   "cell_type": "code",
   "execution_count": 20,
   "metadata": {},
   "outputs": [
    {
     "name": "stderr",
     "output_type": "stream",
     "text": [
      "WARNING: AstropyDeprecationWarning: NewPlanets.csv already exists. Automatically overwriting ASCII files is deprecated. Use the argument 'overwrite=True' in the future. [astropy.io.ascii.ui]\n"
     ]
    }
   ],
   "source": [
    "planet_table.write('NewPlanets.csv', format='ascii.csv')"
   ]
  },
  {
   "cell_type": "code",
   "execution_count": 21,
   "metadata": {
    "scrolled": true
   },
   "outputs": [
    {
     "data": {
      "text/plain": [
       "['.git',\n",
       " '.gitignore',\n",
       " '.ipynb_checkpoints',\n",
       " '00_UnixNotes.txt',\n",
       " 'Astro_Coordinates.pdf',\n",
       " 'Doctor.csv',\n",
       " 'Emily_Farr_IntroPython.ipynb',\n",
       " 'Emily_Farr_ReadingData-Copy1.ipynb',\n",
       " 'Emily_Farr_ReadingData.ipynb',\n",
       " 'FirstLast_IntroPython.ipynb',\n",
       " 'FirstLast_Strings.ipynb',\n",
       " 'FirstLast_Units.ipynb',\n",
       " 'GOLF',\n",
       " 'images',\n",
       " 'LICENSE',\n",
       " 'MainBelt.csv',\n",
       " 'Mess.csv',\n",
       " 'MyData',\n",
       " 'NewPlanets.csv',\n",
       " 'NewPlanets2.csv',\n",
       " 'Planets.csv',\n",
       " 'Python_Introduction.ipynb',\n",
       " 'Python_ReadingData.ipynb',\n",
       " 'Python_StringsAndStuff.ipynb',\n",
       " 'Python_Units.ipynb',\n",
       " 'README.md',\n",
       " 'RegEx.bash',\n",
       " 'RegExCheet.pdf',\n",
       " 'RegEx_Assignment.txt',\n",
       " 'RegEx_Notes.txt',\n",
       " 'Sillybus.pdf',\n",
       " 'StyleGuide.ipynb',\n",
       " 'TestMyComputer.ipynb',\n",
       " 'UnixCommands.pdf',\n",
       " 'words.txt']"
      ]
     },
     "execution_count": 21,
     "metadata": {},
     "output_type": "execute_result"
    }
   ],
   "source": [
    "os.listdir()"
   ]
  },
  {
   "cell_type": "markdown",
   "metadata": {},
   "source": [
    "---\n",
    "\n",
    "# The `Pandas` package - `DataFrame`"
   ]
  },
  {
   "cell_type": "code",
   "execution_count": 1,
   "metadata": {
    "collapsed": true
   },
   "outputs": [],
   "source": [
    "import pandas as pd"
   ]
  },
  {
   "cell_type": "code",
   "execution_count": 2,
   "metadata": {
    "collapsed": true
   },
   "outputs": [],
   "source": [
    "planet_table2 = pd.read_csv('Planets.csv')"
   ]
  },
  {
   "cell_type": "code",
   "execution_count": 3,
   "metadata": {},
   "outputs": [
    {
     "data": {
      "text/html": [
       "<div>\n",
       "<style>\n",
       "    .dataframe thead tr:only-child th {\n",
       "        text-align: right;\n",
       "    }\n",
       "\n",
       "    .dataframe thead th {\n",
       "        text-align: left;\n",
       "    }\n",
       "\n",
       "    .dataframe tbody tr th {\n",
       "        vertical-align: top;\n",
       "    }\n",
       "</style>\n",
       "<table border=\"1\" class=\"dataframe\">\n",
       "  <thead>\n",
       "    <tr style=\"text-align: right;\">\n",
       "      <th></th>\n",
       "      <th>Name</th>\n",
       "      <th>a</th>\n",
       "      <th>Unnamed: 2</th>\n",
       "    </tr>\n",
       "  </thead>\n",
       "  <tbody>\n",
       "    <tr>\n",
       "      <th>0</th>\n",
       "      <td>Mercury</td>\n",
       "      <td>0.3871</td>\n",
       "      <td>0.2056</td>\n",
       "    </tr>\n",
       "    <tr>\n",
       "      <th>1</th>\n",
       "      <td>Venus</td>\n",
       "      <td>0.7233</td>\n",
       "      <td>0.0068</td>\n",
       "    </tr>\n",
       "    <tr>\n",
       "      <th>2</th>\n",
       "      <td>Earth</td>\n",
       "      <td>0.9991</td>\n",
       "      <td>0.0166</td>\n",
       "    </tr>\n",
       "    <tr>\n",
       "      <th>3</th>\n",
       "      <td>Mars</td>\n",
       "      <td>1.5237</td>\n",
       "      <td>0.0935</td>\n",
       "    </tr>\n",
       "    <tr>\n",
       "      <th>4</th>\n",
       "      <td>Jupiter</td>\n",
       "      <td>5.2016</td>\n",
       "      <td>0.0490</td>\n",
       "    </tr>\n",
       "    <tr>\n",
       "      <th>5</th>\n",
       "      <td>Saturn</td>\n",
       "      <td>9.5424</td>\n",
       "      <td>0.0547</td>\n",
       "    </tr>\n",
       "    <tr>\n",
       "      <th>6</th>\n",
       "      <td>Uranus</td>\n",
       "      <td>19.1727</td>\n",
       "      <td>0.0486</td>\n",
       "    </tr>\n",
       "    <tr>\n",
       "      <th>7</th>\n",
       "      <td>Neptune</td>\n",
       "      <td>29.9769</td>\n",
       "      <td>0.0088</td>\n",
       "    </tr>\n",
       "    <tr>\n",
       "      <th>8</th>\n",
       "      <td>Halley</td>\n",
       "      <td>17.8589</td>\n",
       "      <td>0.9680</td>\n",
       "    </tr>\n",
       "  </tbody>\n",
       "</table>\n",
       "</div>"
      ],
      "text/plain": [
       "      Name        a  Unnamed: 2\n",
       "0  Mercury   0.3871      0.2056\n",
       "1    Venus   0.7233      0.0068\n",
       "2    Earth   0.9991      0.0166\n",
       "3     Mars   1.5237      0.0935\n",
       "4  Jupiter   5.2016      0.0490\n",
       "5   Saturn   9.5424      0.0547\n",
       "6   Uranus  19.1727      0.0486\n",
       "7  Neptune  29.9769      0.0088\n",
       "8   Halley  17.8589      0.9680"
      ]
     },
     "execution_count": 3,
     "metadata": {},
     "output_type": "execute_result"
    }
   ],
   "source": [
    "planet_table2"
   ]
  },
  {
   "cell_type": "code",
   "execution_count": 4,
   "metadata": {},
   "outputs": [
    {
     "name": "stdout",
     "output_type": "stream",
     "text": [
      "      Name        a  Unnamed: 2\n",
      "0  Mercury   0.3871      0.2056\n",
      "1    Venus   0.7233      0.0068\n",
      "2    Earth   0.9991      0.0166\n",
      "3     Mars   1.5237      0.0935\n",
      "4  Jupiter   5.2016      0.0490\n",
      "5   Saturn   9.5424      0.0547\n",
      "6   Uranus  19.1727      0.0486\n",
      "7  Neptune  29.9769      0.0088\n",
      "8   Halley  17.8589      0.9680\n"
     ]
    }
   ],
   "source": [
    "print(planet_table2)"
   ]
  },
  {
   "cell_type": "markdown",
   "metadata": {},
   "source": [
    "## Renaming columns"
   ]
  },
  {
   "cell_type": "code",
   "execution_count": 5,
   "metadata": {},
   "outputs": [
    {
     "data": {
      "text/html": [
       "<div>\n",
       "<style>\n",
       "    .dataframe thead tr:only-child th {\n",
       "        text-align: right;\n",
       "    }\n",
       "\n",
       "    .dataframe thead th {\n",
       "        text-align: left;\n",
       "    }\n",
       "\n",
       "    .dataframe tbody tr th {\n",
       "        vertical-align: top;\n",
       "    }\n",
       "</style>\n",
       "<table border=\"1\" class=\"dataframe\">\n",
       "  <thead>\n",
       "    <tr style=\"text-align: right;\">\n",
       "      <th></th>\n",
       "      <th>Name</th>\n",
       "      <th>a</th>\n",
       "      <th>ecc</th>\n",
       "    </tr>\n",
       "  </thead>\n",
       "  <tbody>\n",
       "    <tr>\n",
       "      <th>0</th>\n",
       "      <td>Mercury</td>\n",
       "      <td>0.3871</td>\n",
       "      <td>0.2056</td>\n",
       "    </tr>\n",
       "    <tr>\n",
       "      <th>1</th>\n",
       "      <td>Venus</td>\n",
       "      <td>0.7233</td>\n",
       "      <td>0.0068</td>\n",
       "    </tr>\n",
       "    <tr>\n",
       "      <th>2</th>\n",
       "      <td>Earth</td>\n",
       "      <td>0.9991</td>\n",
       "      <td>0.0166</td>\n",
       "    </tr>\n",
       "    <tr>\n",
       "      <th>3</th>\n",
       "      <td>Mars</td>\n",
       "      <td>1.5237</td>\n",
       "      <td>0.0935</td>\n",
       "    </tr>\n",
       "    <tr>\n",
       "      <th>4</th>\n",
       "      <td>Jupiter</td>\n",
       "      <td>5.2016</td>\n",
       "      <td>0.0490</td>\n",
       "    </tr>\n",
       "    <tr>\n",
       "      <th>5</th>\n",
       "      <td>Saturn</td>\n",
       "      <td>9.5424</td>\n",
       "      <td>0.0547</td>\n",
       "    </tr>\n",
       "    <tr>\n",
       "      <th>6</th>\n",
       "      <td>Uranus</td>\n",
       "      <td>19.1727</td>\n",
       "      <td>0.0486</td>\n",
       "    </tr>\n",
       "    <tr>\n",
       "      <th>7</th>\n",
       "      <td>Neptune</td>\n",
       "      <td>29.9769</td>\n",
       "      <td>0.0088</td>\n",
       "    </tr>\n",
       "    <tr>\n",
       "      <th>8</th>\n",
       "      <td>Halley</td>\n",
       "      <td>17.8589</td>\n",
       "      <td>0.9680</td>\n",
       "    </tr>\n",
       "  </tbody>\n",
       "</table>\n",
       "</div>"
      ],
      "text/plain": [
       "      Name        a     ecc\n",
       "0  Mercury   0.3871  0.2056\n",
       "1    Venus   0.7233  0.0068\n",
       "2    Earth   0.9991  0.0166\n",
       "3     Mars   1.5237  0.0935\n",
       "4  Jupiter   5.2016  0.0490\n",
       "5   Saturn   9.5424  0.0547\n",
       "6   Uranus  19.1727  0.0486\n",
       "7  Neptune  29.9769  0.0088\n",
       "8   Halley  17.8589  0.9680"
      ]
     },
     "execution_count": 5,
     "metadata": {},
     "output_type": "execute_result"
    }
   ],
   "source": [
    "planet_table2.rename(columns={'Unnamed: 2': 'ecc'}, inplace=True) #inplace true renames the column everywhere. If not added in it will only change in current command box.\n",
    "\n",
    "planet_table2"
   ]
  },
  {
   "cell_type": "code",
   "execution_count": 6,
   "metadata": {},
   "outputs": [
    {
     "data": {
      "text/plain": [
       "0    Mercury\n",
       "1      Venus\n",
       "2      Earth\n",
       "3       Mars\n",
       "4    Jupiter\n",
       "5     Saturn\n",
       "6     Uranus\n",
       "7    Neptune\n",
       "8     Halley\n",
       "Name: Name, dtype: object"
      ]
     },
     "execution_count": 6,
     "metadata": {},
     "output_type": "execute_result"
    }
   ],
   "source": [
    "planet_table2['Name']"
   ]
  },
  {
   "cell_type": "code",
   "execution_count": 7,
   "metadata": {},
   "outputs": [
    {
     "ename": "NameError",
     "evalue": "name 'planet_table' is not defined",
     "output_type": "error",
     "traceback": [
      "\u001b[1;31m---------------------------------------------------------------------------\u001b[0m",
      "\u001b[1;31mNameError\u001b[0m                                 Traceback (most recent call last)",
      "\u001b[1;32m<ipython-input-7-7b73ec2e2c2e>\u001b[0m in \u001b[0;36m<module>\u001b[1;34m()\u001b[0m\n\u001b[1;32m----> 1\u001b[1;33m \u001b[0mplanet_table\u001b[0m\u001b[1;33m[\u001b[0m\u001b[1;34m'Name'\u001b[0m\u001b[1;33m]\u001b[0m\u001b[1;33m[\u001b[0m\u001b[1;36m0\u001b[0m\u001b[1;33m]\u001b[0m\u001b[1;33m\u001b[0m\u001b[0m\n\u001b[0m",
      "\u001b[1;31mNameError\u001b[0m: name 'planet_table' is not defined"
     ]
    }
   ],
   "source": [
    "planet_table['Name'][0]"
   ]
  },
  {
   "cell_type": "markdown",
   "metadata": {},
   "source": [
    "## Sorting"
   ]
  },
  {
   "cell_type": "code",
   "execution_count": 8,
   "metadata": {},
   "outputs": [
    {
     "data": {
      "text/html": [
       "<div>\n",
       "<style>\n",
       "    .dataframe thead tr:only-child th {\n",
       "        text-align: right;\n",
       "    }\n",
       "\n",
       "    .dataframe thead th {\n",
       "        text-align: left;\n",
       "    }\n",
       "\n",
       "    .dataframe tbody tr th {\n",
       "        vertical-align: top;\n",
       "    }\n",
       "</style>\n",
       "<table border=\"1\" class=\"dataframe\">\n",
       "  <thead>\n",
       "    <tr style=\"text-align: right;\">\n",
       "      <th></th>\n",
       "      <th>Name</th>\n",
       "      <th>a</th>\n",
       "      <th>ecc</th>\n",
       "    </tr>\n",
       "  </thead>\n",
       "  <tbody>\n",
       "    <tr>\n",
       "      <th>1</th>\n",
       "      <td>Venus</td>\n",
       "      <td>0.7233</td>\n",
       "      <td>0.0068</td>\n",
       "    </tr>\n",
       "    <tr>\n",
       "      <th>7</th>\n",
       "      <td>Neptune</td>\n",
       "      <td>29.9769</td>\n",
       "      <td>0.0088</td>\n",
       "    </tr>\n",
       "    <tr>\n",
       "      <th>2</th>\n",
       "      <td>Earth</td>\n",
       "      <td>0.9991</td>\n",
       "      <td>0.0166</td>\n",
       "    </tr>\n",
       "    <tr>\n",
       "      <th>6</th>\n",
       "      <td>Uranus</td>\n",
       "      <td>19.1727</td>\n",
       "      <td>0.0486</td>\n",
       "    </tr>\n",
       "    <tr>\n",
       "      <th>4</th>\n",
       "      <td>Jupiter</td>\n",
       "      <td>5.2016</td>\n",
       "      <td>0.0490</td>\n",
       "    </tr>\n",
       "    <tr>\n",
       "      <th>5</th>\n",
       "      <td>Saturn</td>\n",
       "      <td>9.5424</td>\n",
       "      <td>0.0547</td>\n",
       "    </tr>\n",
       "    <tr>\n",
       "      <th>3</th>\n",
       "      <td>Mars</td>\n",
       "      <td>1.5237</td>\n",
       "      <td>0.0935</td>\n",
       "    </tr>\n",
       "    <tr>\n",
       "      <th>0</th>\n",
       "      <td>Mercury</td>\n",
       "      <td>0.3871</td>\n",
       "      <td>0.2056</td>\n",
       "    </tr>\n",
       "    <tr>\n",
       "      <th>8</th>\n",
       "      <td>Halley</td>\n",
       "      <td>17.8589</td>\n",
       "      <td>0.9680</td>\n",
       "    </tr>\n",
       "  </tbody>\n",
       "</table>\n",
       "</div>"
      ],
      "text/plain": [
       "      Name        a     ecc\n",
       "1    Venus   0.7233  0.0068\n",
       "7  Neptune  29.9769  0.0088\n",
       "2    Earth   0.9991  0.0166\n",
       "6   Uranus  19.1727  0.0486\n",
       "4  Jupiter   5.2016  0.0490\n",
       "5   Saturn   9.5424  0.0547\n",
       "3     Mars   1.5237  0.0935\n",
       "0  Mercury   0.3871  0.2056\n",
       "8   Halley  17.8589  0.9680"
      ]
     },
     "execution_count": 8,
     "metadata": {},
     "output_type": "execute_result"
    }
   ],
   "source": [
    "planet_table2.sort_values(['ecc'])"
   ]
  },
  {
   "cell_type": "code",
   "execution_count": 9,
   "metadata": {},
   "outputs": [
    {
     "data": {
      "text/html": [
       "<div>\n",
       "<style>\n",
       "    .dataframe thead tr:only-child th {\n",
       "        text-align: right;\n",
       "    }\n",
       "\n",
       "    .dataframe thead th {\n",
       "        text-align: left;\n",
       "    }\n",
       "\n",
       "    .dataframe tbody tr th {\n",
       "        vertical-align: top;\n",
       "    }\n",
       "</style>\n",
       "<table border=\"1\" class=\"dataframe\">\n",
       "  <thead>\n",
       "    <tr style=\"text-align: right;\">\n",
       "      <th></th>\n",
       "      <th>Name</th>\n",
       "      <th>a</th>\n",
       "      <th>ecc</th>\n",
       "    </tr>\n",
       "  </thead>\n",
       "  <tbody>\n",
       "    <tr>\n",
       "      <th>0</th>\n",
       "      <td>Mercury</td>\n",
       "      <td>0.3871</td>\n",
       "      <td>0.2056</td>\n",
       "    </tr>\n",
       "    <tr>\n",
       "      <th>1</th>\n",
       "      <td>Venus</td>\n",
       "      <td>0.7233</td>\n",
       "      <td>0.0068</td>\n",
       "    </tr>\n",
       "    <tr>\n",
       "      <th>2</th>\n",
       "      <td>Earth</td>\n",
       "      <td>0.9991</td>\n",
       "      <td>0.0166</td>\n",
       "    </tr>\n",
       "    <tr>\n",
       "      <th>3</th>\n",
       "      <td>Mars</td>\n",
       "      <td>1.5237</td>\n",
       "      <td>0.0935</td>\n",
       "    </tr>\n",
       "    <tr>\n",
       "      <th>4</th>\n",
       "      <td>Jupiter</td>\n",
       "      <td>5.2016</td>\n",
       "      <td>0.0490</td>\n",
       "    </tr>\n",
       "    <tr>\n",
       "      <th>5</th>\n",
       "      <td>Saturn</td>\n",
       "      <td>9.5424</td>\n",
       "      <td>0.0547</td>\n",
       "    </tr>\n",
       "    <tr>\n",
       "      <th>6</th>\n",
       "      <td>Uranus</td>\n",
       "      <td>19.1727</td>\n",
       "      <td>0.0486</td>\n",
       "    </tr>\n",
       "    <tr>\n",
       "      <th>7</th>\n",
       "      <td>Neptune</td>\n",
       "      <td>29.9769</td>\n",
       "      <td>0.0088</td>\n",
       "    </tr>\n",
       "    <tr>\n",
       "      <th>8</th>\n",
       "      <td>Halley</td>\n",
       "      <td>17.8589</td>\n",
       "      <td>0.9680</td>\n",
       "    </tr>\n",
       "  </tbody>\n",
       "</table>\n",
       "</div>"
      ],
      "text/plain": [
       "      Name        a     ecc\n",
       "0  Mercury   0.3871  0.2056\n",
       "1    Venus   0.7233  0.0068\n",
       "2    Earth   0.9991  0.0166\n",
       "3     Mars   1.5237  0.0935\n",
       "4  Jupiter   5.2016  0.0490\n",
       "5   Saturn   9.5424  0.0547\n",
       "6   Uranus  19.1727  0.0486\n",
       "7  Neptune  29.9769  0.0088\n",
       "8   Halley  17.8589  0.9680"
      ]
     },
     "execution_count": 9,
     "metadata": {},
     "output_type": "execute_result"
    }
   ],
   "source": [
    "planet_table2"
   ]
  },
  {
   "cell_type": "code",
   "execution_count": 10,
   "metadata": {},
   "outputs": [
    {
     "data": {
      "text/html": [
       "<div>\n",
       "<style>\n",
       "    .dataframe thead tr:only-child th {\n",
       "        text-align: right;\n",
       "    }\n",
       "\n",
       "    .dataframe thead th {\n",
       "        text-align: left;\n",
       "    }\n",
       "\n",
       "    .dataframe tbody tr th {\n",
       "        vertical-align: top;\n",
       "    }\n",
       "</style>\n",
       "<table border=\"1\" class=\"dataframe\">\n",
       "  <thead>\n",
       "    <tr style=\"text-align: right;\">\n",
       "      <th></th>\n",
       "      <th>Name</th>\n",
       "      <th>a</th>\n",
       "      <th>ecc</th>\n",
       "    </tr>\n",
       "  </thead>\n",
       "  <tbody>\n",
       "    <tr>\n",
       "      <th>8</th>\n",
       "      <td>Halley</td>\n",
       "      <td>17.8589</td>\n",
       "      <td>0.9680</td>\n",
       "    </tr>\n",
       "    <tr>\n",
       "      <th>0</th>\n",
       "      <td>Mercury</td>\n",
       "      <td>0.3871</td>\n",
       "      <td>0.2056</td>\n",
       "    </tr>\n",
       "    <tr>\n",
       "      <th>3</th>\n",
       "      <td>Mars</td>\n",
       "      <td>1.5237</td>\n",
       "      <td>0.0935</td>\n",
       "    </tr>\n",
       "    <tr>\n",
       "      <th>5</th>\n",
       "      <td>Saturn</td>\n",
       "      <td>9.5424</td>\n",
       "      <td>0.0547</td>\n",
       "    </tr>\n",
       "    <tr>\n",
       "      <th>4</th>\n",
       "      <td>Jupiter</td>\n",
       "      <td>5.2016</td>\n",
       "      <td>0.0490</td>\n",
       "    </tr>\n",
       "    <tr>\n",
       "      <th>6</th>\n",
       "      <td>Uranus</td>\n",
       "      <td>19.1727</td>\n",
       "      <td>0.0486</td>\n",
       "    </tr>\n",
       "    <tr>\n",
       "      <th>2</th>\n",
       "      <td>Earth</td>\n",
       "      <td>0.9991</td>\n",
       "      <td>0.0166</td>\n",
       "    </tr>\n",
       "    <tr>\n",
       "      <th>7</th>\n",
       "      <td>Neptune</td>\n",
       "      <td>29.9769</td>\n",
       "      <td>0.0088</td>\n",
       "    </tr>\n",
       "    <tr>\n",
       "      <th>1</th>\n",
       "      <td>Venus</td>\n",
       "      <td>0.7233</td>\n",
       "      <td>0.0068</td>\n",
       "    </tr>\n",
       "  </tbody>\n",
       "</table>\n",
       "</div>"
      ],
      "text/plain": [
       "      Name        a     ecc\n",
       "8   Halley  17.8589  0.9680\n",
       "0  Mercury   0.3871  0.2056\n",
       "3     Mars   1.5237  0.0935\n",
       "5   Saturn   9.5424  0.0547\n",
       "4  Jupiter   5.2016  0.0490\n",
       "6   Uranus  19.1727  0.0486\n",
       "2    Earth   0.9991  0.0166\n",
       "7  Neptune  29.9769  0.0088\n",
       "1    Venus   0.7233  0.0068"
      ]
     },
     "execution_count": 10,
     "metadata": {},
     "output_type": "execute_result"
    }
   ],
   "source": [
    "planet_table2.sort_values(['ecc'], ascending=False)"
   ]
  },
  {
   "cell_type": "markdown",
   "metadata": {},
   "source": [
    "## Masking"
   ]
  },
  {
   "cell_type": "code",
   "execution_count": 11,
   "metadata": {},
   "outputs": [
    {
     "ename": "NameError",
     "evalue": "name 'planet_table' is not defined",
     "output_type": "error",
     "traceback": [
      "\u001b[1;31m---------------------------------------------------------------------------\u001b[0m",
      "\u001b[1;31mNameError\u001b[0m                                 Traceback (most recent call last)",
      "\u001b[1;32m<ipython-input-11-4c5c7d6c9c4d>\u001b[0m in \u001b[0;36m<module>\u001b[1;34m()\u001b[0m\n\u001b[1;32m----> 1\u001b[1;33m \u001b[0mmask3\u001b[0m \u001b[1;33m=\u001b[0m \u001b[0mplanet_table\u001b[0m\u001b[1;33m[\u001b[0m\u001b[1;34m'a'\u001b[0m\u001b[1;33m]\u001b[0m \u001b[1;33m>\u001b[0m \u001b[1;36m5\u001b[0m\u001b[1;33m\u001b[0m\u001b[0m\n\u001b[0m\u001b[0;32m      2\u001b[0m \u001b[1;33m\u001b[0m\u001b[0m\n\u001b[0;32m      3\u001b[0m \u001b[0mmask3\u001b[0m\u001b[1;33m\u001b[0m\u001b[0m\n",
      "\u001b[1;31mNameError\u001b[0m: name 'planet_table' is not defined"
     ]
    }
   ],
   "source": [
    "mask3 = planet_table['a'] > 5\n",
    "\n",
    "mask3"
   ]
  },
  {
   "cell_type": "code",
   "execution_count": 12,
   "metadata": {},
   "outputs": [
    {
     "ename": "NameError",
     "evalue": "name 'mask3' is not defined",
     "output_type": "error",
     "traceback": [
      "\u001b[1;31m---------------------------------------------------------------------------\u001b[0m",
      "\u001b[1;31mNameError\u001b[0m                                 Traceback (most recent call last)",
      "\u001b[1;32m<ipython-input-12-a1be1ec76ad6>\u001b[0m in \u001b[0;36m<module>\u001b[1;34m()\u001b[0m\n\u001b[1;32m----> 1\u001b[1;33m \u001b[0mplanet_table2\u001b[0m\u001b[1;33m[\u001b[0m\u001b[0mmask3\u001b[0m\u001b[1;33m]\u001b[0m\u001b[1;33m\u001b[0m\u001b[0m\n\u001b[0m",
      "\u001b[1;31mNameError\u001b[0m: name 'mask3' is not defined"
     ]
    }
   ],
   "source": [
    "planet_table2[mask3]"
   ]
  },
  {
   "cell_type": "code",
   "execution_count": 13,
   "metadata": {
    "scrolled": true
   },
   "outputs": [
    {
     "data": {
      "text/html": [
       "<div>\n",
       "<style>\n",
       "    .dataframe thead tr:only-child th {\n",
       "        text-align: right;\n",
       "    }\n",
       "\n",
       "    .dataframe thead th {\n",
       "        text-align: left;\n",
       "    }\n",
       "\n",
       "    .dataframe tbody tr th {\n",
       "        vertical-align: top;\n",
       "    }\n",
       "</style>\n",
       "<table border=\"1\" class=\"dataframe\">\n",
       "  <thead>\n",
       "    <tr style=\"text-align: right;\">\n",
       "      <th></th>\n",
       "      <th>Name</th>\n",
       "      <th>a</th>\n",
       "      <th>ecc</th>\n",
       "    </tr>\n",
       "  </thead>\n",
       "  <tbody>\n",
       "    <tr>\n",
       "      <th>4</th>\n",
       "      <td>Jupiter</td>\n",
       "      <td>5.2016</td>\n",
       "      <td>0.0490</td>\n",
       "    </tr>\n",
       "    <tr>\n",
       "      <th>6</th>\n",
       "      <td>Uranus</td>\n",
       "      <td>19.1727</td>\n",
       "      <td>0.0486</td>\n",
       "    </tr>\n",
       "    <tr>\n",
       "      <th>7</th>\n",
       "      <td>Neptune</td>\n",
       "      <td>29.9769</td>\n",
       "      <td>0.0088</td>\n",
       "    </tr>\n",
       "  </tbody>\n",
       "</table>\n",
       "</div>"
      ],
      "text/plain": [
       "      Name        a     ecc\n",
       "4  Jupiter   5.2016  0.0490\n",
       "6   Uranus  19.1727  0.0486\n",
       "7  Neptune  29.9769  0.0088"
      ]
     },
     "execution_count": 13,
     "metadata": {},
     "output_type": "execute_result"
    }
   ],
   "source": [
    "mask4 = ((planet_table2['a'] > 5) &\n",
    "         (planet_table2['ecc'] < 0.05))\n",
    "\n",
    "planet_table2[mask4]"
   ]
  },
  {
   "cell_type": "markdown",
   "metadata": {},
   "source": [
    "## Adding a column to the Table"
   ]
  },
  {
   "cell_type": "code",
   "execution_count": 14,
   "metadata": {
    "collapsed": true
   },
   "outputs": [],
   "source": [
    "perihelion = planet_table2['a'] * (1.0 - planet_table2['ecc'])"
   ]
  },
  {
   "cell_type": "code",
   "execution_count": 15,
   "metadata": {},
   "outputs": [
    {
     "data": {
      "text/plain": [
       "0     0.307512\n",
       "1     0.718382\n",
       "2     0.982515\n",
       "3     1.381234\n",
       "4     4.946722\n",
       "5     9.020431\n",
       "6    18.240907\n",
       "7    29.713103\n",
       "8     0.571485\n",
       "dtype: float64"
      ]
     },
     "execution_count": 15,
     "metadata": {},
     "output_type": "execute_result"
    }
   ],
   "source": [
    "perihelion"
   ]
  },
  {
   "cell_type": "code",
   "execution_count": 16,
   "metadata": {
    "collapsed": true
   },
   "outputs": [],
   "source": [
    "planet_table2['Peri'] = perihelion"
   ]
  },
  {
   "cell_type": "code",
   "execution_count": 17,
   "metadata": {
    "scrolled": true
   },
   "outputs": [
    {
     "data": {
      "text/html": [
       "<div>\n",
       "<style>\n",
       "    .dataframe thead tr:only-child th {\n",
       "        text-align: right;\n",
       "    }\n",
       "\n",
       "    .dataframe thead th {\n",
       "        text-align: left;\n",
       "    }\n",
       "\n",
       "    .dataframe tbody tr th {\n",
       "        vertical-align: top;\n",
       "    }\n",
       "</style>\n",
       "<table border=\"1\" class=\"dataframe\">\n",
       "  <thead>\n",
       "    <tr style=\"text-align: right;\">\n",
       "      <th></th>\n",
       "      <th>Name</th>\n",
       "      <th>a</th>\n",
       "      <th>ecc</th>\n",
       "      <th>Peri</th>\n",
       "    </tr>\n",
       "  </thead>\n",
       "  <tbody>\n",
       "    <tr>\n",
       "      <th>0</th>\n",
       "      <td>Mercury</td>\n",
       "      <td>0.3871</td>\n",
       "      <td>0.2056</td>\n",
       "      <td>0.307512</td>\n",
       "    </tr>\n",
       "    <tr>\n",
       "      <th>1</th>\n",
       "      <td>Venus</td>\n",
       "      <td>0.7233</td>\n",
       "      <td>0.0068</td>\n",
       "      <td>0.718382</td>\n",
       "    </tr>\n",
       "    <tr>\n",
       "      <th>2</th>\n",
       "      <td>Earth</td>\n",
       "      <td>0.9991</td>\n",
       "      <td>0.0166</td>\n",
       "      <td>0.982515</td>\n",
       "    </tr>\n",
       "    <tr>\n",
       "      <th>3</th>\n",
       "      <td>Mars</td>\n",
       "      <td>1.5237</td>\n",
       "      <td>0.0935</td>\n",
       "      <td>1.381234</td>\n",
       "    </tr>\n",
       "    <tr>\n",
       "      <th>4</th>\n",
       "      <td>Jupiter</td>\n",
       "      <td>5.2016</td>\n",
       "      <td>0.0490</td>\n",
       "      <td>4.946722</td>\n",
       "    </tr>\n",
       "    <tr>\n",
       "      <th>5</th>\n",
       "      <td>Saturn</td>\n",
       "      <td>9.5424</td>\n",
       "      <td>0.0547</td>\n",
       "      <td>9.020431</td>\n",
       "    </tr>\n",
       "    <tr>\n",
       "      <th>6</th>\n",
       "      <td>Uranus</td>\n",
       "      <td>19.1727</td>\n",
       "      <td>0.0486</td>\n",
       "      <td>18.240907</td>\n",
       "    </tr>\n",
       "    <tr>\n",
       "      <th>7</th>\n",
       "      <td>Neptune</td>\n",
       "      <td>29.9769</td>\n",
       "      <td>0.0088</td>\n",
       "      <td>29.713103</td>\n",
       "    </tr>\n",
       "    <tr>\n",
       "      <th>8</th>\n",
       "      <td>Halley</td>\n",
       "      <td>17.8589</td>\n",
       "      <td>0.9680</td>\n",
       "      <td>0.571485</td>\n",
       "    </tr>\n",
       "  </tbody>\n",
       "</table>\n",
       "</div>"
      ],
      "text/plain": [
       "      Name        a     ecc       Peri\n",
       "0  Mercury   0.3871  0.2056   0.307512\n",
       "1    Venus   0.7233  0.0068   0.718382\n",
       "2    Earth   0.9991  0.0166   0.982515\n",
       "3     Mars   1.5237  0.0935   1.381234\n",
       "4  Jupiter   5.2016  0.0490   4.946722\n",
       "5   Saturn   9.5424  0.0547   9.020431\n",
       "6   Uranus  19.1727  0.0486  18.240907\n",
       "7  Neptune  29.9769  0.0088  29.713103\n",
       "8   Halley  17.8589  0.9680   0.571485"
      ]
     },
     "execution_count": 17,
     "metadata": {},
     "output_type": "execute_result"
    }
   ],
   "source": [
    "planet_table2"
   ]
  },
  {
   "cell_type": "markdown",
   "metadata": {},
   "source": [
    "## Saving a table"
   ]
  },
  {
   "cell_type": "code",
   "execution_count": 18,
   "metadata": {
    "collapsed": true
   },
   "outputs": [],
   "source": [
    "planet_table2.to_csv('NewPlanets2.csv', index=False) #index true will keep the index"
   ]
  },
  {
   "cell_type": "code",
   "execution_count": 19,
   "metadata": {
    "scrolled": true
   },
   "outputs": [
    {
     "ename": "NameError",
     "evalue": "name 'os' is not defined",
     "output_type": "error",
     "traceback": [
      "\u001b[1;31m---------------------------------------------------------------------------\u001b[0m",
      "\u001b[1;31mNameError\u001b[0m                                 Traceback (most recent call last)",
      "\u001b[1;32m<ipython-input-19-eff7f7465dbc>\u001b[0m in \u001b[0;36m<module>\u001b[1;34m()\u001b[0m\n\u001b[1;32m----> 1\u001b[1;33m \u001b[0mos\u001b[0m\u001b[1;33m.\u001b[0m\u001b[0mlistdir\u001b[0m\u001b[1;33m(\u001b[0m\u001b[1;33m)\u001b[0m\u001b[1;33m\u001b[0m\u001b[0m\n\u001b[0m",
      "\u001b[1;31mNameError\u001b[0m: name 'os' is not defined"
     ]
    }
   ],
   "source": [
    "os.listdir()"
   ]
  },
  {
   "cell_type": "markdown",
   "metadata": {},
   "source": [
    "---\n",
    "\n",
    "# QTables vs. DataFrames\n",
    "\n",
    "* As you can see, the `astropy` **QTable** and the `pandas` **DataFrame** are very similar.\n",
    "* There are some important differences that we will discover this quarter.\n",
    "* Astronomers use both packages, depending on the situation.\n",
    "* `Pandas` is the dominate packages outside astronomy."
   ]
  },
  {
   "cell_type": "markdown",
   "metadata": {},
   "source": [
    "# Part I - Advantage Pandas"
   ]
  },
  {
   "cell_type": "markdown",
   "metadata": {},
   "source": [
    "## `Pandas` is really good for working with dates!"
   ]
  },
  {
   "cell_type": "code",
   "execution_count": 20,
   "metadata": {
    "collapsed": true
   },
   "outputs": [],
   "source": [
    "import datetime"
   ]
  },
  {
   "cell_type": "code",
   "execution_count": 21,
   "metadata": {
    "collapsed": true
   },
   "outputs": [],
   "source": [
    "doctor_table = pd.read_csv('Doctor.csv')"
   ]
  },
  {
   "cell_type": "code",
   "execution_count": 22,
   "metadata": {},
   "outputs": [
    {
     "data": {
      "text/html": [
       "<div>\n",
       "<style>\n",
       "    .dataframe thead tr:only-child th {\n",
       "        text-align: right;\n",
       "    }\n",
       "\n",
       "    .dataframe thead th {\n",
       "        text-align: left;\n",
       "    }\n",
       "\n",
       "    .dataframe tbody tr th {\n",
       "        vertical-align: top;\n",
       "    }\n",
       "</style>\n",
       "<table border=\"1\" class=\"dataframe\">\n",
       "  <thead>\n",
       "    <tr style=\"text-align: right;\">\n",
       "      <th></th>\n",
       "      <th>Name</th>\n",
       "      <th>BirthDate</th>\n",
       "      <th>Age</th>\n",
       "      <th>BirthCity</th>\n",
       "      <th>BirthCountry</th>\n",
       "    </tr>\n",
       "  </thead>\n",
       "  <tbody>\n",
       "    <tr>\n",
       "      <th>0</th>\n",
       "      <td>William Hartnell</td>\n",
       "      <td>8/01/1908</td>\n",
       "      <td>55</td>\n",
       "      <td>London</td>\n",
       "      <td>England</td>\n",
       "    </tr>\n",
       "    <tr>\n",
       "      <th>1</th>\n",
       "      <td>Patrick Troughton</td>\n",
       "      <td>25 March 1920</td>\n",
       "      <td>46</td>\n",
       "      <td>London</td>\n",
       "      <td>England</td>\n",
       "    </tr>\n",
       "    <tr>\n",
       "      <th>2</th>\n",
       "      <td>Jon Pertwee</td>\n",
       "      <td>7 July 1919</td>\n",
       "      <td>50</td>\n",
       "      <td>London</td>\n",
       "      <td>England</td>\n",
       "    </tr>\n",
       "    <tr>\n",
       "      <th>3</th>\n",
       "      <td>Tom Baker</td>\n",
       "      <td>20-January-1934</td>\n",
       "      <td>40</td>\n",
       "      <td>Liverpool</td>\n",
       "      <td>England</td>\n",
       "    </tr>\n",
       "    <tr>\n",
       "      <th>4</th>\n",
       "      <td>Peter Davison</td>\n",
       "      <td>13 April 1951</td>\n",
       "      <td>29</td>\n",
       "      <td>London</td>\n",
       "      <td>England</td>\n",
       "    </tr>\n",
       "    <tr>\n",
       "      <th>5</th>\n",
       "      <td>Colin Baker</td>\n",
       "      <td>8/June/1943</td>\n",
       "      <td>40</td>\n",
       "      <td>London</td>\n",
       "      <td>England</td>\n",
       "    </tr>\n",
       "    <tr>\n",
       "      <th>6</th>\n",
       "      <td>Sylvester McCoy</td>\n",
       "      <td>20 August 1943</td>\n",
       "      <td>44</td>\n",
       "      <td>Dunoon</td>\n",
       "      <td>Scotland</td>\n",
       "    </tr>\n",
       "    <tr>\n",
       "      <th>7</th>\n",
       "      <td>Paul McGann</td>\n",
       "      <td>14/11/1959</td>\n",
       "      <td>36</td>\n",
       "      <td>Liverpool</td>\n",
       "      <td>England</td>\n",
       "    </tr>\n",
       "    <tr>\n",
       "      <th>8</th>\n",
       "      <td>John Hurt</td>\n",
       "      <td>22 January 1940</td>\n",
       "      <td>73</td>\n",
       "      <td>Derbyshire</td>\n",
       "      <td>England</td>\n",
       "    </tr>\n",
       "    <tr>\n",
       "      <th>9</th>\n",
       "      <td>Chris Eccleston</td>\n",
       "      <td>16 Feb 1964</td>\n",
       "      <td>41</td>\n",
       "      <td>Salford</td>\n",
       "      <td>England</td>\n",
       "    </tr>\n",
       "    <tr>\n",
       "      <th>10</th>\n",
       "      <td>David Tennant</td>\n",
       "      <td>18 April 1971</td>\n",
       "      <td>34</td>\n",
       "      <td>Bathgate</td>\n",
       "      <td>Scotland</td>\n",
       "    </tr>\n",
       "    <tr>\n",
       "      <th>11</th>\n",
       "      <td>Matt Smith</td>\n",
       "      <td>28-10-1982</td>\n",
       "      <td>27</td>\n",
       "      <td>Northampton</td>\n",
       "      <td>England</td>\n",
       "    </tr>\n",
       "    <tr>\n",
       "      <th>12</th>\n",
       "      <td>Peter Capaldi</td>\n",
       "      <td>14 April 1958</td>\n",
       "      <td>55</td>\n",
       "      <td>Glasgow</td>\n",
       "      <td>Scotland</td>\n",
       "    </tr>\n",
       "    <tr>\n",
       "      <th>13</th>\n",
       "      <td>Jodie Whittaker</td>\n",
       "      <td>06/03/1982</td>\n",
       "      <td>35</td>\n",
       "      <td>Yorkshire</td>\n",
       "      <td>England</td>\n",
       "    </tr>\n",
       "  </tbody>\n",
       "</table>\n",
       "</div>"
      ],
      "text/plain": [
       "                 Name        BirthDate  Age    BirthCity BirthCountry\n",
       "0    William Hartnell        8/01/1908   55       London      England\n",
       "1   Patrick Troughton    25 March 1920   46       London      England\n",
       "2         Jon Pertwee      7 July 1919   50       London      England\n",
       "3           Tom Baker  20-January-1934   40    Liverpool      England\n",
       "4       Peter Davison    13 April 1951   29       London      England\n",
       "5         Colin Baker      8/June/1943   40       London      England\n",
       "6     Sylvester McCoy   20 August 1943   44       Dunoon     Scotland\n",
       "7         Paul McGann       14/11/1959   36    Liverpool      England\n",
       "8           John Hurt  22 January 1940   73   Derbyshire      England\n",
       "9     Chris Eccleston      16 Feb 1964   41      Salford      England\n",
       "10      David Tennant    18 April 1971   34     Bathgate     Scotland\n",
       "11         Matt Smith       28-10-1982   27  Northampton      England\n",
       "12      Peter Capaldi    14 April 1958   55      Glasgow     Scotland\n",
       "13    Jodie Whittaker       06/03/1982   35    Yorkshire      England"
      ]
     },
     "execution_count": 22,
     "metadata": {},
     "output_type": "execute_result"
    }
   ],
   "source": [
    "doctor_table"
   ]
  },
  {
   "cell_type": "code",
   "execution_count": 23,
   "metadata": {},
   "outputs": [
    {
     "data": {
      "text/html": [
       "<div>\n",
       "<style>\n",
       "    .dataframe thead tr:only-child th {\n",
       "        text-align: right;\n",
       "    }\n",
       "\n",
       "    .dataframe thead th {\n",
       "        text-align: left;\n",
       "    }\n",
       "\n",
       "    .dataframe tbody tr th {\n",
       "        vertical-align: top;\n",
       "    }\n",
       "</style>\n",
       "<table border=\"1\" class=\"dataframe\">\n",
       "  <thead>\n",
       "    <tr style=\"text-align: right;\">\n",
       "      <th></th>\n",
       "      <th>Name</th>\n",
       "      <th>BirthDate</th>\n",
       "      <th>Age</th>\n",
       "      <th>BirthCity</th>\n",
       "      <th>BirthCountry</th>\n",
       "    </tr>\n",
       "  </thead>\n",
       "  <tbody>\n",
       "    <tr>\n",
       "      <th>13</th>\n",
       "      <td>Jodie Whittaker</td>\n",
       "      <td>06/03/1982</td>\n",
       "      <td>35</td>\n",
       "      <td>Yorkshire</td>\n",
       "      <td>England</td>\n",
       "    </tr>\n",
       "    <tr>\n",
       "      <th>4</th>\n",
       "      <td>Peter Davison</td>\n",
       "      <td>13 April 1951</td>\n",
       "      <td>29</td>\n",
       "      <td>London</td>\n",
       "      <td>England</td>\n",
       "    </tr>\n",
       "    <tr>\n",
       "      <th>12</th>\n",
       "      <td>Peter Capaldi</td>\n",
       "      <td>14 April 1958</td>\n",
       "      <td>55</td>\n",
       "      <td>Glasgow</td>\n",
       "      <td>Scotland</td>\n",
       "    </tr>\n",
       "    <tr>\n",
       "      <th>7</th>\n",
       "      <td>Paul McGann</td>\n",
       "      <td>14/11/1959</td>\n",
       "      <td>36</td>\n",
       "      <td>Liverpool</td>\n",
       "      <td>England</td>\n",
       "    </tr>\n",
       "    <tr>\n",
       "      <th>9</th>\n",
       "      <td>Chris Eccleston</td>\n",
       "      <td>16 Feb 1964</td>\n",
       "      <td>41</td>\n",
       "      <td>Salford</td>\n",
       "      <td>England</td>\n",
       "    </tr>\n",
       "    <tr>\n",
       "      <th>10</th>\n",
       "      <td>David Tennant</td>\n",
       "      <td>18 April 1971</td>\n",
       "      <td>34</td>\n",
       "      <td>Bathgate</td>\n",
       "      <td>Scotland</td>\n",
       "    </tr>\n",
       "    <tr>\n",
       "      <th>6</th>\n",
       "      <td>Sylvester McCoy</td>\n",
       "      <td>20 August 1943</td>\n",
       "      <td>44</td>\n",
       "      <td>Dunoon</td>\n",
       "      <td>Scotland</td>\n",
       "    </tr>\n",
       "    <tr>\n",
       "      <th>3</th>\n",
       "      <td>Tom Baker</td>\n",
       "      <td>20-January-1934</td>\n",
       "      <td>40</td>\n",
       "      <td>Liverpool</td>\n",
       "      <td>England</td>\n",
       "    </tr>\n",
       "    <tr>\n",
       "      <th>8</th>\n",
       "      <td>John Hurt</td>\n",
       "      <td>22 January 1940</td>\n",
       "      <td>73</td>\n",
       "      <td>Derbyshire</td>\n",
       "      <td>England</td>\n",
       "    </tr>\n",
       "    <tr>\n",
       "      <th>1</th>\n",
       "      <td>Patrick Troughton</td>\n",
       "      <td>25 March 1920</td>\n",
       "      <td>46</td>\n",
       "      <td>London</td>\n",
       "      <td>England</td>\n",
       "    </tr>\n",
       "    <tr>\n",
       "      <th>11</th>\n",
       "      <td>Matt Smith</td>\n",
       "      <td>28-10-1982</td>\n",
       "      <td>27</td>\n",
       "      <td>Northampton</td>\n",
       "      <td>England</td>\n",
       "    </tr>\n",
       "    <tr>\n",
       "      <th>2</th>\n",
       "      <td>Jon Pertwee</td>\n",
       "      <td>7 July 1919</td>\n",
       "      <td>50</td>\n",
       "      <td>London</td>\n",
       "      <td>England</td>\n",
       "    </tr>\n",
       "    <tr>\n",
       "      <th>0</th>\n",
       "      <td>William Hartnell</td>\n",
       "      <td>8/01/1908</td>\n",
       "      <td>55</td>\n",
       "      <td>London</td>\n",
       "      <td>England</td>\n",
       "    </tr>\n",
       "    <tr>\n",
       "      <th>5</th>\n",
       "      <td>Colin Baker</td>\n",
       "      <td>8/June/1943</td>\n",
       "      <td>40</td>\n",
       "      <td>London</td>\n",
       "      <td>England</td>\n",
       "    </tr>\n",
       "  </tbody>\n",
       "</table>\n",
       "</div>"
      ],
      "text/plain": [
       "                 Name        BirthDate  Age    BirthCity BirthCountry\n",
       "13    Jodie Whittaker       06/03/1982   35    Yorkshire      England\n",
       "4       Peter Davison    13 April 1951   29       London      England\n",
       "12      Peter Capaldi    14 April 1958   55      Glasgow     Scotland\n",
       "7         Paul McGann       14/11/1959   36    Liverpool      England\n",
       "9     Chris Eccleston      16 Feb 1964   41      Salford      England\n",
       "10      David Tennant    18 April 1971   34     Bathgate     Scotland\n",
       "6     Sylvester McCoy   20 August 1943   44       Dunoon     Scotland\n",
       "3           Tom Baker  20-January-1934   40    Liverpool      England\n",
       "8           John Hurt  22 January 1940   73   Derbyshire      England\n",
       "1   Patrick Troughton    25 March 1920   46       London      England\n",
       "11         Matt Smith       28-10-1982   27  Northampton      England\n",
       "2         Jon Pertwee      7 July 1919   50       London      England\n",
       "0    William Hartnell        8/01/1908   55       London      England\n",
       "5         Colin Baker      8/June/1943   40       London      England"
      ]
     },
     "execution_count": 23,
     "metadata": {},
     "output_type": "execute_result"
    }
   ],
   "source": [
    "doctor_table.sort_values(['BirthDate'])"
   ]
  },
  {
   "cell_type": "code",
   "execution_count": 24,
   "metadata": {
    "collapsed": true
   },
   "outputs": [],
   "source": [
    "doctor_table['BirthDate'] = pd.to_datetime(doctor_table['BirthDate'])"
   ]
  },
  {
   "cell_type": "code",
   "execution_count": 25,
   "metadata": {},
   "outputs": [
    {
     "data": {
      "text/html": [
       "<div>\n",
       "<style>\n",
       "    .dataframe thead tr:only-child th {\n",
       "        text-align: right;\n",
       "    }\n",
       "\n",
       "    .dataframe thead th {\n",
       "        text-align: left;\n",
       "    }\n",
       "\n",
       "    .dataframe tbody tr th {\n",
       "        vertical-align: top;\n",
       "    }\n",
       "</style>\n",
       "<table border=\"1\" class=\"dataframe\">\n",
       "  <thead>\n",
       "    <tr style=\"text-align: right;\">\n",
       "      <th></th>\n",
       "      <th>Name</th>\n",
       "      <th>BirthDate</th>\n",
       "      <th>Age</th>\n",
       "      <th>BirthCity</th>\n",
       "      <th>BirthCountry</th>\n",
       "    </tr>\n",
       "  </thead>\n",
       "  <tbody>\n",
       "    <tr>\n",
       "      <th>0</th>\n",
       "      <td>William Hartnell</td>\n",
       "      <td>1908-08-01</td>\n",
       "      <td>55</td>\n",
       "      <td>London</td>\n",
       "      <td>England</td>\n",
       "    </tr>\n",
       "    <tr>\n",
       "      <th>2</th>\n",
       "      <td>Jon Pertwee</td>\n",
       "      <td>1919-07-07</td>\n",
       "      <td>50</td>\n",
       "      <td>London</td>\n",
       "      <td>England</td>\n",
       "    </tr>\n",
       "    <tr>\n",
       "      <th>1</th>\n",
       "      <td>Patrick Troughton</td>\n",
       "      <td>1920-03-25</td>\n",
       "      <td>46</td>\n",
       "      <td>London</td>\n",
       "      <td>England</td>\n",
       "    </tr>\n",
       "    <tr>\n",
       "      <th>3</th>\n",
       "      <td>Tom Baker</td>\n",
       "      <td>1934-01-20</td>\n",
       "      <td>40</td>\n",
       "      <td>Liverpool</td>\n",
       "      <td>England</td>\n",
       "    </tr>\n",
       "    <tr>\n",
       "      <th>8</th>\n",
       "      <td>John Hurt</td>\n",
       "      <td>1940-01-22</td>\n",
       "      <td>73</td>\n",
       "      <td>Derbyshire</td>\n",
       "      <td>England</td>\n",
       "    </tr>\n",
       "    <tr>\n",
       "      <th>5</th>\n",
       "      <td>Colin Baker</td>\n",
       "      <td>1943-06-08</td>\n",
       "      <td>40</td>\n",
       "      <td>London</td>\n",
       "      <td>England</td>\n",
       "    </tr>\n",
       "    <tr>\n",
       "      <th>6</th>\n",
       "      <td>Sylvester McCoy</td>\n",
       "      <td>1943-08-20</td>\n",
       "      <td>44</td>\n",
       "      <td>Dunoon</td>\n",
       "      <td>Scotland</td>\n",
       "    </tr>\n",
       "    <tr>\n",
       "      <th>4</th>\n",
       "      <td>Peter Davison</td>\n",
       "      <td>1951-04-13</td>\n",
       "      <td>29</td>\n",
       "      <td>London</td>\n",
       "      <td>England</td>\n",
       "    </tr>\n",
       "    <tr>\n",
       "      <th>12</th>\n",
       "      <td>Peter Capaldi</td>\n",
       "      <td>1958-04-14</td>\n",
       "      <td>55</td>\n",
       "      <td>Glasgow</td>\n",
       "      <td>Scotland</td>\n",
       "    </tr>\n",
       "    <tr>\n",
       "      <th>7</th>\n",
       "      <td>Paul McGann</td>\n",
       "      <td>1959-11-14</td>\n",
       "      <td>36</td>\n",
       "      <td>Liverpool</td>\n",
       "      <td>England</td>\n",
       "    </tr>\n",
       "    <tr>\n",
       "      <th>9</th>\n",
       "      <td>Chris Eccleston</td>\n",
       "      <td>1964-02-16</td>\n",
       "      <td>41</td>\n",
       "      <td>Salford</td>\n",
       "      <td>England</td>\n",
       "    </tr>\n",
       "    <tr>\n",
       "      <th>10</th>\n",
       "      <td>David Tennant</td>\n",
       "      <td>1971-04-18</td>\n",
       "      <td>34</td>\n",
       "      <td>Bathgate</td>\n",
       "      <td>Scotland</td>\n",
       "    </tr>\n",
       "    <tr>\n",
       "      <th>13</th>\n",
       "      <td>Jodie Whittaker</td>\n",
       "      <td>1982-06-03</td>\n",
       "      <td>35</td>\n",
       "      <td>Yorkshire</td>\n",
       "      <td>England</td>\n",
       "    </tr>\n",
       "    <tr>\n",
       "      <th>11</th>\n",
       "      <td>Matt Smith</td>\n",
       "      <td>1982-10-28</td>\n",
       "      <td>27</td>\n",
       "      <td>Northampton</td>\n",
       "      <td>England</td>\n",
       "    </tr>\n",
       "  </tbody>\n",
       "</table>\n",
       "</div>"
      ],
      "text/plain": [
       "                 Name  BirthDate  Age    BirthCity BirthCountry\n",
       "0    William Hartnell 1908-08-01   55       London      England\n",
       "2         Jon Pertwee 1919-07-07   50       London      England\n",
       "1   Patrick Troughton 1920-03-25   46       London      England\n",
       "3           Tom Baker 1934-01-20   40    Liverpool      England\n",
       "8           John Hurt 1940-01-22   73   Derbyshire      England\n",
       "5         Colin Baker 1943-06-08   40       London      England\n",
       "6     Sylvester McCoy 1943-08-20   44       Dunoon     Scotland\n",
       "4       Peter Davison 1951-04-13   29       London      England\n",
       "12      Peter Capaldi 1958-04-14   55      Glasgow     Scotland\n",
       "7         Paul McGann 1959-11-14   36    Liverpool      England\n",
       "9     Chris Eccleston 1964-02-16   41      Salford      England\n",
       "10      David Tennant 1971-04-18   34     Bathgate     Scotland\n",
       "13    Jodie Whittaker 1982-06-03   35    Yorkshire      England\n",
       "11         Matt Smith 1982-10-28   27  Northampton      England"
      ]
     },
     "execution_count": 25,
     "metadata": {},
     "output_type": "execute_result"
    }
   ],
   "source": [
    "doctor_table.sort_values(['BirthDate'])"
   ]
  },
  {
   "cell_type": "code",
   "execution_count": 26,
   "metadata": {},
   "outputs": [
    {
     "data": {
      "text/plain": [
       "datetime.date(2017, 10, 18)"
      ]
     },
     "execution_count": 26,
     "metadata": {},
     "output_type": "execute_result"
    }
   ],
   "source": [
    "today = datetime.date.today()\n",
    "\n",
    "today"
   ]
  },
  {
   "cell_type": "code",
   "execution_count": 27,
   "metadata": {
    "collapsed": true
   },
   "outputs": [],
   "source": [
    "age = today - doctor_table['BirthDate']"
   ]
  },
  {
   "cell_type": "code",
   "execution_count": 28,
   "metadata": {},
   "outputs": [
    {
     "data": {
      "text/plain": [
       "0    39890 days\n",
       "1    35636 days\n",
       "2    35898 days\n",
       "3    30587 days\n",
       "4    24295 days\n",
       "5    27161 days\n",
       "6    27088 days\n",
       "7    21158 days\n",
       "8    28394 days\n",
       "9    19603 days\n",
       "10   16985 days\n",
       "11   12774 days\n",
       "12   21737 days\n",
       "13   12921 days\n",
       "Name: BirthDate, dtype: timedelta64[ns]"
      ]
     },
     "execution_count": 28,
     "metadata": {},
     "output_type": "execute_result"
    }
   ],
   "source": [
    "age"
   ]
  },
  {
   "cell_type": "code",
   "execution_count": 29,
   "metadata": {},
   "outputs": [
    {
     "ename": "NameError",
     "evalue": "name 'np' is not defined",
     "output_type": "error",
     "traceback": [
      "\u001b[1;31m---------------------------------------------------------------------------\u001b[0m",
      "\u001b[1;31mNameError\u001b[0m                                 Traceback (most recent call last)",
      "\u001b[1;32m<ipython-input-29-90d1b5c82e14>\u001b[0m in \u001b[0;36m<module>\u001b[1;34m()\u001b[0m\n\u001b[1;32m----> 1\u001b[1;33m \u001b[0mdoctor_table\u001b[0m\u001b[1;33m[\u001b[0m\u001b[1;34m'AgeToday'\u001b[0m\u001b[1;33m]\u001b[0m \u001b[1;33m=\u001b[0m \u001b[0mage\u001b[0m \u001b[1;33m/\u001b[0m \u001b[0mnp\u001b[0m\u001b[1;33m.\u001b[0m\u001b[0mtimedelta64\u001b[0m\u001b[1;33m(\u001b[0m\u001b[1;36m1\u001b[0m\u001b[1;33m,\u001b[0m \u001b[1;34m'Y'\u001b[0m\u001b[1;33m)\u001b[0m\u001b[1;33m\u001b[0m\u001b[0m\n\u001b[0m",
      "\u001b[1;31mNameError\u001b[0m: name 'np' is not defined"
     ]
    }
   ],
   "source": [
    "doctor_table['AgeToday'] = age / np.timedelta64(1, 'Y')"
   ]
  },
  {
   "cell_type": "code",
   "execution_count": 30,
   "metadata": {},
   "outputs": [
    {
     "data": {
      "text/html": [
       "<div>\n",
       "<style>\n",
       "    .dataframe thead tr:only-child th {\n",
       "        text-align: right;\n",
       "    }\n",
       "\n",
       "    .dataframe thead th {\n",
       "        text-align: left;\n",
       "    }\n",
       "\n",
       "    .dataframe tbody tr th {\n",
       "        vertical-align: top;\n",
       "    }\n",
       "</style>\n",
       "<table border=\"1\" class=\"dataframe\">\n",
       "  <thead>\n",
       "    <tr style=\"text-align: right;\">\n",
       "      <th></th>\n",
       "      <th>Name</th>\n",
       "      <th>BirthDate</th>\n",
       "      <th>Age</th>\n",
       "      <th>BirthCity</th>\n",
       "      <th>BirthCountry</th>\n",
       "    </tr>\n",
       "  </thead>\n",
       "  <tbody>\n",
       "    <tr>\n",
       "      <th>0</th>\n",
       "      <td>William Hartnell</td>\n",
       "      <td>1908-08-01</td>\n",
       "      <td>55</td>\n",
       "      <td>London</td>\n",
       "      <td>England</td>\n",
       "    </tr>\n",
       "    <tr>\n",
       "      <th>1</th>\n",
       "      <td>Patrick Troughton</td>\n",
       "      <td>1920-03-25</td>\n",
       "      <td>46</td>\n",
       "      <td>London</td>\n",
       "      <td>England</td>\n",
       "    </tr>\n",
       "    <tr>\n",
       "      <th>2</th>\n",
       "      <td>Jon Pertwee</td>\n",
       "      <td>1919-07-07</td>\n",
       "      <td>50</td>\n",
       "      <td>London</td>\n",
       "      <td>England</td>\n",
       "    </tr>\n",
       "    <tr>\n",
       "      <th>3</th>\n",
       "      <td>Tom Baker</td>\n",
       "      <td>1934-01-20</td>\n",
       "      <td>40</td>\n",
       "      <td>Liverpool</td>\n",
       "      <td>England</td>\n",
       "    </tr>\n",
       "    <tr>\n",
       "      <th>4</th>\n",
       "      <td>Peter Davison</td>\n",
       "      <td>1951-04-13</td>\n",
       "      <td>29</td>\n",
       "      <td>London</td>\n",
       "      <td>England</td>\n",
       "    </tr>\n",
       "    <tr>\n",
       "      <th>5</th>\n",
       "      <td>Colin Baker</td>\n",
       "      <td>1943-06-08</td>\n",
       "      <td>40</td>\n",
       "      <td>London</td>\n",
       "      <td>England</td>\n",
       "    </tr>\n",
       "    <tr>\n",
       "      <th>6</th>\n",
       "      <td>Sylvester McCoy</td>\n",
       "      <td>1943-08-20</td>\n",
       "      <td>44</td>\n",
       "      <td>Dunoon</td>\n",
       "      <td>Scotland</td>\n",
       "    </tr>\n",
       "    <tr>\n",
       "      <th>7</th>\n",
       "      <td>Paul McGann</td>\n",
       "      <td>1959-11-14</td>\n",
       "      <td>36</td>\n",
       "      <td>Liverpool</td>\n",
       "      <td>England</td>\n",
       "    </tr>\n",
       "    <tr>\n",
       "      <th>8</th>\n",
       "      <td>John Hurt</td>\n",
       "      <td>1940-01-22</td>\n",
       "      <td>73</td>\n",
       "      <td>Derbyshire</td>\n",
       "      <td>England</td>\n",
       "    </tr>\n",
       "    <tr>\n",
       "      <th>9</th>\n",
       "      <td>Chris Eccleston</td>\n",
       "      <td>1964-02-16</td>\n",
       "      <td>41</td>\n",
       "      <td>Salford</td>\n",
       "      <td>England</td>\n",
       "    </tr>\n",
       "    <tr>\n",
       "      <th>10</th>\n",
       "      <td>David Tennant</td>\n",
       "      <td>1971-04-18</td>\n",
       "      <td>34</td>\n",
       "      <td>Bathgate</td>\n",
       "      <td>Scotland</td>\n",
       "    </tr>\n",
       "    <tr>\n",
       "      <th>11</th>\n",
       "      <td>Matt Smith</td>\n",
       "      <td>1982-10-28</td>\n",
       "      <td>27</td>\n",
       "      <td>Northampton</td>\n",
       "      <td>England</td>\n",
       "    </tr>\n",
       "    <tr>\n",
       "      <th>12</th>\n",
       "      <td>Peter Capaldi</td>\n",
       "      <td>1958-04-14</td>\n",
       "      <td>55</td>\n",
       "      <td>Glasgow</td>\n",
       "      <td>Scotland</td>\n",
       "    </tr>\n",
       "    <tr>\n",
       "      <th>13</th>\n",
       "      <td>Jodie Whittaker</td>\n",
       "      <td>1982-06-03</td>\n",
       "      <td>35</td>\n",
       "      <td>Yorkshire</td>\n",
       "      <td>England</td>\n",
       "    </tr>\n",
       "  </tbody>\n",
       "</table>\n",
       "</div>"
      ],
      "text/plain": [
       "                 Name  BirthDate  Age    BirthCity BirthCountry\n",
       "0    William Hartnell 1908-08-01   55       London      England\n",
       "1   Patrick Troughton 1920-03-25   46       London      England\n",
       "2         Jon Pertwee 1919-07-07   50       London      England\n",
       "3           Tom Baker 1934-01-20   40    Liverpool      England\n",
       "4       Peter Davison 1951-04-13   29       London      England\n",
       "5         Colin Baker 1943-06-08   40       London      England\n",
       "6     Sylvester McCoy 1943-08-20   44       Dunoon     Scotland\n",
       "7         Paul McGann 1959-11-14   36    Liverpool      England\n",
       "8           John Hurt 1940-01-22   73   Derbyshire      England\n",
       "9     Chris Eccleston 1964-02-16   41      Salford      England\n",
       "10      David Tennant 1971-04-18   34     Bathgate     Scotland\n",
       "11         Matt Smith 1982-10-28   27  Northampton      England\n",
       "12      Peter Capaldi 1958-04-14   55      Glasgow     Scotland\n",
       "13    Jodie Whittaker 1982-06-03   35    Yorkshire      England"
      ]
     },
     "execution_count": 30,
     "metadata": {},
     "output_type": "execute_result"
    }
   ],
   "source": [
    "doctor_table"
   ]
  },
  {
   "cell_type": "code",
   "execution_count": 31,
   "metadata": {},
   "outputs": [
    {
     "data": {
      "text/html": [
       "<div>\n",
       "<style>\n",
       "    .dataframe thead tr:only-child th {\n",
       "        text-align: right;\n",
       "    }\n",
       "\n",
       "    .dataframe thead th {\n",
       "        text-align: left;\n",
       "    }\n",
       "\n",
       "    .dataframe tbody tr th {\n",
       "        vertical-align: top;\n",
       "    }\n",
       "</style>\n",
       "<table border=\"1\" class=\"dataframe\">\n",
       "  <thead>\n",
       "    <tr style=\"text-align: right;\">\n",
       "      <th></th>\n",
       "      <th>Age</th>\n",
       "    </tr>\n",
       "  </thead>\n",
       "  <tbody>\n",
       "    <tr>\n",
       "      <th>count</th>\n",
       "      <td>14.000000</td>\n",
       "    </tr>\n",
       "    <tr>\n",
       "      <th>mean</th>\n",
       "      <td>43.214286</td>\n",
       "    </tr>\n",
       "    <tr>\n",
       "      <th>std</th>\n",
       "      <td>12.135001</td>\n",
       "    </tr>\n",
       "    <tr>\n",
       "      <th>min</th>\n",
       "      <td>27.000000</td>\n",
       "    </tr>\n",
       "    <tr>\n",
       "      <th>25%</th>\n",
       "      <td>35.250000</td>\n",
       "    </tr>\n",
       "    <tr>\n",
       "      <th>50%</th>\n",
       "      <td>40.500000</td>\n",
       "    </tr>\n",
       "    <tr>\n",
       "      <th>75%</th>\n",
       "      <td>49.000000</td>\n",
       "    </tr>\n",
       "    <tr>\n",
       "      <th>max</th>\n",
       "      <td>73.000000</td>\n",
       "    </tr>\n",
       "  </tbody>\n",
       "</table>\n",
       "</div>"
      ],
      "text/plain": [
       "             Age\n",
       "count  14.000000\n",
       "mean   43.214286\n",
       "std    12.135001\n",
       "min    27.000000\n",
       "25%    35.250000\n",
       "50%    40.500000\n",
       "75%    49.000000\n",
       "max    73.000000"
      ]
     },
     "execution_count": 31,
     "metadata": {},
     "output_type": "execute_result"
    }
   ],
   "source": [
    "doctor_table.describe()"
   ]
  },
  {
   "cell_type": "markdown",
   "metadata": {},
   "source": [
    "---\n",
    "\n",
    "# Messy Data\n",
    "\n",
    "* `Pandas` is a good choice when working with messy data files.\n",
    "* In the \"real world\" all data is messy.\n",
    "* For example, here is the contents of the file `Mess.csv`:"
   ]
  },
  {
   "cell_type": "raw",
   "metadata": {
    "collapsed": true
   },
   "source": [
    "#######################################################\n",
    "#\n",
    "# Col 1 - Name\n",
    "# Col 2 - Size (km)\n",
    "#\n",
    "#######################################################\n",
    "\"Sample 1\",10\n",
    "\"\",23\n",
    ",\n",
    "\"Another Sample\","
   ]
  },
  {
   "cell_type": "markdown",
   "metadata": {},
   "source": [
    "## This is not going to end well ..."
   ]
  },
  {
   "cell_type": "code",
   "execution_count": 32,
   "metadata": {},
   "outputs": [
    {
     "ename": "ParserError",
     "evalue": "Error tokenizing data. C error: Expected 1 fields in line 7, saw 2\n",
     "output_type": "error",
     "traceback": [
      "\u001b[1;31m---------------------------------------------------------------------------\u001b[0m",
      "\u001b[1;31mParserError\u001b[0m                               Traceback (most recent call last)",
      "\u001b[1;32m<ipython-input-32-26fe3f499b5e>\u001b[0m in \u001b[0;36m<module>\u001b[1;34m()\u001b[0m\n\u001b[1;32m----> 1\u001b[1;33m \u001b[0mmessy_table\u001b[0m \u001b[1;33m=\u001b[0m \u001b[0mpd\u001b[0m\u001b[1;33m.\u001b[0m\u001b[0mread_csv\u001b[0m\u001b[1;33m(\u001b[0m\u001b[1;34m'Mess.csv'\u001b[0m\u001b[1;33m)\u001b[0m\u001b[1;33m\u001b[0m\u001b[0m\n\u001b[0m",
      "\u001b[1;32m~\\Miniconda3\\lib\\site-packages\\pandas\\io\\parsers.py\u001b[0m in \u001b[0;36mparser_f\u001b[1;34m(filepath_or_buffer, sep, delimiter, header, names, index_col, usecols, squeeze, prefix, mangle_dupe_cols, dtype, engine, converters, true_values, false_values, skipinitialspace, skiprows, nrows, na_values, keep_default_na, na_filter, verbose, skip_blank_lines, parse_dates, infer_datetime_format, keep_date_col, date_parser, dayfirst, iterator, chunksize, compression, thousands, decimal, lineterminator, quotechar, quoting, escapechar, comment, encoding, dialect, tupleize_cols, error_bad_lines, warn_bad_lines, skipfooter, skip_footer, doublequote, delim_whitespace, as_recarray, compact_ints, use_unsigned, low_memory, buffer_lines, memory_map, float_precision)\u001b[0m\n\u001b[0;32m    653\u001b[0m                     skip_blank_lines=skip_blank_lines)\n\u001b[0;32m    654\u001b[0m \u001b[1;33m\u001b[0m\u001b[0m\n\u001b[1;32m--> 655\u001b[1;33m         \u001b[1;32mreturn\u001b[0m \u001b[0m_read\u001b[0m\u001b[1;33m(\u001b[0m\u001b[0mfilepath_or_buffer\u001b[0m\u001b[1;33m,\u001b[0m \u001b[0mkwds\u001b[0m\u001b[1;33m)\u001b[0m\u001b[1;33m\u001b[0m\u001b[0m\n\u001b[0m\u001b[0;32m    656\u001b[0m \u001b[1;33m\u001b[0m\u001b[0m\n\u001b[0;32m    657\u001b[0m     \u001b[0mparser_f\u001b[0m\u001b[1;33m.\u001b[0m\u001b[0m__name__\u001b[0m \u001b[1;33m=\u001b[0m \u001b[0mname\u001b[0m\u001b[1;33m\u001b[0m\u001b[0m\n",
      "\u001b[1;32m~\\Miniconda3\\lib\\site-packages\\pandas\\io\\parsers.py\u001b[0m in \u001b[0;36m_read\u001b[1;34m(filepath_or_buffer, kwds)\u001b[0m\n\u001b[0;32m    409\u001b[0m \u001b[1;33m\u001b[0m\u001b[0m\n\u001b[0;32m    410\u001b[0m     \u001b[1;32mtry\u001b[0m\u001b[1;33m:\u001b[0m\u001b[1;33m\u001b[0m\u001b[0m\n\u001b[1;32m--> 411\u001b[1;33m         \u001b[0mdata\u001b[0m \u001b[1;33m=\u001b[0m \u001b[0mparser\u001b[0m\u001b[1;33m.\u001b[0m\u001b[0mread\u001b[0m\u001b[1;33m(\u001b[0m\u001b[0mnrows\u001b[0m\u001b[1;33m)\u001b[0m\u001b[1;33m\u001b[0m\u001b[0m\n\u001b[0m\u001b[0;32m    412\u001b[0m     \u001b[1;32mfinally\u001b[0m\u001b[1;33m:\u001b[0m\u001b[1;33m\u001b[0m\u001b[0m\n\u001b[0;32m    413\u001b[0m         \u001b[0mparser\u001b[0m\u001b[1;33m.\u001b[0m\u001b[0mclose\u001b[0m\u001b[1;33m(\u001b[0m\u001b[1;33m)\u001b[0m\u001b[1;33m\u001b[0m\u001b[0m\n",
      "\u001b[1;32m~\\Miniconda3\\lib\\site-packages\\pandas\\io\\parsers.py\u001b[0m in \u001b[0;36mread\u001b[1;34m(self, nrows)\u001b[0m\n\u001b[0;32m   1003\u001b[0m                 \u001b[1;32mraise\u001b[0m \u001b[0mValueError\u001b[0m\u001b[1;33m(\u001b[0m\u001b[1;34m'skipfooter not supported for iteration'\u001b[0m\u001b[1;33m)\u001b[0m\u001b[1;33m\u001b[0m\u001b[0m\n\u001b[0;32m   1004\u001b[0m \u001b[1;33m\u001b[0m\u001b[0m\n\u001b[1;32m-> 1005\u001b[1;33m         \u001b[0mret\u001b[0m \u001b[1;33m=\u001b[0m \u001b[0mself\u001b[0m\u001b[1;33m.\u001b[0m\u001b[0m_engine\u001b[0m\u001b[1;33m.\u001b[0m\u001b[0mread\u001b[0m\u001b[1;33m(\u001b[0m\u001b[0mnrows\u001b[0m\u001b[1;33m)\u001b[0m\u001b[1;33m\u001b[0m\u001b[0m\n\u001b[0m\u001b[0;32m   1006\u001b[0m \u001b[1;33m\u001b[0m\u001b[0m\n\u001b[0;32m   1007\u001b[0m         \u001b[1;32mif\u001b[0m \u001b[0mself\u001b[0m\u001b[1;33m.\u001b[0m\u001b[0moptions\u001b[0m\u001b[1;33m.\u001b[0m\u001b[0mget\u001b[0m\u001b[1;33m(\u001b[0m\u001b[1;34m'as_recarray'\u001b[0m\u001b[1;33m)\u001b[0m\u001b[1;33m:\u001b[0m\u001b[1;33m\u001b[0m\u001b[0m\n",
      "\u001b[1;32m~\\Miniconda3\\lib\\site-packages\\pandas\\io\\parsers.py\u001b[0m in \u001b[0;36mread\u001b[1;34m(self, nrows)\u001b[0m\n\u001b[0;32m   1746\u001b[0m     \u001b[1;32mdef\u001b[0m \u001b[0mread\u001b[0m\u001b[1;33m(\u001b[0m\u001b[0mself\u001b[0m\u001b[1;33m,\u001b[0m \u001b[0mnrows\u001b[0m\u001b[1;33m=\u001b[0m\u001b[1;32mNone\u001b[0m\u001b[1;33m)\u001b[0m\u001b[1;33m:\u001b[0m\u001b[1;33m\u001b[0m\u001b[0m\n\u001b[0;32m   1747\u001b[0m         \u001b[1;32mtry\u001b[0m\u001b[1;33m:\u001b[0m\u001b[1;33m\u001b[0m\u001b[0m\n\u001b[1;32m-> 1748\u001b[1;33m             \u001b[0mdata\u001b[0m \u001b[1;33m=\u001b[0m \u001b[0mself\u001b[0m\u001b[1;33m.\u001b[0m\u001b[0m_reader\u001b[0m\u001b[1;33m.\u001b[0m\u001b[0mread\u001b[0m\u001b[1;33m(\u001b[0m\u001b[0mnrows\u001b[0m\u001b[1;33m)\u001b[0m\u001b[1;33m\u001b[0m\u001b[0m\n\u001b[0m\u001b[0;32m   1749\u001b[0m         \u001b[1;32mexcept\u001b[0m \u001b[0mStopIteration\u001b[0m\u001b[1;33m:\u001b[0m\u001b[1;33m\u001b[0m\u001b[0m\n\u001b[0;32m   1750\u001b[0m             \u001b[1;32mif\u001b[0m \u001b[0mself\u001b[0m\u001b[1;33m.\u001b[0m\u001b[0m_first_chunk\u001b[0m\u001b[1;33m:\u001b[0m\u001b[1;33m\u001b[0m\u001b[0m\n",
      "\u001b[1;32mpandas\\_libs\\parsers.pyx\u001b[0m in \u001b[0;36mpandas._libs.parsers.TextReader.read (pandas\\_libs\\parsers.c:10862)\u001b[1;34m()\u001b[0m\n",
      "\u001b[1;32mpandas\\_libs\\parsers.pyx\u001b[0m in \u001b[0;36mpandas._libs.parsers.TextReader._read_low_memory (pandas\\_libs\\parsers.c:11138)\u001b[1;34m()\u001b[0m\n",
      "\u001b[1;32mpandas\\_libs\\parsers.pyx\u001b[0m in \u001b[0;36mpandas._libs.parsers.TextReader._read_rows (pandas\\_libs\\parsers.c:11884)\u001b[1;34m()\u001b[0m\n",
      "\u001b[1;32mpandas\\_libs\\parsers.pyx\u001b[0m in \u001b[0;36mpandas._libs.parsers.TextReader._tokenize_rows (pandas\\_libs\\parsers.c:11755)\u001b[1;34m()\u001b[0m\n",
      "\u001b[1;32mpandas\\_libs\\parsers.pyx\u001b[0m in \u001b[0;36mpandas._libs.parsers.raise_parser_error (pandas\\_libs\\parsers.c:28765)\u001b[1;34m()\u001b[0m\n",
      "\u001b[1;31mParserError\u001b[0m: Error tokenizing data. C error: Expected 1 fields in line 7, saw 2\n"
     ]
    }
   ],
   "source": [
    "messy_table = pd.read_csv('Mess.csv')"
   ]
  },
  {
   "cell_type": "markdown",
   "metadata": {},
   "source": [
    "## Skip the header"
   ]
  },
  {
   "cell_type": "code",
   "execution_count": 33,
   "metadata": {},
   "outputs": [
    {
     "data": {
      "text/html": [
       "<div>\n",
       "<style>\n",
       "    .dataframe thead tr:only-child th {\n",
       "        text-align: right;\n",
       "    }\n",
       "\n",
       "    .dataframe thead th {\n",
       "        text-align: left;\n",
       "    }\n",
       "\n",
       "    .dataframe tbody tr th {\n",
       "        vertical-align: top;\n",
       "    }\n",
       "</style>\n",
       "<table border=\"1\" class=\"dataframe\">\n",
       "  <thead>\n",
       "    <tr style=\"text-align: right;\">\n",
       "      <th></th>\n",
       "      <th>Sample 1</th>\n",
       "      <th>10</th>\n",
       "    </tr>\n",
       "  </thead>\n",
       "  <tbody>\n",
       "    <tr>\n",
       "      <th>0</th>\n",
       "      <td>NaN</td>\n",
       "      <td>23.0</td>\n",
       "    </tr>\n",
       "    <tr>\n",
       "      <th>1</th>\n",
       "      <td>NaN</td>\n",
       "      <td>NaN</td>\n",
       "    </tr>\n",
       "    <tr>\n",
       "      <th>2</th>\n",
       "      <td>Another Sample</td>\n",
       "      <td>NaN</td>\n",
       "    </tr>\n",
       "  </tbody>\n",
       "</table>\n",
       "</div>"
      ],
      "text/plain": [
       "         Sample 1    10\n",
       "0             NaN  23.0\n",
       "1             NaN   NaN\n",
       "2  Another Sample   NaN"
      ]
     },
     "execution_count": 33,
     "metadata": {},
     "output_type": "execute_result"
    }
   ],
   "source": [
    "messy_table = pd.read_csv('Mess.csv', skiprows = 6)\n",
    "\n",
    "messy_table"
   ]
  },
  {
   "cell_type": "markdown",
   "metadata": {},
   "source": [
    "`NaN` = Not_A_Number, python's null value"
   ]
  },
  {
   "cell_type": "markdown",
   "metadata": {},
   "source": [
    "## Column names are messed up"
   ]
  },
  {
   "cell_type": "markdown",
   "metadata": {},
   "source": [
    "### Option 1 - Turn off the header"
   ]
  },
  {
   "cell_type": "code",
   "execution_count": 34,
   "metadata": {},
   "outputs": [
    {
     "data": {
      "text/html": [
       "<div>\n",
       "<style>\n",
       "    .dataframe thead tr:only-child th {\n",
       "        text-align: right;\n",
       "    }\n",
       "\n",
       "    .dataframe thead th {\n",
       "        text-align: left;\n",
       "    }\n",
       "\n",
       "    .dataframe tbody tr th {\n",
       "        vertical-align: top;\n",
       "    }\n",
       "</style>\n",
       "<table border=\"1\" class=\"dataframe\">\n",
       "  <thead>\n",
       "    <tr style=\"text-align: right;\">\n",
       "      <th></th>\n",
       "      <th>0</th>\n",
       "      <th>1</th>\n",
       "    </tr>\n",
       "  </thead>\n",
       "  <tbody>\n",
       "    <tr>\n",
       "      <th>0</th>\n",
       "      <td>Sample 1</td>\n",
       "      <td>10.0</td>\n",
       "    </tr>\n",
       "    <tr>\n",
       "      <th>1</th>\n",
       "      <td>NaN</td>\n",
       "      <td>23.0</td>\n",
       "    </tr>\n",
       "    <tr>\n",
       "      <th>2</th>\n",
       "      <td>NaN</td>\n",
       "      <td>NaN</td>\n",
       "    </tr>\n",
       "    <tr>\n",
       "      <th>3</th>\n",
       "      <td>Another Sample</td>\n",
       "      <td>NaN</td>\n",
       "    </tr>\n",
       "  </tbody>\n",
       "</table>\n",
       "</div>"
      ],
      "text/plain": [
       "                0     1\n",
       "0        Sample 1  10.0\n",
       "1             NaN  23.0\n",
       "2             NaN   NaN\n",
       "3  Another Sample   NaN"
      ]
     },
     "execution_count": 34,
     "metadata": {},
     "output_type": "execute_result"
    }
   ],
   "source": [
    "messy_table = pd.read_csv('Mess.csv', skiprows = 6, header= None)\n",
    "\n",
    "messy_table"
   ]
  },
  {
   "cell_type": "markdown",
   "metadata": {},
   "source": [
    "### Option 2 - Add the column names"
   ]
  },
  {
   "cell_type": "code",
   "execution_count": 35,
   "metadata": {},
   "outputs": [
    {
     "data": {
      "text/html": [
       "<div>\n",
       "<style>\n",
       "    .dataframe thead tr:only-child th {\n",
       "        text-align: right;\n",
       "    }\n",
       "\n",
       "    .dataframe thead th {\n",
       "        text-align: left;\n",
       "    }\n",
       "\n",
       "    .dataframe tbody tr th {\n",
       "        vertical-align: top;\n",
       "    }\n",
       "</style>\n",
       "<table border=\"1\" class=\"dataframe\">\n",
       "  <thead>\n",
       "    <tr style=\"text-align: right;\">\n",
       "      <th></th>\n",
       "      <th>Name</th>\n",
       "      <th>Size</th>\n",
       "    </tr>\n",
       "  </thead>\n",
       "  <tbody>\n",
       "    <tr>\n",
       "      <th>0</th>\n",
       "      <td>Sample 1</td>\n",
       "      <td>10.0</td>\n",
       "    </tr>\n",
       "    <tr>\n",
       "      <th>1</th>\n",
       "      <td>NaN</td>\n",
       "      <td>23.0</td>\n",
       "    </tr>\n",
       "    <tr>\n",
       "      <th>2</th>\n",
       "      <td>NaN</td>\n",
       "      <td>NaN</td>\n",
       "    </tr>\n",
       "    <tr>\n",
       "      <th>3</th>\n",
       "      <td>Another Sample</td>\n",
       "      <td>NaN</td>\n",
       "    </tr>\n",
       "  </tbody>\n",
       "</table>\n",
       "</div>"
      ],
      "text/plain": [
       "             Name  Size\n",
       "0        Sample 1  10.0\n",
       "1             NaN  23.0\n",
       "2             NaN   NaN\n",
       "3  Another Sample   NaN"
      ]
     },
     "execution_count": 35,
     "metadata": {},
     "output_type": "execute_result"
    }
   ],
   "source": [
    "cols = [\"Name\", \"Size\"]\n",
    "\n",
    "messy_table = pd.read_csv('Mess.csv', skiprows = 6, names = cols)\n",
    "\n",
    "messy_table"
   ]
  },
  {
   "cell_type": "markdown",
   "metadata": {},
   "source": [
    "### Deal with the missing data with `fillna()`"
   ]
  },
  {
   "cell_type": "code",
   "execution_count": 36,
   "metadata": {},
   "outputs": [
    {
     "data": {
      "text/html": [
       "<div>\n",
       "<style>\n",
       "    .dataframe thead tr:only-child th {\n",
       "        text-align: right;\n",
       "    }\n",
       "\n",
       "    .dataframe thead th {\n",
       "        text-align: left;\n",
       "    }\n",
       "\n",
       "    .dataframe tbody tr th {\n",
       "        vertical-align: top;\n",
       "    }\n",
       "</style>\n",
       "<table border=\"1\" class=\"dataframe\">\n",
       "  <thead>\n",
       "    <tr style=\"text-align: right;\">\n",
       "      <th></th>\n",
       "      <th>Name</th>\n",
       "      <th>Size</th>\n",
       "    </tr>\n",
       "  </thead>\n",
       "  <tbody>\n",
       "    <tr>\n",
       "      <th>0</th>\n",
       "      <td>Sample 1</td>\n",
       "      <td>10.0</td>\n",
       "    </tr>\n",
       "    <tr>\n",
       "      <th>1</th>\n",
       "      <td>unknown</td>\n",
       "      <td>23.0</td>\n",
       "    </tr>\n",
       "    <tr>\n",
       "      <th>2</th>\n",
       "      <td>unknown</td>\n",
       "      <td>999.0</td>\n",
       "    </tr>\n",
       "    <tr>\n",
       "      <th>3</th>\n",
       "      <td>Another Sample</td>\n",
       "      <td>999.0</td>\n",
       "    </tr>\n",
       "  </tbody>\n",
       "</table>\n",
       "</div>"
      ],
      "text/plain": [
       "             Name   Size\n",
       "0        Sample 1   10.0\n",
       "1         unknown   23.0\n",
       "2         unknown  999.0\n",
       "3  Another Sample  999.0"
      ]
     },
     "execution_count": 36,
     "metadata": {},
     "output_type": "execute_result"
    }
   ],
   "source": [
    "messy_table['Name'].fillna(\"unknown\", inplace=True)\n",
    "messy_table['Size'].fillna(999.0, inplace=True)\n",
    "\n",
    "messy_table"
   ]
  },
  {
   "cell_type": "code",
   "execution_count": null,
   "metadata": {
    "collapsed": true
   },
   "outputs": [],
   "source": []
  },
  {
   "cell_type": "code",
   "execution_count": null,
   "metadata": {
    "collapsed": true
   },
   "outputs": [],
   "source": []
  }
 ],
 "metadata": {
  "anaconda-cloud": {},
  "kernelspec": {
   "display_name": "Python 3",
   "language": "python",
   "name": "python3"
  },
  "language_info": {
   "codemirror_mode": {
    "name": "ipython",
    "version": 3
   },
   "file_extension": ".py",
   "mimetype": "text/x-python",
   "name": "python",
   "nbconvert_exporter": "python",
   "pygments_lexer": "ipython3",
   "version": "3.6.2"
  }
 },
 "nbformat": 4,
 "nbformat_minor": 1
}
